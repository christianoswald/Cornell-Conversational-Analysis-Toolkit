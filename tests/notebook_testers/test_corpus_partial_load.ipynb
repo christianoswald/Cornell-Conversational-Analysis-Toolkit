{
 "cells": [
  {
   "cell_type": "code",
   "execution_count": 1,
   "metadata": {},
   "outputs": [
    {
     "name": "stderr",
     "output_type": "stream",
     "text": [
      "/Library/Frameworks/Python.framework/Versions/3.7/lib/python3.7/site-packages/sklearn/externals/joblib/__init__.py:15: DeprecationWarning: sklearn.externals.joblib is deprecated in 0.21 and will be removed in 0.23. Please import this functionality directly from joblib, which can be installed with: pip install joblib. If this warning is raised when loading pickled models, you may need to re-serialize those models with scikit-learn 0.21+.\n",
      "  warnings.warn(msg, category=DeprecationWarning)\n"
     ]
    }
   ],
   "source": [
    "import os\n",
    "os.chdir(\"..\")\n",
    "import convokit\n",
    "from convokit import Utterance, Corpus, User\n",
    "os.chdir(\"./tests\")"
   ]
  },
  {
   "cell_type": "code",
   "execution_count": 2,
   "metadata": {},
   "outputs": [
    {
     "name": "stdout",
     "output_type": "stream",
     "text": [
      "Dataset already exists at /Users/calebchiam/.convokit/downloads/wikiconv-2004\n"
     ]
    }
   ],
   "source": [
    "corpus = Corpus(filename=convokit.download(\"wikiconv-2004\"))\n"
   ]
  },
  {
   "cell_type": "code",
   "execution_count": 3,
   "metadata": {},
   "outputs": [
    {
     "name": "stdout",
     "output_type": "stream",
     "text": [
      "613608\n"
     ]
    }
   ],
   "source": [
    "num_utterances = len(list(corpus.iter_utterances()))\n",
    "print(num_utterances)"
   ]
  },
  {
   "cell_type": "code",
   "execution_count": 4,
   "metadata": {},
   "outputs": [
    {
     "name": "stdout",
     "output_type": "stream",
     "text": [
      "Number of Users: 34235\n",
      "Number of Utterances: 613608\n",
      "Number of Conversations: 303494\n"
     ]
    }
   ],
   "source": [
    "corpus.print_summary_stats()"
   ]
  },
  {
   "cell_type": "code",
   "execution_count": 5,
   "metadata": {},
   "outputs": [],
   "source": [
    "def get_user_stats(user):\n",
    "    print(user)\n",
    "    print(user.meta)\n",
    "    print(\"No. of user convos\", len(list(user.iter_conversations())))\n",
    "    print(\"No. of user utts\", len(list(user.iter_utterances())))"
   ]
  },
  {
   "cell_type": "code",
   "execution_count": 6,
   "metadata": {},
   "outputs": [
    {
     "name": "stdout",
     "output_type": "stream",
     "text": [
      "User('id': Jonel, 'meta': {'user_id': '56176'})\n",
      "{'user_id': '56176'}\n",
      "No. of user convos 45\n",
      "No. of user utts 60\n"
     ]
    }
   ],
   "source": [
    "random_user = list(corpus.iter_users())[544]\n",
    "get_user_stats(random_user)"
   ]
  },
  {
   "cell_type": "code",
   "execution_count": 7,
   "metadata": {},
   "outputs": [
    {
     "name": "stdout",
     "output_type": "stream",
     "text": [
      "Dataset already exists at /Users/calebchiam/.convokit/downloads/wikiconv-2004\n"
     ]
    }
   ],
   "source": [
    "corpus1 = Corpus(filename=convokit.download(\"wikiconv-2004\"), utterance_end_index=num_utterances//2)"
   ]
  },
  {
   "cell_type": "code",
   "execution_count": 8,
   "metadata": {},
   "outputs": [
    {
     "name": "stdout",
     "output_type": "stream",
     "text": [
      "Number of Users: 21232\n",
      "Number of Utterances: 306805\n",
      "Number of Conversations: 152778\n"
     ]
    }
   ],
   "source": [
    "corpus1.print_summary_stats()"
   ]
  },
  {
   "cell_type": "code",
   "execution_count": 9,
   "metadata": {},
   "outputs": [
    {
     "name": "stdout",
     "output_type": "stream",
     "text": [
      "User('id': Jonel, 'meta': {'user_id': '56176'})\n",
      "{'user_id': '56176'}\n",
      "No. of user convos 18\n",
      "No. of user utts 20\n"
     ]
    }
   ],
   "source": [
    "get_user_stats(corpus1.get_user('Jonel'))"
   ]
  },
  {
   "cell_type": "code",
   "execution_count": 10,
   "metadata": {},
   "outputs": [
    {
     "name": "stdout",
     "output_type": "stream",
     "text": [
      "Dataset already exists at /Users/calebchiam/.convokit/downloads/wikiconv-2004\n"
     ]
    }
   ],
   "source": [
    "# just for kicks, we start the index a little earlier so we have some overlap\n",
    "corpus2 = Corpus(filename=convokit.download(\"wikiconv-2004\"), utterance_start_index=num_utterances//2 - 100)"
   ]
  },
  {
   "cell_type": "code",
   "execution_count": 11,
   "metadata": {},
   "outputs": [
    {
     "name": "stdout",
     "output_type": "stream",
     "text": [
      "Number of Users: 20936\n",
      "Number of Utterances: 306904\n",
      "Number of Conversations: 150742\n"
     ]
    }
   ],
   "source": [
    "corpus2.print_summary_stats()"
   ]
  },
  {
   "cell_type": "code",
   "execution_count": 12,
   "metadata": {},
   "outputs": [
    {
     "name": "stdout",
     "output_type": "stream",
     "text": [
      "User('id': Jonel, 'meta': {'user_id': '56176'})\n",
      "{'user_id': '56176'}\n",
      "No. of user convos 27\n",
      "No. of user utts 40\n"
     ]
    }
   ],
   "source": [
    "get_user_stats(corpus2.get_user('Jonel'))"
   ]
  },
  {
   "cell_type": "code",
   "execution_count": 13,
   "metadata": {},
   "outputs": [
    {
     "name": "stdout",
     "output_type": "stream",
     "text": [
      "Utterance('id': '4748336.0.5677', 'root': 1056741.4980.4980, 'reply-to': None, 'user': User('id': Quadell, 'meta': {'user_id': '57108'}), 'timestamp': 1090342452, 'text': ' ', 'meta': {'is_section_header': True, 'indentation': '0', 'toxicity': 0.2966602, 'sever_toxicity': 0.1411309, 'ancestor_id': '1056741.4980.4980', 'rev_id': '1056741', 'parent_id': None, 'original': ({'id': '1056741.4980.4980', 'user': ({'_name': 'Axon', '_info': {'user_id': '2028'}, '_split_attribs': set(), '_uid': \"User([('name', 'Axon')])\"}), 'root': '1056741.4980.4980', 'reply_to': None, 'timestamp': 1055975378.0, 'text': \"''Islamaphobia has a number of causes.  One of the current causes is the fear of the Islamist movement, a modern puritanical, fundamentalist form of Islam. Many people mistakenly believe that most Muslims are Islamist, when in fact the Islamist movement currently is a minority position. Many people in Western society, as well as many fundamentalist Muslims, see Islam as directly opposed to the enlightenment values, feminism, democracy and capitalism.''\\nOn second thoughts, this paragraph is highly POV: it seems to assert that Islamaphobia against all Muslims is somehow justified by the actions of a few members of that religion.\\nFirst of all, despite the fact I live in a Western nation that has one of the West's largest Muslim populations, I've never heard of 'Islamism'. It saddens me that people, mainly it seems from America, feel the need to invent terms like 'Islamism' and chuck everyone they don't like into the same box. It's a particularly nasty and pejorative term, chosen, one assumes, for its similarities to Racism and Facism. Its almost as obviously invented as the term 'Islamaphobia' itself, which is, one assumes, why it has been added to this article in the first place, and repeated as much as possible.\\nWhy not simply use the term 'muslim fundamentalist'? I suppose Islamism denotes some sort of organisation and collective thinking, feeding nicely into people's prejudices and conspiratorial paranoia. It always seems to me that the fundamentalists are disparate groups that perhaps share common goals, but in truth rarely agree, even amongst themselves. Many are hardly what could be considered organised, or even a single 'movement'.\\nAh, the power of definitions and words. Get there first and the world's your oyster. Perhaps I could invent a term for fundamentalist Jewish opposition to Islam? 'Jewism' I suppose? It has an unpleasant ring, I'm sure it will be very popular. Or perhaps I don't want to descend into such a dirty game.\\nAnyway, liberal angst and despaired monologue over with.\\nThat aside, what are 'enlightenment values'? That's a highly subjective term... I'm sure the 'Islamists' consider themselves to be 'enlightened' as well. Similarly, whilst fundamantalist muslims are generally opposed to capitilism, they are also quite strongly opposed to gay rights, socialism (also popular in many western societies) and communism. They're also commonly thought to be strong on family values, law and order and respecting your elders - aren't these considered by some to be traditional Western values as well?  \", 'meta': {'is_section_header': True, 'indentation': '0', 'toxicity': 0.2966602, 'sever_toxicity': 0.1411309, 'ancestor_id': '1056741.4980.4980', 'rev_id': '1056741', 'parent_id': None, 'original': None, 'modification': [], 'deletion': [], 'restoration': []}}), 'modification': [], 'deletion': [({'id': '4748336.0.5677', 'user': ({'_name': 'Quadell', '_info': {'user_id': '57108'}, '_split_attribs': set(), '_uid': \"User([('name', 'Quadell')])\"}), 'root': '1056741.4980.4980', 'reply_to': None, 'timestamp': 1090342452.0, 'text': \"''Islamaphobia has a number of causes.  One of the current causes is the fear of the Islamist movement, a modern puritanical, fundamentalist form of Islam. Many people mistakenly believe that most Muslims are Islamist, when in fact the Islamist movement currently is a minority position. Many people in Western society, as well as many fundamentalist Muslims, see Islam as directly opposed to the enlightenment values, feminism, democracy and capitalism.''\\nOn second thoughts, this paragraph is highly POV: it seems to assert that Islamaphobia against all Muslims is somehow justified by the actions of a few members of that religion.\", 'meta': {'is_section_header': False, 'indentation': '0', 'toxicity': 0.07203849, 'sever_toxicity': 0.02753229, 'ancestor_id': '1056741.4980.4980', 'rev_id': '4748336', 'parent_id': '1056741.4980.4980', 'original': None, 'modification': [], 'deletion': [], 'restoration': []}})], 'restoration': []})\n"
     ]
    }
   ],
   "source": [
    "print(next(corpus1.iter_utterances()))"
   ]
  },
  {
   "cell_type": "code",
   "execution_count": 42,
   "metadata": {},
   "outputs": [
    {
     "data": {
      "text/plain": [
       "User({'obj_type': 'user', '_owner': <convokit.model.corpus.Corpus object at 0x188c892e8>, 'meta': {'user_id': '57108'}, '_id': 'Quadell', '_name': 'Quadell'})"
      ]
     },
     "execution_count": 42,
     "metadata": {},
     "output_type": "execute_result"
    }
   ],
   "source": [
    "next(corpus1.iter_users())"
   ]
  },
  {
   "cell_type": "code",
   "execution_count": 18,
   "metadata": {},
   "outputs": [],
   "source": [
    "corpus3 = corpus1.merge(corpus2)"
   ]
  },
  {
   "cell_type": "code",
   "execution_count": null,
   "metadata": {},
   "outputs": [],
   "source": []
  },
  {
   "cell_type": "code",
   "execution_count": 19,
   "metadata": {},
   "outputs": [
    {
     "name": "stdout",
     "output_type": "stream",
     "text": [
      "Number of Users: 34235\n",
      "Number of Utterances: 613608\n",
      "Number of Conversations: 303494\n"
     ]
    }
   ],
   "source": [
    "corpus3.print_summary_stats()"
   ]
  },
  {
   "cell_type": "code",
   "execution_count": 20,
   "metadata": {},
   "outputs": [
    {
     "name": "stdout",
     "output_type": "stream",
     "text": [
      "User('id': Jonel, 'meta': {'user_id': '56176'})\n",
      "{'user_id': '56176'}\n",
      "No. of user convos 45\n",
      "No. of user utts 60\n"
     ]
    }
   ],
   "source": [
    "get_user_stats(corpus3.get_user('Jonel'))"
   ]
  },
  {
   "cell_type": "code",
   "execution_count": 21,
   "metadata": {},
   "outputs": [],
   "source": [
    "random_user_from_new_corpus = corpus3.get_user('Jonel')"
   ]
  },
  {
   "cell_type": "code",
   "execution_count": 22,
   "metadata": {},
   "outputs": [
    {
     "data": {
      "text/plain": [
       "True"
      ]
     },
     "execution_count": 22,
     "metadata": {},
     "output_type": "execute_result"
    }
   ],
   "source": [
    "random_user == random_user_from_new_corpus"
   ]
  },
  {
   "cell_type": "code",
   "execution_count": 23,
   "metadata": {},
   "outputs": [
    {
     "data": {
      "text/plain": [
       "Utterance({'obj_type': 'utterance', '_owner': <convokit.model.corpus.Corpus object at 0x12fe752b0>, 'meta': {'is_section_header': False, 'indentation': '3', 'toxicity': 0.1043122, 'sever_toxicity': 0.05604938, 'ancestor_id': '6533471.5925.5925', 'rev_id': '6533471', 'parent_id': None, 'original': ({'id': '6533471.5925.5925', 'user': ({'_name': 'JamesMLane', '_info': {'user_id': '38027'}, '_split_attribs': set(), '_uid': \"User([('name', 'JamesMLane')])\"}), 'root': '6500567.3731.3731', 'reply_to': '6506176.5405.5405', 'timestamp': 1097540270.0, 'text': \"Addendum: I couldn't find it on the ABC News site, which has been redesigned.  I've emailed ABC asking if they can provide a valid link.  If they can't, the ''Nightline'' story was picked up and quoted extensively here on the website of a liberal columnist, but I'd rather link to (and credit) ABC as the original source.  If ABC doesn't get back to me, I'll substitute the other link. \", 'meta': {'is_section_header': False, 'indentation': '3', 'toxicity': 0.1043122, 'sever_toxicity': 0.05604938, 'ancestor_id': '6533471.5925.5925', 'rev_id': '6533471', 'parent_id': None, 'original': None, 'modification': [], 'deletion': [], 'restoration': []}}), 'modification': [], 'deletion': [({'id': '7129041.0.5925', 'user': ({'_name': '216.99.65.10', '_info': {'user_id': None}, '_split_attribs': set(), '_uid': \"User([('name', '216.99.65.10')])\"}), 'root': '6500567.3731.3731', 'reply_to': None, 'timestamp': 1099670498.0, 'text': \"Addendum: I couldn't find it on the ABC News site, which has been redesigned.  I've emailed ABC asking if they can provide a valid link.  If they can't, the ''Nightline'' story was picked up and quoted extensively here on the website of a liberal columnist, but I'd rather link to (and credit) ABC as the original source.  If ABC doesn't get back to me, I'll substitute the other link. \", 'meta': {'is_section_header': False, 'indentation': '3', 'toxicity': 0.1043122, 'sever_toxicity': 0.05604938, 'ancestor_id': '6533471.5925.5925', 'rev_id': '7129041', 'parent_id': '6533471.5925.5925', 'original': None, 'modification': [], 'deletion': [], 'restoration': []}})], 'restoration': []}, '_id': '7129041.0.5925', 'user': User({'obj_type': 'user', '_owner': <convokit.model.corpus.Corpus object at 0x12fe752b0>, 'meta': {'user_id': None}, '_id': '216.99.65.10', '_name': '216.99.65.10'}), 'root': '6500567.3731.3731', 'reply_to': None, 'timestamp': 1099670498, 'text': ' '})"
      ]
     },
     "execution_count": 23,
     "metadata": {},
     "output_type": "execute_result"
    }
   ],
   "source": [
    "random_utt = list(corpus.iter_utterances())[35456]\n",
    "random_utt"
   ]
  },
  {
   "cell_type": "code",
   "execution_count": 24,
   "metadata": {},
   "outputs": [],
   "source": [
    "random_utt_from_new_corpus = corpus3.get_utterance(random_utt.id)"
   ]
  },
  {
   "cell_type": "code",
   "execution_count": 25,
   "metadata": {},
   "outputs": [
    {
     "data": {
      "text/plain": [
       "True"
      ]
     },
     "execution_count": 25,
     "metadata": {},
     "output_type": "execute_result"
    }
   ],
   "source": [
    "random_utt == random_utt_from_new_corpus"
   ]
  },
  {
   "cell_type": "code",
   "execution_count": 26,
   "metadata": {},
   "outputs": [],
   "source": [
    "random_convo = list(corpus.iter_conversations())[199999]"
   ]
  },
  {
   "cell_type": "code",
   "execution_count": 27,
   "metadata": {},
   "outputs": [
    {
     "data": {
      "text/plain": [
       "Conversation({'obj_type': 'conversation', '_owner': <convokit.model.corpus.Corpus object at 0x12fe752b0>, 'meta': {'page_id': '47853827', 'page_title': '209.221.83.92', 'page_type': 'user_talk'}, '_id': '16957422.0.0', '_utterance_ids': ['16957422.0.0'], '_usernames': None})"
      ]
     },
     "execution_count": 27,
     "metadata": {},
     "output_type": "execute_result"
    }
   ],
   "source": [
    "random_convo"
   ]
  },
  {
   "cell_type": "code",
   "execution_count": 28,
   "metadata": {},
   "outputs": [],
   "source": [
    "random_convo_from_new_corpus = corpus3.get_conversation(random_convo.id)"
   ]
  },
  {
   "cell_type": "code",
   "execution_count": null,
   "metadata": {},
   "outputs": [],
   "source": []
  },
  {
   "cell_type": "code",
   "execution_count": 29,
   "metadata": {},
   "outputs": [
    {
     "data": {
      "text/plain": [
       "Conversation({'obj_type': 'conversation', '_owner': <convokit.model.corpus.Corpus object at 0x2388463c8>, 'meta': {'page_id': '47853827', 'page_title': '209.221.83.92', 'page_type': 'user_talk'}, '_id': '16957422.0.0', '_utterance_ids': ['16957422.0.0'], '_usernames': None})"
      ]
     },
     "execution_count": 29,
     "metadata": {},
     "output_type": "execute_result"
    }
   ],
   "source": [
    "random_convo_from_new_corpus"
   ]
  },
  {
   "cell_type": "markdown",
   "metadata": {},
   "source": [
    "## Testing user's convo / utt iterators explicitly"
   ]
  },
  {
   "cell_type": "code",
   "execution_count": 30,
   "metadata": {},
   "outputs": [],
   "source": [
    "utts = list(random_user.iter_utterances())"
   ]
  },
  {
   "cell_type": "code",
   "execution_count": 31,
   "metadata": {},
   "outputs": [],
   "source": [
    "utts1 = utts[:33]"
   ]
  },
  {
   "cell_type": "code",
   "execution_count": 32,
   "metadata": {},
   "outputs": [
    {
     "data": {
      "text/plain": [
       "Utterance({'obj_type': 'utterance', '_owner': <convokit.model.corpus.Corpus object at 0x12fe752b0>, 'meta': {'is_section_header': True, 'indentation': '0', 'toxicity': 0.1090915, 'sever_toxicity': 0.04738847, 'ancestor_id': '5065463.1949.1935', 'rev_id': '5065463', 'parent_id': None, 'original': None, 'modification': [], 'deletion': [], 'restoration': []}, '_id': '5065463.1949.1935', 'user': User({'obj_type': 'user', '_owner': <convokit.model.corpus.Corpus object at 0x12fe752b0>, 'meta': {'user_id': '56176'}, '_id': 'Jonel', '_name': 'Jonel'}), 'root': '5065463.1935.1935', 'reply_to': '5065463.1935.1935', 'timestamp': 1089783950, 'text': 'Most of my info is from Politics1.  They tend to include everyone who has claimed to be running for an office, even if the candidate will not be on the ballot. - \\nTexas - Texas official candidates list'})"
      ]
     },
     "execution_count": 32,
     "metadata": {},
     "output_type": "execute_result"
    }
   ],
   "source": [
    "utts1[-1]"
   ]
  },
  {
   "cell_type": "code",
   "execution_count": 33,
   "metadata": {},
   "outputs": [],
   "source": [
    "utts2 = utts[33:]"
   ]
  },
  {
   "cell_type": "code",
   "execution_count": 34,
   "metadata": {},
   "outputs": [
    {
     "data": {
      "text/plain": [
       "Utterance({'obj_type': 'utterance', '_owner': <convokit.model.corpus.Corpus object at 0x12fe752b0>, 'meta': {'is_section_header': False, 'indentation': '-1', 'toxicity': 0.006724888, 'sever_toxicity': 0.00369792, 'ancestor_id': '5065463.1935.1935', 'rev_id': '5065463', 'parent_id': None, 'original': None, 'modification': [], 'deletion': [], 'restoration': []}, '_id': '5065463.1935.1935', 'user': User({'obj_type': 'user', '_owner': <convokit.model.corpus.Corpus object at 0x12fe752b0>, 'meta': {'user_id': '56176'}, '_id': 'Jonel', '_name': 'Jonel'}), 'root': '5065463.1935.1935', 'reply_to': None, 'timestamp': 1089783950, 'text': ' Sources '})"
      ]
     },
     "execution_count": 34,
     "metadata": {},
     "output_type": "execute_result"
    }
   ],
   "source": [
    "utts2[0]"
   ]
  },
  {
   "cell_type": "markdown",
   "metadata": {},
   "source": [
    "Notice that the two sets of utterances have an overlapping conversation."
   ]
  },
  {
   "cell_type": "code",
   "execution_count": 35,
   "metadata": {},
   "outputs": [],
   "source": [
    "corpus4 = Corpus(utterances=utts1)"
   ]
  },
  {
   "cell_type": "code",
   "execution_count": 36,
   "metadata": {},
   "outputs": [
    {
     "name": "stdout",
     "output_type": "stream",
     "text": [
      "User('id': Jonel, 'meta': {'user_id': '56176'})\n",
      "{'user_id': '56176'}\n",
      "No. of user convos 30\n",
      "No. of user utts 33\n"
     ]
    }
   ],
   "source": [
    "get_user_stats(corpus4.get_user('Jonel'))"
   ]
  },
  {
   "cell_type": "code",
   "execution_count": 37,
   "metadata": {},
   "outputs": [],
   "source": [
    "corpus5 = Corpus(utterances=utts2)"
   ]
  },
  {
   "cell_type": "code",
   "execution_count": 38,
   "metadata": {},
   "outputs": [
    {
     "name": "stdout",
     "output_type": "stream",
     "text": [
      "User('id': Jonel, 'meta': {'user_id': '56176'})\n",
      "{'user_id': '56176'}\n",
      "No. of user convos 16\n",
      "No. of user utts 27\n"
     ]
    }
   ],
   "source": [
    "get_user_stats(corpus5.get_user('Jonel'))"
   ]
  },
  {
   "cell_type": "code",
   "execution_count": 39,
   "metadata": {},
   "outputs": [],
   "source": [
    "corpus6 = corpus4.merge(corpus5)"
   ]
  },
  {
   "cell_type": "code",
   "execution_count": 40,
   "metadata": {},
   "outputs": [
    {
     "name": "stdout",
     "output_type": "stream",
     "text": [
      "User('id': Jonel, 'meta': {'user_id': '56176'})\n",
      "{'user_id': '56176'}\n",
      "No. of user convos 45\n",
      "No. of user utts 60\n"
     ]
    }
   ],
   "source": [
    "get_user_stats(corpus6.get_user('Jonel'))"
   ]
  }
 ],
 "metadata": {
  "kernelspec": {
   "display_name": "Python 3",
   "language": "python",
   "name": "python3"
  },
  "language_info": {
   "codemirror_mode": {
    "name": "ipython",
    "version": 3
   },
   "file_extension": ".py",
   "mimetype": "text/x-python",
   "name": "python",
   "nbconvert_exporter": "python",
   "pygments_lexer": "ipython3",
   "version": "3.8.1"
  }
 },
 "nbformat": 4,
 "nbformat_minor": 4
}
