{
 "cells": [
  {
   "cell_type": "code",
   "execution_count": 1,
   "metadata": {},
   "outputs": [],
   "source": [
    "import convokit\n",
    "from convokit import Corpus, PairedPrediction, download, Pairer"
   ]
  },
  {
   "cell_type": "code",
   "execution_count": 2,
   "metadata": {},
   "outputs": [
    {
     "name": "stdout",
     "output_type": "stream",
     "text": [
      "Dataset already exists at /Users/calebchiam/.convokit/downloads/friends-corpus\n"
     ]
    }
   ],
   "source": [
    "corpus = Corpus(filename=download('friends-corpus'))"
   ]
  },
  {
   "cell_type": "code",
   "execution_count": 3,
   "metadata": {},
   "outputs": [
    {
     "name": "stdout",
     "output_type": "stream",
     "text": [
      "Number of Speakers: 700\n",
      "Number of Utterances: 67373\n",
      "Number of Conversations: 3107\n"
     ]
    }
   ],
   "source": [
    "corpus.print_summary_stats()"
   ]
  },
  {
   "cell_type": "markdown",
   "metadata": {},
   "source": [
    "In the friends-corpus, Conversations are Scenes, and Utterances correspond to utterances by characters in that scene.\n",
    "\n",
    "Let's do a basic paired prediction, predicting for whether or not a scene goes on to have all six friends participating, based on features from the first 5 utterances."
   ]
  },
  {
   "cell_type": "markdown",
   "metadata": {},
   "source": [
    "## Adding features for first 5 utterances and label for whether all 6 Friends eventually participate"
   ]
  },
  {
   "cell_type": "code",
   "execution_count": 4,
   "metadata": {},
   "outputs": [],
   "source": [
    "def add_convo_features(convo):\n",
    "    utts = sorted(list(convo.iter_utterances()), key=lambda utt: utt.id)\n",
    "    utts_5 = utts[:5]\n",
    "    speaker_ids = {utt.speaker.id for utt in utts_5}\n",
    "    main_chars = ['Monica Geller', 'Joey Tribbiani', 'Chandler Bing', 'Phoebe Buffay', 'Rachel Green', 'Ross Geller']\n",
    "    \n",
    "    for char in main_chars:\n",
    "        convo.add_meta('has_{}_5'.format(char), int(char in speaker_ids))\n",
    "    \n",
    "    convo.add_meta('num_main_characters_5', sum(convo.meta['has_{}_5'.format(char)] for char in main_chars))\n",
    "    \n",
    "    all_speakers = {utt.speaker.id for utt in utts}\n",
    "    convo.add_meta('all_friends_present', len(set(main_chars).intersection(all_speakers))==6)"
   ]
  },
  {
   "cell_type": "code",
   "execution_count": 5,
   "metadata": {},
   "outputs": [],
   "source": [
    "for convo in corpus.iter_conversations():\n",
    "    add_convo_features(convo)"
   ]
  },
  {
   "cell_type": "code",
   "execution_count": 6,
   "metadata": {},
   "outputs": [
    {
     "name": "stdout",
     "output_type": "stream",
     "text": [
      "311\n"
     ]
    }
   ],
   "source": [
    "# Number of Conversations with all friends present\n",
    "num_convos_with_all_present = 0\n",
    "for convo in corpus.iter_conversations():\n",
    "    if convo.meta['all_friends_present'] == 1:\n",
    "        num_convos_with_all_present += 1\n",
    "print(num_convos_with_all_present)"
   ]
  },
  {
   "cell_type": "markdown",
   "metadata": {},
   "source": [
    "We will pair based on the episode:"
   ]
  },
  {
   "cell_type": "code",
   "execution_count": 7,
   "metadata": {},
   "outputs": [],
   "source": [
    "main_chars = ['Monica Geller', 'Joey Tribbiani', 'Chandler Bing', 'Phoebe Buffay', 'Rachel Green', 'Ross Geller']\n",
    "    \n",
    "pred_feats = ['has_{}_5'.format(char) for char in main_chars]\n",
    "pred_feats.append('num_main_characters_5')"
   ]
  },
  {
   "cell_type": "code",
   "execution_count": null,
   "metadata": {},
   "outputs": [],
   "source": []
  },
  {
   "cell_type": "code",
   "execution_count": 8,
   "metadata": {},
   "outputs": [],
   "source": [
    "pairer = Pairer(obj_type=\"conversation\", pairing_func=lambda convo: str(convo.meta['season']+convo.meta['episode']),\n",
    "                pos_label_func=lambda convo: convo.meta['all_friends_present'] == 1,\n",
    "                neg_label_func=lambda convo: convo.meta['all_friends_present'] == 0,\n",
    "                pair_mode=\"random\"\n",
    "               )"
   ]
  },
  {
   "cell_type": "code",
   "execution_count": 9,
   "metadata": {},
   "outputs": [],
   "source": [
    "pp = PairedPrediction(obj_type=\"conversation\", pred_feats=pred_feats)"
   ]
  },
  {
   "cell_type": "code",
   "execution_count": 10,
   "metadata": {},
   "outputs": [
    {
     "data": {
      "text/plain": [
       "<convokit.model.corpus.Corpus at 0x128eebad0>"
      ]
     },
     "execution_count": 10,
     "metadata": {},
     "output_type": "execute_result"
    }
   ],
   "source": [
    "# Add the pairing information to the conversations\n",
    "\n",
    "pairer.transform(corpus)"
   ]
  },
  {
   "cell_type": "code",
   "execution_count": 11,
   "metadata": {},
   "outputs": [],
   "source": [
    "convo = next(corpus.iter_conversations())"
   ]
  },
  {
   "cell_type": "code",
   "execution_count": 12,
   "metadata": {},
   "outputs": [
    {
     "data": {
      "text/plain": [
       "{'season': 's01',\n",
       " 'episode': 'e01',\n",
       " 'scene': 'c01',\n",
       " 'has_Monica Geller_5': 1,\n",
       " 'has_Joey Tribbiani_5': 1,\n",
       " 'has_Chandler Bing_5': 1,\n",
       " 'has_Phoebe Buffay_5': 1,\n",
       " 'has_Rachel Green_5': 0,\n",
       " 'has_Ross Geller_5': 0,\n",
       " 'num_main_characters_5': 4,\n",
       " 'all_friends_present': True,\n",
       " 'pair_obj_label': 'pos',\n",
       " 'pair_id': 's01e01',\n",
       " 'pair_orientation': 'pos'}"
      ]
     },
     "execution_count": 12,
     "metadata": {},
     "output_type": "execute_result"
    }
   ],
   "source": [
    "# Most conversations will have None in the paired prediction labels\n",
    "\n",
    "convo.meta"
   ]
  },
  {
   "cell_type": "code",
   "execution_count": 13,
   "metadata": {},
   "outputs": [],
   "source": [
    "for convo in corpus.iter_conversations():\n",
    "    if convo.meta['pair_id'] is not None:\n",
    "        sample_convo = convo\n",
    "        break"
   ]
  },
  {
   "cell_type": "code",
   "execution_count": 14,
   "metadata": {},
   "outputs": [
    {
     "data": {
      "text/plain": [
       "{'season': 's01',\n",
       " 'episode': 'e01',\n",
       " 'scene': 'c01',\n",
       " 'has_Monica Geller_5': 1,\n",
       " 'has_Joey Tribbiani_5': 1,\n",
       " 'has_Chandler Bing_5': 1,\n",
       " 'has_Phoebe Buffay_5': 1,\n",
       " 'has_Rachel Green_5': 0,\n",
       " 'has_Ross Geller_5': 0,\n",
       " 'num_main_characters_5': 4,\n",
       " 'all_friends_present': True,\n",
       " 'pair_obj_label': 'pos',\n",
       " 'pair_id': 's01e01',\n",
       " 'pair_orientation': 'pos'}"
      ]
     },
     "execution_count": 14,
     "metadata": {},
     "output_type": "execute_result"
    }
   ],
   "source": [
    "sample_convo.meta"
   ]
  },
  {
   "cell_type": "code",
   "execution_count": 15,
   "metadata": {},
   "outputs": [
    {
     "name": "stdout",
     "output_type": "stream",
     "text": [
      "Found 149 valid pairs.\n"
     ]
    },
    {
     "data": {
      "text/plain": [
       "<convokit.paired_prediction.pairedPrediction.PairedPrediction at 0x13b11b450>"
      ]
     },
     "execution_count": 15,
     "metadata": {},
     "output_type": "execute_result"
    }
   ],
   "source": [
    "pp.fit(corpus)"
   ]
  },
  {
   "cell_type": "code",
   "execution_count": 16,
   "metadata": {},
   "outputs": [
    {
     "name": "stdout",
     "output_type": "stream",
     "text": [
      "Found 149 valid pairs.\n"
     ]
    },
    {
     "data": {
      "text/plain": [
       "0.7449664429530202"
      ]
     },
     "execution_count": 16,
     "metadata": {},
     "output_type": "execute_result"
    }
   ],
   "source": [
    "pp.summarize(corpus)"
   ]
  },
  {
   "cell_type": "code",
   "execution_count": 17,
   "metadata": {},
   "outputs": [
    {
     "data": {
      "text/html": [
       "<div>\n",
       "<style scoped>\n",
       "    .dataframe tbody tr th:only-of-type {\n",
       "        vertical-align: middle;\n",
       "    }\n",
       "\n",
       "    .dataframe tbody tr th {\n",
       "        vertical-align: top;\n",
       "    }\n",
       "\n",
       "    .dataframe thead th {\n",
       "        text-align: right;\n",
       "    }\n",
       "</style>\n",
       "<table border=\"1\" class=\"dataframe\">\n",
       "  <thead>\n",
       "    <tr style=\"text-align: right;\">\n",
       "      <th></th>\n",
       "      <th>coef</th>\n",
       "    </tr>\n",
       "    <tr>\n",
       "      <th>feat_name</th>\n",
       "      <th></th>\n",
       "    </tr>\n",
       "  </thead>\n",
       "  <tbody>\n",
       "    <tr>\n",
       "      <th>num_main_characters_5</th>\n",
       "      <td>1.048024</td>\n",
       "    </tr>\n",
       "    <tr>\n",
       "      <th>has_Monica Geller_5</th>\n",
       "      <td>0.604012</td>\n",
       "    </tr>\n",
       "    <tr>\n",
       "      <th>has_Joey Tribbiani_5</th>\n",
       "      <td>0.454098</td>\n",
       "    </tr>\n",
       "    <tr>\n",
       "      <th>has_Ross Geller_5</th>\n",
       "      <td>0.422704</td>\n",
       "    </tr>\n",
       "    <tr>\n",
       "      <th>has_Phoebe Buffay_5</th>\n",
       "      <td>0.254570</td>\n",
       "    </tr>\n",
       "    <tr>\n",
       "      <th>has_Rachel Green_5</th>\n",
       "      <td>0.186515</td>\n",
       "    </tr>\n",
       "    <tr>\n",
       "      <th>has_Chandler Bing_5</th>\n",
       "      <td>0.012372</td>\n",
       "    </tr>\n",
       "  </tbody>\n",
       "</table>\n",
       "</div>"
      ],
      "text/plain": [
       "                           coef\n",
       "feat_name                      \n",
       "num_main_characters_5  1.048024\n",
       "has_Monica Geller_5    0.604012\n",
       "has_Joey Tribbiani_5   0.454098\n",
       "has_Ross Geller_5      0.422704\n",
       "has_Phoebe Buffay_5    0.254570\n",
       "has_Rachel Green_5     0.186515\n",
       "has_Chandler Bing_5    0.012372"
      ]
     },
     "execution_count": 17,
     "metadata": {},
     "output_type": "execute_result"
    }
   ],
   "source": [
    "pp.get_coefs(feature_names=pred_feats)"
   ]
  },
  {
   "cell_type": "code",
   "execution_count": null,
   "metadata": {},
   "outputs": [],
   "source": []
  }
 ],
 "metadata": {
  "kernelspec": {
   "display_name": "Python 3",
   "language": "python",
   "name": "python3"
  },
  "language_info": {
   "codemirror_mode": {
    "name": "ipython",
    "version": 3
   },
   "file_extension": ".py",
   "mimetype": "text/x-python",
   "name": "python",
   "nbconvert_exporter": "python",
   "pygments_lexer": "ipython3",
   "version": "3.7.6"
  },
  "pycharm": {
   "stem_cell": {
    "cell_type": "raw",
    "metadata": {
     "collapsed": false
    },
    "source": [
     "\n"
    ]
   }
  }
 },
 "nbformat": 4,
 "nbformat_minor": 2
}
