{
 "cells": [
  {
   "cell_type": "markdown",
   "metadata": {
    "colab_type": "text",
    "id": "t5JqrpJWoNaB"
   },
   "source": [
    "# CRAFT demo (inference only) using ConvoKit\n",
    "\n",
    "This example notebook shows how an already-trained CRAFT model can be applied to conversational data to predict future derailment. This example uses the fully trained Wikiconv-based model as reported in the \"Trouble on the Horizon\" paper, and applies it to ConvoKit's version of the labeled Wikiconv corpus.\n"
   ]
  },
  {
   "cell_type": "code",
   "execution_count": 1,
   "metadata": {},
   "outputs": [],
   "source": [
    "import convokit"
   ]
  },
  {
   "cell_type": "code",
   "execution_count": 2,
   "metadata": {},
   "outputs": [],
   "source": [
    "from convokit import Forecaster, Corpus, download"
   ]
  },
  {
   "cell_type": "code",
   "execution_count": 3,
   "metadata": {},
   "outputs": [],
   "source": [
    "MAX_LENGTH = 80"
   ]
  },
  {
   "cell_type": "code",
   "execution_count": 9,
   "metadata": {},
   "outputs": [],
   "source": [
    "from convokit.forecaster.CRAFTModel import CRAFTModel"
   ]
  },
  {
   "cell_type": "code",
   "execution_count": 10,
   "metadata": {},
   "outputs": [
    {
     "name": "stdout",
     "output_type": "stream",
     "text": [
      "Initializing CRAFT model with options:\n",
      "{'hidden_size': 500, 'encoder_n_layers': 2, 'context_encoder_n_layers': 2, 'decoder_n_layers': 2, 'dropout': 0.1, 'batch_size': 64, 'clip': 50.0, 'learning_rate': 1e-05, 'print_every': 10, 'train_epochs': 30, 'validation_size': 0.2, 'max_length': 80, 'trained_model_output_filepath': 'finetuned_model.tar'}\n",
      "Could not find CRAFT model tar file at: finetuned_model.tar\n",
      "Loading saved parameters...\n",
      "Building encoders, decoder, and classifier...\n",
      "Models built and ready to go!\n"
     ]
    }
   ],
   "source": [
    "craft_model = CRAFTModel(device_type=\"cpu\", model_path=\"finetuned_model.tar\")"
   ]
  },
  {
   "cell_type": "code",
   "execution_count": 11,
   "metadata": {},
   "outputs": [],
   "source": [
    "forecaster = Forecaster(forecaster_model = craft_model,\n",
    "                        forecast_mode = \"future\",\n",
    "                        convo_structure=\"linear\",\n",
    "                        text_func = lambda utt: utt.meta[\"tokens\"][:(MAX_LENGTH-1)],\n",
    "                        label_func = lambda utt: int(utt.meta['comment_has_personal_attack']),\n",
    "                        forecast_feat_name=\"prediction\", forecast_prob_feat_name=\"pred_score\",\n",
    "                        use_last_only = True,\n",
    "                        skip_broken_convos=False\n",
    "                       )"
   ]
  },
  {
   "cell_type": "code",
   "execution_count": 12,
   "metadata": {},
   "outputs": [
    {
     "name": "stdout",
     "output_type": "stream",
     "text": [
      "Dataset already exists at /Users/calebchiam/.convokit/downloads/conversations-gone-awry-corpus\n"
     ]
    }
   ],
   "source": [
    "corpus = Corpus(filename=download(\"conversations-gone-awry-corpus\"))"
   ]
  },
  {
   "cell_type": "markdown",
   "metadata": {
    "colab_type": "text",
    "id": "o_ev-7g-xsGQ"
   },
   "source": [
    "## Part 2: load the data\n",
    "\n",
    "Now we load the labeled Wikiconv corpus from ConvoKit, and run some transformations to prepare it for use with PyTorch"
   ]
  },
  {
   "cell_type": "code",
   "execution_count": 14,
   "metadata": {},
   "outputs": [],
   "source": [
    "from convokit.forecaster.CRAFT import craft_tokenize"
   ]
  },
  {
   "cell_type": "code",
   "execution_count": 15,
   "metadata": {},
   "outputs": [],
   "source": [
    "for utt in corpus.iter_utterances():\n",
    "    utt.add_meta(\"tokens\", craft_tokenize(craft_model.voc, utt.text))"
   ]
  },
  {
   "cell_type": "code",
   "execution_count": 17,
   "metadata": {},
   "outputs": [
    {
     "name": "stdout",
     "output_type": "stream",
     "text": [
      "Iteration: 1; Percent complete: 2.5%\n",
      "Iteration: 2; Percent complete: 5.0%\n",
      "Iteration: 3; Percent complete: 7.5%\n",
      "Iteration: 4; Percent complete: 10.0%\n",
      "Iteration: 5; Percent complete: 12.5%\n",
      "Iteration: 6; Percent complete: 15.0%\n",
      "Iteration: 7; Percent complete: 17.5%\n",
      "Iteration: 8; Percent complete: 20.0%\n",
      "Iteration: 9; Percent complete: 22.5%\n",
      "Iteration: 10; Percent complete: 25.0%\n",
      "Iteration: 11; Percent complete: 27.5%\n",
      "Iteration: 12; Percent complete: 30.0%\n",
      "Iteration: 13; Percent complete: 32.5%\n",
      "Iteration: 14; Percent complete: 35.0%\n",
      "Iteration: 15; Percent complete: 37.5%\n",
      "Iteration: 16; Percent complete: 40.0%\n",
      "Iteration: 17; Percent complete: 42.5%\n",
      "Iteration: 18; Percent complete: 45.0%\n",
      "Iteration: 19; Percent complete: 47.5%\n",
      "Iteration: 20; Percent complete: 50.0%\n",
      "Iteration: 21; Percent complete: 52.5%\n",
      "Iteration: 22; Percent complete: 55.0%\n",
      "Iteration: 23; Percent complete: 57.5%\n",
      "Iteration: 24; Percent complete: 60.0%\n",
      "Iteration: 25; Percent complete: 62.5%\n",
      "Iteration: 26; Percent complete: 65.0%\n",
      "Iteration: 27; Percent complete: 67.5%\n",
      "Iteration: 28; Percent complete: 70.0%\n",
      "Iteration: 29; Percent complete: 72.5%\n",
      "Iteration: 30; Percent complete: 75.0%\n",
      "Iteration: 31; Percent complete: 77.5%\n",
      "Iteration: 32; Percent complete: 80.0%\n",
      "Iteration: 33; Percent complete: 82.5%\n",
      "Iteration: 34; Percent complete: 85.0%\n",
      "Iteration: 35; Percent complete: 87.5%\n",
      "Iteration: 36; Percent complete: 90.0%\n",
      "Iteration: 37; Percent complete: 92.5%\n",
      "Iteration: 38; Percent complete: 95.0%\n",
      "Iteration: 39; Percent complete: 97.5%\n",
      "Iteration: 40; Percent complete: 100.0%\n"
     ]
    },
    {
     "data": {
      "text/plain": [
       "<convokit.model.corpus.Corpus at 0x12593ded0>"
      ]
     },
     "execution_count": 17,
     "metadata": {},
     "output_type": "execute_result"
    }
   ],
   "source": [
    "forecaster.transform(corpus, selector=lambda convo: convo.meta[\"split\"] == \"train\",\n",
    "                    ignore_utterances=lambda utt: utt.meta[\"is_section_header\"])"
   ]
  },
  {
   "cell_type": "code",
   "execution_count": 18,
   "metadata": {},
   "outputs": [],
   "source": [
    "forecasts_df = forecaster.summarize(corpus)"
   ]
  },
  {
   "cell_type": "code",
   "execution_count": 19,
   "metadata": {},
   "outputs": [
    {
     "data": {
      "text/html": [
       "<div>\n",
       "<style scoped>\n",
       "    .dataframe tbody tr th:only-of-type {\n",
       "        vertical-align: middle;\n",
       "    }\n",
       "\n",
       "    .dataframe tbody tr th {\n",
       "        vertical-align: top;\n",
       "    }\n",
       "\n",
       "    .dataframe thead th {\n",
       "        text-align: right;\n",
       "    }\n",
       "</style>\n",
       "<table border=\"1\" class=\"dataframe\">\n",
       "  <thead>\n",
       "    <tr style=\"text-align: right;\">\n",
       "      <th></th>\n",
       "      <th>prediction</th>\n",
       "      <th>pred_score</th>\n",
       "    </tr>\n",
       "    <tr>\n",
       "      <th>utt_id</th>\n",
       "      <th></th>\n",
       "      <th></th>\n",
       "    </tr>\n",
       "  </thead>\n",
       "  <tbody>\n",
       "    <tr>\n",
       "      <th>216531195.23478.23478</th>\n",
       "      <td>1.0</td>\n",
       "      <td>0.986963</td>\n",
       "    </tr>\n",
       "    <tr>\n",
       "      <th>185648015.1337.1337</th>\n",
       "      <td>1.0</td>\n",
       "      <td>0.985301</td>\n",
       "    </tr>\n",
       "    <tr>\n",
       "      <th>321196330.117144.117144</th>\n",
       "      <td>1.0</td>\n",
       "      <td>0.984509</td>\n",
       "    </tr>\n",
       "    <tr>\n",
       "      <th>18657304.7525.7525</th>\n",
       "      <td>1.0</td>\n",
       "      <td>0.984311</td>\n",
       "    </tr>\n",
       "    <tr>\n",
       "      <th>476734036.15022.15022</th>\n",
       "      <td>1.0</td>\n",
       "      <td>0.984029</td>\n",
       "    </tr>\n",
       "    <tr>\n",
       "      <th>462029088.1785.1785</th>\n",
       "      <td>1.0</td>\n",
       "      <td>0.983639</td>\n",
       "    </tr>\n",
       "    <tr>\n",
       "      <th>564574202.3770.3770</th>\n",
       "      <td>1.0</td>\n",
       "      <td>0.983426</td>\n",
       "    </tr>\n",
       "    <tr>\n",
       "      <th>800622928.18454.18454</th>\n",
       "      <td>1.0</td>\n",
       "      <td>0.982788</td>\n",
       "    </tr>\n",
       "    <tr>\n",
       "      <th>50336812.93580.93580</th>\n",
       "      <td>1.0</td>\n",
       "      <td>0.982443</td>\n",
       "    </tr>\n",
       "    <tr>\n",
       "      <th>412055303.14769.14769</th>\n",
       "      <td>1.0</td>\n",
       "      <td>0.981085</td>\n",
       "    </tr>\n",
       "    <tr>\n",
       "      <th>409297122.6205.6205</th>\n",
       "      <td>1.0</td>\n",
       "      <td>0.981004</td>\n",
       "    </tr>\n",
       "    <tr>\n",
       "      <th>110875381.4905.4893</th>\n",
       "      <td>1.0</td>\n",
       "      <td>0.980813</td>\n",
       "    </tr>\n",
       "    <tr>\n",
       "      <th>99459295.40701.40701</th>\n",
       "      <td>1.0</td>\n",
       "      <td>0.980530</td>\n",
       "    </tr>\n",
       "    <tr>\n",
       "      <th>201504908.45006.45006</th>\n",
       "      <td>1.0</td>\n",
       "      <td>0.979463</td>\n",
       "    </tr>\n",
       "    <tr>\n",
       "      <th>404257585.20200.20200</th>\n",
       "      <td>1.0</td>\n",
       "      <td>0.978928</td>\n",
       "    </tr>\n",
       "    <tr>\n",
       "      <th>214603476.10839.10841</th>\n",
       "      <td>1.0</td>\n",
       "      <td>0.978757</td>\n",
       "    </tr>\n",
       "    <tr>\n",
       "      <th>76077170.28805.28805</th>\n",
       "      <td>1.0</td>\n",
       "      <td>0.978516</td>\n",
       "    </tr>\n",
       "    <tr>\n",
       "      <th>79340130.87335.87335</th>\n",
       "      <td>1.0</td>\n",
       "      <td>0.978463</td>\n",
       "    </tr>\n",
       "    <tr>\n",
       "      <th>170314474.34849.34849</th>\n",
       "      <td>1.0</td>\n",
       "      <td>0.978447</td>\n",
       "    </tr>\n",
       "    <tr>\n",
       "      <th>187185587.22001.22001</th>\n",
       "      <td>1.0</td>\n",
       "      <td>0.978324</td>\n",
       "    </tr>\n",
       "  </tbody>\n",
       "</table>\n",
       "</div>"
      ],
      "text/plain": [
       "                         prediction  pred_score\n",
       "utt_id                                         \n",
       "216531195.23478.23478           1.0    0.986963\n",
       "185648015.1337.1337             1.0    0.985301\n",
       "321196330.117144.117144         1.0    0.984509\n",
       "18657304.7525.7525              1.0    0.984311\n",
       "476734036.15022.15022           1.0    0.984029\n",
       "462029088.1785.1785             1.0    0.983639\n",
       "564574202.3770.3770             1.0    0.983426\n",
       "800622928.18454.18454           1.0    0.982788\n",
       "50336812.93580.93580            1.0    0.982443\n",
       "412055303.14769.14769           1.0    0.981085\n",
       "409297122.6205.6205             1.0    0.981004\n",
       "110875381.4905.4893             1.0    0.980813\n",
       "99459295.40701.40701            1.0    0.980530\n",
       "201504908.45006.45006           1.0    0.979463\n",
       "404257585.20200.20200           1.0    0.978928\n",
       "214603476.10839.10841           1.0    0.978757\n",
       "76077170.28805.28805            1.0    0.978516\n",
       "79340130.87335.87335            1.0    0.978463\n",
       "170314474.34849.34849           1.0    0.978447\n",
       "187185587.22001.22001           1.0    0.978324"
      ]
     },
     "execution_count": 19,
     "metadata": {},
     "output_type": "execute_result"
    }
   ],
   "source": [
    "forecasts_df.head(20)"
   ]
  },
  {
   "cell_type": "code",
   "execution_count": null,
   "metadata": {},
   "outputs": [],
   "source": []
  }
 ],
 "metadata": {
  "accelerator": "GPU",
  "colab": {
   "collapsed_sections": [],
   "name": "Copy of CRAFT inference demo using ConvoKit",
   "provenance": [],
   "toc_visible": true
  },
  "kernelspec": {
   "display_name": "test_venv",
   "language": "python",
   "name": "test_venv"
  },
  "language_info": {
   "codemirror_mode": {
    "name": "ipython",
    "version": 3
   },
   "file_extension": ".py",
   "mimetype": "text/x-python",
   "name": "python",
   "nbconvert_exporter": "python",
   "pygments_lexer": "ipython3",
   "version": "3.7.6"
  },
  "pycharm": {
   "stem_cell": {
    "cell_type": "raw",
    "metadata": {
     "collapsed": false
    },
    "source": []
   }
  }
 },
 "nbformat": 4,
 "nbformat_minor": 1
}
