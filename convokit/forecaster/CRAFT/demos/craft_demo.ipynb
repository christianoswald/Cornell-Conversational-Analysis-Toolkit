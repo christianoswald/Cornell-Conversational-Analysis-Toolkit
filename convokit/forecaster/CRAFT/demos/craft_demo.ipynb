{
 "cells": [
  {
   "cell_type": "markdown",
   "metadata": {},
   "source": [
    "# Using ConvoKit for conversational forecasting with the CRAFT backend\n",
    "\n",
    "This notebook demonstrates how to use ConvoKit's `Forecaster` Transformer with the `CRAFTModel` backend to forecast future personal attacks in Wikipedia talk page conversations. In doing so, we will reproduce the results of the original CRAFT experiments as presented in the originating paper \"Trouble on the Horizon: Forecasting the Derailment of Conversations as they Develop\"."
   ]
  },
  {
   "cell_type": "code",
   "execution_count": 1,
   "metadata": {},
   "outputs": [],
   "source": [
    "%matplotlib inline\n",
    "import numpy as np\n",
    "from matplotlib import pyplot as plt\n",
    "from sklearn.metrics import precision_recall_fscore_support\n",
    "from convokit import Forecaster, Corpus, download\n",
    "from convokit.forecaster.CRAFTModel import CRAFTModel\n",
    "from convokit.forecaster.CRAFT import craft_tokenize"
   ]
  },
  {
   "cell_type": "markdown",
   "metadata": {},
   "source": [
    "We will be using ConvoKit's \"conversations gone awry\" corpus, which contains ground truth labels for personal attacks in each conversation. This is the same corpus used in the original paper."
   ]
  },
  {
   "cell_type": "code",
   "execution_count": 2,
   "metadata": {},
   "outputs": [
    {
     "name": "stdout",
     "output_type": "stream",
     "text": [
      "Dataset already exists at /home/jonathan/.convokit/downloads/conversations-gone-awry-corpus\n"
     ]
    }
   ],
   "source": [
    "corpus = Corpus(filename=download('conversations-gone-awry-corpus'))"
   ]
  },
  {
   "cell_type": "markdown",
   "metadata": {},
   "source": [
    "## Initializing the CRAFTModel backend\n",
    "\n",
    "ConvoKit's `Forecaster` is a modular implementation of general forecasting behavior, meaning that it does not implement any specific forecasting algorithm and instead encapsulates the general behavior of iterating over a conversation and producing a forecast score upon each new comment (using some specified algorithm). Specific algorithm implementations are delegated to a class known as a `Model`. Therefore, before we can instantiate a `Forecaster`, we must first instantiate the `Model` we want to use. In this demo, we will use ConvoKit's implementation of the CRAFT algorithm, known as `CRAFTModel`."
   ]
  },
  {
   "cell_type": "code",
   "execution_count": 3,
   "metadata": {},
   "outputs": [],
   "source": [
    "# We define the constant DEVICE to specify whether we want to run in GPU mode or CPU mode. As CRAFT is a neural model, GPU mode\n",
    "# (activated with the value \"cuda\") is preferred. But if your machine lacks a GPU, you can change the value to \"cpu\" to enable\n",
    "# CPU mode (noting that it will be slower)\n",
    "DEVICE = \"cpu\""
   ]
  },
  {
   "cell_type": "code",
   "execution_count": 4,
   "metadata": {},
   "outputs": [
    {
     "name": "stdout",
     "output_type": "stream",
     "text": [
      "Initializing CRAFT model with options:\n",
      "{'hidden_size': 500, 'encoder_n_layers': 2, 'context_encoder_n_layers': 2, 'decoder_n_layers': 2, 'dropout': 0.1, 'batch_size': 64, 'clip': 50.0, 'learning_rate': 1e-05, 'print_every': 10, 'train_epochs': 30, 'validation_size': 0.2, 'max_length': 80, 'trained_model_output_filepath': 'finetuned_model.tar'}\n",
      "Loading saved parameters...\n",
      "Building encoders, decoder, and classifier...\n",
      "Models built and ready to go!\n"
     ]
    }
   ],
   "source": [
    "# initialize the CRAFTModel using the specified device\n",
    "craft_model = CRAFTModel(device_type=DEVICE)"
   ]
  },
  {
   "cell_type": "markdown",
   "metadata": {},
   "source": [
    "## Corpus preprocessing\n",
    "\n",
    "CRAFT was originally developed separately from ConvoKit and used a different tokenization scheme than ConvoKit's default. This could cause problems as ConvoKit's tokenization might produce tokens that are inconsistent with what CRAFT expects, potentially causing errors. ConvoKit ships with a workaround for this by offering CRAFT's tokenizer as the importable function `craft_tokenize`. We can use this function to tokenize the utterances in the corpus and add the resulting tokenization as metadata."
   ]
  },
  {
   "cell_type": "code",
   "execution_count": 5,
   "metadata": {},
   "outputs": [],
   "source": [
    "for utt in corpus.iter_utterances():\n",
    "    utt.add_meta(\"tokens\", craft_tokenize(craft_model.voc, utt.text))"
   ]
  },
  {
   "cell_type": "markdown",
   "metadata": {},
   "source": [
    "## Initializing the Forecaster\n",
    "\n",
    "We now have everything we need to initialize our instance of `Forecaster` with the previously created `CRAFTModel` as the backend. Note: please see [the docs](https://convokit.cornell.edu/documentation/forecaster.html) for a full explanation of what the other parameters besides `model` do."
   ]
  },
  {
   "cell_type": "code",
   "execution_count": 6,
   "metadata": {},
   "outputs": [],
   "source": [
    "MAX_LENGTH = 80 # this constant controls the maximum number of tokens to consider; it must be set to 80 since that's what CRAFT was trained one.\n",
    "forecaster = Forecaster(forecaster_model = craft_model,\n",
    "                        forecast_mode = \"past\",\n",
    "                        convo_structure=\"linear\",\n",
    "                        text_func = lambda utt: utt.meta[\"tokens\"][:(MAX_LENGTH-1)],\n",
    "                        label_func = lambda utt: int(utt.meta['comment_has_personal_attack']),\n",
    "                        forecast_attribute_name=\"prediction\", forecast_prob_attribute_name=\"pred_score\",\n",
    "                        use_last_only = False,\n",
    "                        skip_broken_convos=False\n",
    "                       )"
   ]
  },
  {
   "cell_type": "markdown",
   "metadata": {},
   "source": [
    "## Running and evaluating the Forecaster\n",
    "\n",
    "Now that we have our `Forecaster`, which follows ConvoKit's standard `Transformer` interface, actually doing conversational forecasting is as simple as calling `transform` on the corpus! Then, we can use the resulting annotations to evaluate the forecasts using the metrics defined in the paper, which include conversation-level versions of accuracy, precision, and recall."
   ]
  },
  {
   "cell_type": "code",
   "execution_count": 7,
   "metadata": {},
   "outputs": [
    {
     "name": "stdout",
     "output_type": "stream",
     "text": [
      "Iteration: 1; Percent complete: 1.4%\n",
      "Iteration: 2; Percent complete: 2.9%\n",
      "Iteration: 3; Percent complete: 4.3%\n",
      "Iteration: 4; Percent complete: 5.8%\n",
      "Iteration: 5; Percent complete: 7.2%\n",
      "Iteration: 6; Percent complete: 8.7%\n",
      "Iteration: 7; Percent complete: 10.1%\n",
      "Iteration: 8; Percent complete: 11.6%\n",
      "Iteration: 9; Percent complete: 13.0%\n",
      "Iteration: 10; Percent complete: 14.5%\n",
      "Iteration: 11; Percent complete: 15.9%\n",
      "Iteration: 12; Percent complete: 17.4%\n",
      "Iteration: 13; Percent complete: 18.8%\n",
      "Iteration: 14; Percent complete: 20.3%\n",
      "Iteration: 15; Percent complete: 21.7%\n",
      "Iteration: 16; Percent complete: 23.2%\n",
      "Iteration: 17; Percent complete: 24.6%\n",
      "Iteration: 18; Percent complete: 26.1%\n",
      "Iteration: 19; Percent complete: 27.5%\n",
      "Iteration: 20; Percent complete: 29.0%\n",
      "Iteration: 21; Percent complete: 30.4%\n",
      "Iteration: 22; Percent complete: 31.9%\n",
      "Iteration: 23; Percent complete: 33.3%\n",
      "Iteration: 24; Percent complete: 34.8%\n",
      "Iteration: 25; Percent complete: 36.2%\n",
      "Iteration: 26; Percent complete: 37.7%\n",
      "Iteration: 27; Percent complete: 39.1%\n",
      "Iteration: 28; Percent complete: 40.6%\n",
      "Iteration: 29; Percent complete: 42.0%\n",
      "Iteration: 30; Percent complete: 43.5%\n",
      "Iteration: 31; Percent complete: 44.9%\n",
      "Iteration: 32; Percent complete: 46.4%\n",
      "Iteration: 33; Percent complete: 47.8%\n",
      "Iteration: 34; Percent complete: 49.3%\n",
      "Iteration: 35; Percent complete: 50.7%\n",
      "Iteration: 36; Percent complete: 52.2%\n",
      "Iteration: 37; Percent complete: 53.6%\n",
      "Iteration: 38; Percent complete: 55.1%\n",
      "Iteration: 39; Percent complete: 56.5%\n",
      "Iteration: 40; Percent complete: 58.0%\n",
      "Iteration: 41; Percent complete: 59.4%\n",
      "Iteration: 42; Percent complete: 60.9%\n",
      "Iteration: 43; Percent complete: 62.3%\n",
      "Iteration: 44; Percent complete: 63.8%\n",
      "Iteration: 45; Percent complete: 65.2%\n",
      "Iteration: 46; Percent complete: 66.7%\n",
      "Iteration: 47; Percent complete: 68.1%\n",
      "Iteration: 48; Percent complete: 69.6%\n",
      "Iteration: 49; Percent complete: 71.0%\n",
      "Iteration: 50; Percent complete: 72.5%\n",
      "Iteration: 51; Percent complete: 73.9%\n",
      "Iteration: 52; Percent complete: 75.4%\n",
      "Iteration: 53; Percent complete: 76.8%\n",
      "Iteration: 54; Percent complete: 78.3%\n",
      "Iteration: 55; Percent complete: 79.7%\n",
      "Iteration: 56; Percent complete: 81.2%\n",
      "Iteration: 57; Percent complete: 82.6%\n",
      "Iteration: 58; Percent complete: 84.1%\n",
      "Iteration: 59; Percent complete: 85.5%\n",
      "Iteration: 60; Percent complete: 87.0%\n",
      "Iteration: 61; Percent complete: 88.4%\n",
      "Iteration: 62; Percent complete: 89.9%\n",
      "Iteration: 63; Percent complete: 91.3%\n",
      "Iteration: 64; Percent complete: 92.8%\n",
      "Iteration: 65; Percent complete: 94.2%\n",
      "Iteration: 66; Percent complete: 95.7%\n",
      "Iteration: 67; Percent complete: 97.1%\n",
      "Iteration: 68; Percent complete: 98.6%\n",
      "Iteration: 69; Percent complete: 100.0%\n"
     ]
    },
    {
     "data": {
      "text/plain": [
       "<convokit.model.corpus.Corpus at 0x7f933576d340>"
      ]
     },
     "execution_count": 7,
     "metadata": {},
     "output_type": "execute_result"
    }
   ],
   "source": [
    "# Annotate the test set. Note: the Conversations Gone Awry corpus contains some Utterance objects that are not actual\n",
    "# comments, but rather the \"section header\" (something akin to a conversation title in Wikipedia talk pages). Since they\n",
    "# are not real comments, we do not want to include them in forecasting. We use the ignore_utterances parameter to\n",
    "# specify this behavior.\n",
    "forecaster.transform(corpus, selector=lambda convo: convo.meta[\"split\"] in ['test'], ignore_utterances=lambda utt: utt.meta['is_section_header'])"
   ]
  },
  {
   "cell_type": "code",
   "execution_count": 8,
   "metadata": {},
   "outputs": [],
   "source": [
    "df = forecaster.summarize(corpus)"
   ]
  },
  {
   "cell_type": "markdown",
   "metadata": {},
   "source": [
    "The `Forecaster` transformation gives us a forecast score for each utterance. In turn, this score can be converted into a binary\n",
    "utterance-level decision by applying a threshold (the one we use here was tuned on a validation set). However, the ground truth\n",
    "labels are not utterance level, but conversation level: either a conversation derails or it does not. \n",
    "Thus, correctness of a forecast decision at a conversation level is defined as follows:\n",
    "  - True positives are cases that actually derail, for which the model made at least one positive forecast ANYTIME prior to derailment\n",
    "  - False positives are cases that don't derail but for which the model made at least one positive forecast\n",
    "  - False negatives are cases that derail but for which the model made no positive forecasts prior to derailment\n",
    "  - True negatives are cases that don't derail, for which the model made no positive forecasts\n",
    "  \n",
    "Then, using these definitions, we can define accuracy, precision, and recall as standard in terms of true/false positives/negatives."
   ]
  },
  {
   "cell_type": "code",
   "execution_count": 9,
   "metadata": {},
   "outputs": [],
   "source": [
    "FORECAST_THRESH = 0.570617 # Threshold learned on a validation set. Try playing with this to see how it affects the precision-recall tradeoff!\n",
    "preds = []\n",
    "labels = []\n",
    "# Iterate at a conversation level and consolidate predictions for each conversation\n",
    "for convo in corpus.iter_conversations(selector=lambda c: c.meta['split'] == 'test'):\n",
    "    labels.append(int(convo.meta['conversation_has_personal_attack']))\n",
    "    prediction = 0\n",
    "    for utt in convo.iter_utterances():\n",
    "        if utt.meta['pred_score'] is not None and utt.meta['pred_score'] > FORECAST_THRESH:\n",
    "            prediction = 1\n",
    "    preds.append(prediction)\n",
    "preds = np.asarray(preds)\n",
    "labels = np.asarray(labels)"
   ]
  },
  {
   "cell_type": "code",
   "execution_count": 10,
   "metadata": {},
   "outputs": [
    {
     "name": "stdout",
     "output_type": "stream",
     "text": [
      "Accuracy = 66.43%, Precision = 77.38%, Recall = 63.48%, FPR = 44.52%, F1 = 69.74%\n"
     ]
    }
   ],
   "source": [
    "# Compute accuracy, precision, recall, F1, and false positive rate\n",
    "acc = np.mean(preds == labels)\n",
    "precision, recall, f1, _ = precision_recall_fscore_support(preds, labels, average='binary')\n",
    "fpr = np.mean(preds[labels==0])\n",
    "print(\"Accuracy = {:.2%}, Precision = {:.2%}, Recall = {:.2%}, FPR = {:.2%}, F1 = {:.2%}\".format(acc, precision, recall, fpr, f1))"
   ]
  },
  {
   "cell_type": "markdown",
   "metadata": {},
   "source": [
    "In addition to accuracy and other numerical metrics, the paper also included an experiment exploring how early in a conversation\n",
    "the first correct positive forecast tends to occur. We repeat that analysis here:"
   ]
  },
  {
   "cell_type": "code",
   "execution_count": 11,
   "metadata": {},
   "outputs": [],
   "source": [
    "comments_until_derail = {} # store the \"number of comments until derailment\" metric for each conversation\n",
    "\n",
    "for convo in corpus.iter_conversations(selector=lambda c: c.meta['split'] == 'test' and c.meta['conversation_has_personal_attack']):\n",
    "    # filter out the section header as usual\n",
    "    utts = [utt for utt in convo.iter_utterances() if not utt.meta['is_section_header']]\n",
    "    # by construction, the last comment is the one with the personal attack\n",
    "    derail_idx = len(utts) - 1\n",
    "    # now scan the utterances in order until we find the first derailment prediction (if any)\n",
    "    for idx in range(1, len(utts)):\n",
    "        if utts[idx].meta['pred_score'] > FORECAST_THRESH:\n",
    "            # recall that the forecast_score meta field specifies what CRAFT thought this comment would look like BEFORE it\n",
    "            # saw this comment. So the actual CRAFT forecast is made during the previous comment; we account for this by \n",
    "            # subtracting 1 from idx\n",
    "            comments_until_derail[convo.id] = derail_idx - (idx-1)\n",
    "            break"
   ]
  },
  {
   "cell_type": "code",
   "execution_count": 12,
   "metadata": {},
   "outputs": [
    {
     "data": {
      "image/png": "[encoded data removed]",
      "text/plain": [
       "<Figure size 720x360 with 1 Axes>"
      ]
     },
     "metadata": {
      "needs_background": "light"
     },
     "output_type": "display_data"
    }
   ],
   "source": [
    "# visualize the distribution of \"number of comments until derailment\" as a histogram (reproducing Figure 4 from the paper)\n",
    "comments_until_derail_vals = np.asarray(list(comments_until_derail.values()))\n",
    "plt.rcParams['figure.figsize'] = (10.0, 5.0)\n",
    "plt.rcParams['font.size'] = 24\n",
    "plt.hist(comments_until_derail_vals, bins=range(1, np.max(comments_until_derail_vals)), density=True)\n",
    "plt.xlim(1,10)\n",
    "plt.xticks(np.arange(1,10)+0.5, np.arange(1,10))\n",
    "plt.yticks(np.arange(0,0.25,0.05), np.arange(0,25,5))\n",
    "plt.xlabel(\"Number of comments elapsed\")\n",
    "plt.ylabel(\"% of conversations\")\n",
    "plt.show()"
   ]
  }
 ],
 "metadata": {
  "kernelspec": {
   "display_name": "Python 3",
   "language": "python",
   "name": "python3"
  },
  "language_info": {
   "codemirror_mode": {
    "name": "ipython",
    "version": 3
   },
   "file_extension": ".py",
   "mimetype": "text/x-python",
   "name": "python",
   "nbconvert_exporter": "python",
   "pygments_lexer": "ipython3",
   "version": "3.8.0"
  }
 },
 "nbformat": 4,
 "nbformat_minor": 4
}
