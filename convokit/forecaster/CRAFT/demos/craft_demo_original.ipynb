{
 "cells": [
  {
   "cell_type": "markdown",
   "metadata": {
    "colab_type": "text",
    "id": "t5JqrpJWoNaB"
   },
   "source": [
    "# CRAFT demo (inference only) using ConvoKit\n",
    "\n",
    "This example notebook shows how an already-trained CRAFT model can be applied to conversational data to predict future derailment. This example uses the fully trained Wikiconv-based model as reported in the \"Trouble on the Horizon\" paper, and applies it to ConvoKit's version of the labeled Wikiconv corpus."
   ]
  },
  {
   "cell_type": "code",
   "execution_count": 1,
   "metadata": {
    "colab": {},
    "colab_type": "code",
    "id": "RHkNojY7tzAh"
   },
   "outputs": [],
   "source": [
    "# import necessary libraries, including convokit\n",
    "import torch\n",
    "from torch.jit import script, trace\n",
    "import torch.nn as nn\n",
    "from torch import optim\n",
    "import torch.nn.functional as F\n",
    "import pandas as pd\n",
    "import numpy as np\n",
    "import matplotlib.pyplot as plt\n",
    "import nltk\n",
    "import requests\n",
    "import os\n",
    "import sys\n",
    "import random\n",
    "import unicodedata\n",
    "import itertools\n",
    "from urllib.request import urlretrieve\n",
    "from convokit import download, Corpus\n",
    "%matplotlib inline"
   ]
  },
  {
   "cell_type": "code",
   "execution_count": 2,
   "metadata": {
    "colab": {},
    "colab_type": "code",
    "id": "6sA5pzI7LRtz"
   },
   "outputs": [],
   "source": [
    "# define globals and constants\n",
    "\n",
    "MAX_LENGTH = 80  # Maximum sentence length (number of tokens) to consider\n",
    "\n",
    "# configure model\n",
    "hidden_size = 500\n",
    "encoder_n_layers = 2\n",
    "context_encoder_n_layers = 2\n",
    "decoder_n_layers = 2\n",
    "dropout = 0.1\n",
    "batch_size = 64\n",
    "# Configure training/optimization\n",
    "clip = 50.0\n",
    "teacher_forcing_ratio = 1.0\n",
    "learning_rate = 0.0001\n",
    "labeled_learning_rate = 1e-5\n",
    "decoder_learning_ratio = 5.0\n",
    "print_every = 10\n",
    "\n",
    "# Default word tokens\n",
    "PAD_token = 0  # Used for padding short sentences\n",
    "SOS_token = 1  # Start-of-sentence token\n",
    "EOS_token = 2  # End-of-sentence token\n",
    "UNK_token = 3  # Unknown word token\n",
    "\n",
    "# model download paths\n",
    "WORD2INDEX_URL = \"http://zissou.infosci.cornell.edu/convokit/models/craft_wikiconv/word2index.json\"\n",
    "INDEX2WORD_URL = \"http://zissou.infosci.cornell.edu/convokit/models/craft_wikiconv/index2word.json\"\n",
    "MODEL_URL = \"http://zissou.infosci.cornell.edu/convokit/models/craft_wikiconv/craft_full.tar\"\n",
    "\n",
    "# confidence score threshold for declaring a positive prediction.\n",
    "# this value was previously learned on the validation set.\n",
    "FORECAST_THRESH = 0.570617"
   ]
  },
  {
   "cell_type": "markdown",
   "metadata": {
    "colab_type": "text",
    "id": "L_w8yFiXuCpg"
   },
   "source": [
    "## Part 1: set up data conversion utilities\n",
    "\n",
    "We begin by setting up some helper functions and classes for converting conversational text data into a torch-friendly Tensor format. Note that these low-level routines are largely taken from the [PyTorch seq2seq chatbot tutorial](https://pytorch.org/tutorials/beginner/chatbot_tutorial.html)."
   ]
  },
  {
   "cell_type": "code",
   "execution_count": 3,
   "metadata": {
    "colab": {},
    "colab_type": "code",
    "id": "QM8PeUAduAhq"
   },
   "outputs": [],
   "source": [
    "class Voc:\n",
    "    \"\"\"A class for representing the vocabulary used by a CRAFT model\"\"\"\n",
    "\n",
    "    def __init__(self, name, word2index=None, index2word=None):\n",
    "        self.name = name\n",
    "        self.trimmed = False if not word2index else True # if a precomputed vocab is specified assume the user wants to use it as-is\n",
    "        self.word2index = word2index if word2index else {\"UNK\": UNK_token}\n",
    "        self.word2count = {}\n",
    "        self.index2word = index2word if index2word else {PAD_token: \"PAD\", SOS_token: \"SOS\", EOS_token: \"EOS\", UNK_token: \"UNK\"}\n",
    "        self.num_words = 4 if not index2word else len(index2word)  # Count SOS, EOS, PAD, UNK\n",
    "\n",
    "    def addSentence(self, sentence):\n",
    "        for word in sentence.split(' '):\n",
    "            self.addWord(word)\n",
    "\n",
    "    def addWord(self, word):\n",
    "        if word not in self.word2index:\n",
    "            self.word2index[word] = self.num_words\n",
    "            self.word2count[word] = 1\n",
    "            self.index2word[self.num_words] = word\n",
    "            self.num_words += 1\n",
    "        else:\n",
    "            self.word2count[word] += 1\n",
    "\n",
    "    # Remove words below a certain count threshold\n",
    "    def trim(self, min_count):\n",
    "        if self.trimmed:\n",
    "            return\n",
    "        self.trimmed = True\n",
    "\n",
    "        keep_words = []\n",
    "\n",
    "        for k, v in self.word2count.items():\n",
    "            if v >= min_count:\n",
    "                keep_words.append(k)\n",
    "\n",
    "        print('keep_words {} / {} = {:.4f}'.format(\n",
    "            len(keep_words), len(self.word2index), len(keep_words) / len(self.word2index)\n",
    "        ))\n",
    "\n",
    "        # Reinitialize dictionaries\n",
    "        self.word2index = {\"UNK\": UNK_token}\n",
    "        self.word2count = {}\n",
    "        self.index2word = {PAD_token: \"PAD\", SOS_token: \"SOS\", EOS_token: \"EOS\", UNK_token: \"UNK\"}\n",
    "        self.num_words = 4 # Count default tokens\n",
    "\n",
    "        for word in keep_words:\n",
    "            self.addWord(word)\n",
    "\n",
    "# Create a Voc object from precomputed data structures\n",
    "def loadPrecomputedVoc(corpus_name, word2index_url, index2word_url):\n",
    "    # load the word-to-index lookup map\n",
    "    r = requests.get(word2index_url)\n",
    "    word2index = r.json()\n",
    "    # load the index-to-word lookup map\n",
    "    r = requests.get(index2word_url)\n",
    "    index2word = r.json()\n",
    "    return Voc(corpus_name, word2index, index2word)"
   ]
  },
  {
   "cell_type": "code",
   "execution_count": 4,
   "metadata": {
    "colab": {},
    "colab_type": "code",
    "id": "0SazSyux7KFS"
   },
   "outputs": [],
   "source": [
    "# Helper functions for preprocessing and tokenizing text\n",
    "\n",
    "# Turn a Unicode string to plain ASCII, thanks to\n",
    "# https://stackoverflow.com/a/518232/2809427\n",
    "def unicodeToAscii(s):\n",
    "    return ''.join(\n",
    "        c for c in unicodedata.normalize('NFD', s)\n",
    "        if unicodedata.category(c) != 'Mn'\n",
    "    )\n",
    "\n",
    "# Tokenize the string using NLTK\n",
    "def tokenize(text):\n",
    "    tokenizer = nltk.tokenize.RegexpTokenizer(pattern=r'\\w+|[^\\w\\s]')\n",
    "    # simplify the problem space by considering only ASCII data\n",
    "    cleaned_text = unicodeToAscii(text.lower())\n",
    "\n",
    "    # if the resulting string is empty, nothing else to do\n",
    "    if not cleaned_text.strip():\n",
    "        return []\n",
    "    \n",
    "    return tokenizer.tokenize(cleaned_text)\n",
    "\n",
    "# Given a ConvoKit conversation, preprocess each utterance's text by tokenizing and truncating.\n",
    "# Returns the processed dialog entry where text has been replaced with a list of\n",
    "# tokens, each no longer than MAX_LENGTH - 1 (to leave space for the EOS token)\n",
    "def processDialog(voc, dialog):\n",
    "    processed = []\n",
    "    for utterance in dialog.iter_utterances():\n",
    "        # skip the section header, which does not contain conversational content\n",
    "        if utterance.meta['is_section_header']:\n",
    "            continue\n",
    "        tokens = tokenize(utterance.text)\n",
    "        # replace out-of-vocabulary tokens\n",
    "        for i in range(len(tokens)):\n",
    "            if tokens[i] not in voc.word2index:\n",
    "                tokens[i] = \"UNK\"\n",
    "        processed.append({\"tokens\": tokens, \"is_attack\": int(utterance.meta['comment_has_personal_attack']), \"id\": utterance.id})\n",
    "    return processed\n",
    "\n",
    "# Load context-reply pairs from the Corpus, optionally filtering to only conversations\n",
    "# from the specified split (train, val, or test).\n",
    "# Each conversation, which has N comments (not including the section header) will\n",
    "# get converted into N-1 comment-reply pairs, one pair for each reply \n",
    "# (the first comment does not reply to anything).\n",
    "# Each comment-reply pair is a tuple consisting of the conversational context\n",
    "# (that is, all comments prior to the reply), the reply itself, the label (that\n",
    "# is, whether the reply contained a derailment event), and the comment ID of the\n",
    "# reply (for later use in re-joining with the ConvoKit corpus).\n",
    "# The function returns a list of such pairs.\n",
    "def loadPairs(voc, corpus, split=None):\n",
    "    pairs = []\n",
    "    for convo in corpus.iter_conversations():\n",
    "        # consider only conversations in the specified split of the data\n",
    "        if split is None or convo.meta['split'] == split:\n",
    "            dialog = processDialog(voc, convo)\n",
    "            for idx in range(1, len(dialog)):\n",
    "                reply = dialog[idx][\"tokens\"][:(MAX_LENGTH-1)]\n",
    "                label = dialog[idx][\"is_attack\"]\n",
    "                comment_id = dialog[idx][\"id\"]\n",
    "                # gather as context all utterances preceding the reply\n",
    "                context = [u[\"tokens\"][:(MAX_LENGTH-1)] for u in dialog[:idx]]\n",
    "                pairs.append((context, reply, label, comment_id))\n",
    "    return pairs"
   ]
  },
  {
   "cell_type": "code",
   "execution_count": 5,
   "metadata": {
    "colab": {},
    "colab_type": "code",
    "id": "zo4Mg7AEK-0Q"
   },
   "outputs": [],
   "source": [
    "# Helper functions for turning dialog and text sequences into tensors, and manipulating those tensors\n",
    "\n",
    "def indexesFromSentence(voc, sentence):\n",
    "    return [voc.word2index[word] for word in sentence] + [EOS_token]\n",
    "\n",
    "def zeroPadding(l, fillvalue=PAD_token):\n",
    "    return list(itertools.zip_longest(*l, fillvalue=fillvalue))\n",
    "\n",
    "def binaryMatrix(l, value=PAD_token):\n",
    "    m = []\n",
    "    for i, seq in enumerate(l):\n",
    "        m.append([])\n",
    "        for token in seq:\n",
    "            if token == PAD_token:\n",
    "                m[i].append(0)\n",
    "            else:\n",
    "                m[i].append(1)\n",
    "    return m\n",
    "\n",
    "# Takes a batch of dialogs (lists of lists of tokens) and converts it into a\n",
    "# batch of utterances (lists of tokens) sorted by length, while keeping track of\n",
    "# the information needed to reconstruct the original batch of dialogs\n",
    "def dialogBatch2UtteranceBatch(dialog_batch):\n",
    "    utt_tuples = [] # will store tuples of (utterance, original position in batch, original position in dialog)\n",
    "    for batch_idx in range(len(dialog_batch)):\n",
    "        dialog = dialog_batch[batch_idx]\n",
    "        for dialog_idx in range(len(dialog)):\n",
    "            utterance = dialog[dialog_idx]\n",
    "            utt_tuples.append((utterance, batch_idx, dialog_idx))\n",
    "    # sort the utterances in descending order of length, to remain consistent with pytorch padding requirements\n",
    "    utt_tuples.sort(key=lambda x: len(x[0]), reverse=True)\n",
    "    # return the utterances, original batch indices, and original dialog indices as separate lists\n",
    "    utt_batch = [u[0] for u in utt_tuples]\n",
    "    batch_indices = [u[1] for u in utt_tuples]\n",
    "    dialog_indices = [u[2] for u in utt_tuples]\n",
    "    return utt_batch, batch_indices, dialog_indices\n",
    "\n",
    "# Returns padded input sequence tensor and lengths\n",
    "def inputVar(l, voc):\n",
    "    indexes_batch = [indexesFromSentence(voc, sentence) for sentence in l]\n",
    "    lengths = torch.tensor([len(indexes) for indexes in indexes_batch])\n",
    "    padList = zeroPadding(indexes_batch)\n",
    "    padVar = torch.LongTensor(padList)\n",
    "    return padVar, lengths\n",
    "\n",
    "# Returns padded target sequence tensor, padding mask, and max target length\n",
    "def outputVar(l, voc):\n",
    "    indexes_batch = [indexesFromSentence(voc, sentence) for sentence in l]\n",
    "    max_target_len = max([len(indexes) for indexes in indexes_batch])\n",
    "    padList = zeroPadding(indexes_batch)\n",
    "    mask = binaryMatrix(padList)\n",
    "    mask = torch.ByteTensor(mask)\n",
    "    padVar = torch.LongTensor(padList)\n",
    "    return padVar, mask, max_target_len\n",
    "\n",
    "# Returns all items for a given batch of pairs\n",
    "def batch2TrainData(voc, pair_batch, already_sorted=False):\n",
    "    if not already_sorted:\n",
    "        pair_batch.sort(key=lambda x: len(x[0]), reverse=True)\n",
    "    input_batch, output_batch, label_batch, id_batch = [], [], [], []\n",
    "    for pair in pair_batch:\n",
    "        input_batch.append(pair[0])\n",
    "        output_batch.append(pair[1])\n",
    "        label_batch.append(pair[2])\n",
    "        id_batch.append(pair[3])\n",
    "    dialog_lengths = torch.tensor([len(x) for x in input_batch])\n",
    "    input_utterances, batch_indices, dialog_indices = dialogBatch2UtteranceBatch(input_batch)\n",
    "    inp, utt_lengths = inputVar(input_utterances, voc)\n",
    "    output, mask, max_target_len = outputVar(output_batch, voc)\n",
    "    label_batch = torch.FloatTensor(label_batch) if label_batch[0] is not None else None\n",
    "    return inp, dialog_lengths, utt_lengths, batch_indices, dialog_indices, label_batch, id_batch, output, mask, max_target_len\n",
    "\n",
    "def batchIterator(voc, source_data, batch_size, shuffle=True):\n",
    "    cur_idx = 0\n",
    "    if shuffle:\n",
    "        random.shuffle(source_data)\n",
    "    while True:\n",
    "        if cur_idx >= len(source_data):\n",
    "            cur_idx = 0\n",
    "            if shuffle:\n",
    "                random.shuffle(source_data)\n",
    "        batch = source_data[cur_idx:(cur_idx+batch_size)]\n",
    "        # the true batch size may be smaller than the given batch size if there is not enough data left\n",
    "        true_batch_size = len(batch)\n",
    "        # ensure that the dialogs in this batch are sorted by length, as expected by the padding module\n",
    "        batch.sort(key=lambda x: len(x[0]), reverse=True)\n",
    "        # for analysis purposes, get the source dialogs and labels associated with this batch\n",
    "        batch_dialogs = [x[0] for x in batch]\n",
    "        batch_labels = [x[2] for x in batch]\n",
    "        # convert batch to tensors\n",
    "        batch_tensors = batch2TrainData(voc, batch, already_sorted=True)\n",
    "        yield (batch_tensors, batch_dialogs, batch_labels, true_batch_size) \n",
    "        cur_idx += batch_size"
   ]
  },
  {
   "cell_type": "markdown",
   "metadata": {
    "colab_type": "text",
    "id": "o_ev-7g-xsGQ"
   },
   "source": [
    "## Part 2: load the data\n",
    "\n",
    "Now we load the labeled Wikiconv corpus from ConvoKit, and run some transformations to prepare it for use with PyTorch"
   ]
  },
  {
   "cell_type": "code",
   "execution_count": 6,
   "metadata": {
    "colab": {},
    "colab_type": "code",
    "id": "Y96SXcp4x1yj"
   },
   "outputs": [
    {
     "name": "stdout",
     "output_type": "stream",
     "text": [
      "Dataset already exists at /Users/calebchiam/.convokit/downloads/conversations-gone-awry-corpus\n"
     ]
    }
   ],
   "source": [
    "corpus = Corpus(filename=download(\"conversations-gone-awry-corpus\"))"
   ]
  },
  {
   "cell_type": "code",
   "execution_count": 7,
   "metadata": {
    "colab": {},
    "colab_type": "code",
    "id": "fPySt5a4yLId"
   },
   "outputs": [
    {
     "name": "stdout",
     "output_type": "stream",
     "text": [
      "30021\n",
      "8069\n",
      "4188\n"
     ]
    }
   ],
   "source": [
    "# let's check some quick stats to verify that the corpus loaded correctly\n",
    "print(len(corpus.get_utterance_ids()))\n",
    "print(len(corpus.get_usernames()))\n",
    "print(len(corpus.get_conversation_ids()))"
   ]
  },
  {
   "cell_type": "code",
   "execution_count": 8,
   "metadata": {
    "colab": {},
    "colab_type": "code",
    "id": "eeNfs0A-yosu"
   },
   "outputs": [
    {
     "name": "stdout",
     "output_type": "stream",
     "text": [
      "{'_owner': <convokit.model.corpus.Corpus object at 0x10899b860>, '_id': '146743638.12652.12652', '_utterance_ids': ['146743638.12652.12652', '146743638.12667.12652', '146842219.12874.12874', '146860774.13072.13072'], '_usernames': None, '_meta': {'page_title': 'User talk:2005', 'page_id': 1003212, 'pair_id': '143890867.11926.11926', 'conversation_has_personal_attack': False, 'verified': True, 'pair_verified': True, 'annotation_year': '2018', 'split': 'train'}}\n",
      "Utterance({'id': '146743638.12652.12652', 'user': User([('name', 'Sirex98')]), 'root': '146743638.12652.12652', 'reply_to': None, 'timestamp': 1185295934.0, 'text': '== [WIKI_LINK: WP:COMMONNAME] ==\\n', 'meta': {'is_section_header': True, 'comment_has_personal_attack': False, 'toxicity': 0}})\n"
     ]
    }
   ],
   "source": [
    "# Let's also take a look at some example data to see what kinds of information/metadata are available to us\n",
    "print(list(corpus.iter_conversations())[0].__dict__)\n",
    "print(list(corpus.iter_utterances())[0])"
   ]
  },
  {
   "cell_type": "markdown",
   "metadata": {
    "colab_type": "text",
    "id": "v3QIoTtbzOfY"
   },
   "source": [
    "Now we can use the utilities defined in Part 1 to convert the ConvoKit conversational data into a tokenized form that can be straightforwardly turned into Tensors later."
   ]
  },
  {
   "cell_type": "code",
   "execution_count": 9,
   "metadata": {
    "colab": {},
    "colab_type": "code",
    "id": "WlpbT72FxK8W"
   },
   "outputs": [],
   "source": [
    "# First, we need to build the vocabulary so that we know how to map tokens to tensor indicies.\n",
    "# For the sake of replicating the paper results, we will load the pre-computed vocabulary objects used in the paper.\n",
    "voc = loadPrecomputedVoc(\"wikiconv\", WORD2INDEX_URL, INDEX2WORD_URL)"
   ]
  },
  {
   "cell_type": "code",
   "execution_count": 10,
   "metadata": {
    "colab": {
     "base_uri": "https://localhost:8080/",
     "height": 72
    },
    "colab_type": "code",
    "id": "eRSAVrgSxhmD",
    "outputId": "8db8b58e-08c9-4f7c-b00a-4765151be5d9"
   },
   "outputs": [
    {
     "name": "stdout",
     "output_type": "stream",
     "text": [
      "50004\n",
      "[('UNK', 3), ('.', 4), ('the', 5), (\"'\", 6), (',', 7), ('to', 8), ('i', 9), ('of', 10), ('a', 11), ('and', 12)]\n",
      "[('0', 'PAD'), ('1', 'SOS'), ('2', 'EOS'), ('3', 'UNK'), ('4', '.'), ('5', 'the'), ('6', \"'\"), ('7', ','), ('8', 'to'), ('9', 'i')]\n"
     ]
    }
   ],
   "source": [
    "# Inspect the Voc object to make sure it loaded correctly\n",
    "print(voc.num_words) # expected vocab size is 50004: it was built using a fixed vocab size of 50k plus 4 spots for special tokens PAD, SOS, EOS, and UNK.\n",
    "print(list(voc.word2index.items())[:10])\n",
    "print(list(voc.index2word.items())[:10])"
   ]
  },
  {
   "cell_type": "code",
   "execution_count": 12,
   "metadata": {
    "colab": {},
    "colab_type": "code",
    "id": "pmaWfn7vyTjy"
   },
   "outputs": [],
   "source": [
    "# Convert the test set data into a list of input/label pairs. Each input will represent the conversation as a list of lists of tokens.\n",
    "test_pairs = loadPairs(voc, corpus, \"test\")"
   ]
  },
  {
   "cell_type": "code",
   "execution_count": 13,
   "metadata": {
    "colab": {
     "base_uri": "https://localhost:8080/",
     "height": 147
    },
    "colab_type": "code",
    "id": "RIiQNvg4zBEi",
    "outputId": "a38e339f-8edf-4d60-c645-0239a97d2c1e"
   },
   "outputs": [
    {
     "name": "stdout",
     "output_type": "stream",
     "text": [
      "4365\n",
      "([['i', 'was', 'a', 'bit', 'disgruntled', 'you', 'recently', 'deleted', 'my', 'article', 'on', 'UNK', ',', 'especially', 'just', 'after', 'it', 'had', 'been', 'patrolled', '.', 'i', 'am', 'a', 'user', 'of', 'the', 'site', 'who', 'was', 'interested', 'in', 'its', 'message', 'and', 'felt', 'compelled', 'to', 'look', 'further', 'into', 'it', '(', 'seriously', ',', 'my', 'sources', 'are', 'the', 'first', 'couple', 'things', 'that', 'popped', 'up', 'after', 'a', 'google', 'search', ')', '.', 'i', 'am', 'a', 'bit', 'confused', 'why', 'a', 'well', 'written', 'and', 'documented', 'article', '(', 'my', 'first', ')', 'about', 'an']], ['well', ',', 'i', 'am', 'not', 'sure', 'if', 'the', 'article', 'meets', 'UNK', 'but', 'i', 'think', 'that', 'a', 'claim', 'of', '150', ',', '000', 'users', 'a', 'month', 'is', 'a', 'decent', 'claim', 'of', 'notability', 'and', 'there', 'are', 'a', 'few', 'mentions', 'in', 'rs', 'in', 'google', 'news', 'so', 'could', 'you', 'undelete', 'this', 'article', 'and', 'then', 'send', 'it', 'to', 'afd', 'where', 'its', 'notability', 'can', 'be', 'better', 'decided', '.', '-', \"'\", \"'\", \"'\", \"'\", \"'\", \"'\"], 0, '240153963.16690.16690')\n",
      "([['i', 'was', 'a', 'bit', 'disgruntled', 'you', 'recently', 'deleted', 'my', 'article', 'on', 'UNK', ',', 'especially', 'just', 'after', 'it', 'had', 'been', 'patrolled', '.', 'i', 'am', 'a', 'user', 'of', 'the', 'site', 'who', 'was', 'interested', 'in', 'its', 'message', 'and', 'felt', 'compelled', 'to', 'look', 'further', 'into', 'it', '(', 'seriously', ',', 'my', 'sources', 'are', 'the', 'first', 'couple', 'things', 'that', 'popped', 'up', 'after', 'a', 'google', 'search', ')', '.', 'i', 'am', 'a', 'bit', 'confused', 'why', 'a', 'well', 'written', 'and', 'documented', 'article', '(', 'my', 'first', ')', 'about', 'an'], ['well', ',', 'i', 'am', 'not', 'sure', 'if', 'the', 'article', 'meets', 'UNK', 'but', 'i', 'think', 'that', 'a', 'claim', 'of', '150', ',', '000', 'users', 'a', 'month', 'is', 'a', 'decent', 'claim', 'of', 'notability', 'and', 'there', 'are', 'a', 'few', 'mentions', 'in', 'rs', 'in', 'google', 'news', 'so', 'could', 'you', 'undelete', 'this', 'article', 'and', 'then', 'send', 'it', 'to', 'afd', 'where', 'its', 'notability', 'can', 'be', 'better', 'decided', '.', '-', \"'\", \"'\", \"'\", \"'\", \"'\", \"'\"]], ['with', 'regard', 'to', 'the', 'article', \"'\", 's', 'lack', 'of', 'notability', 'and', 'a', 'lack', 'of', 'citations', ',', 'look', 'at', 'UNK', '.', 'it', 'has', 'only', 'one', 'citation', 'not', 'linking', 'to', 'itself', 'in', 'its', 'entire', 'article', '(', 'whereas', '6', 'similar', 'sources', 'are', 'used', 'on', 'UNK', ')', ',', 'and', 'it', 'has', 'never', 'logged', 'more', 'than', '10', ',', '000', 'unique', 'users', '/', 'month', 'in', 'its', 'short', 'history', '(', 'http', ':', '/', '/', 'www', '.', 'UNK', '.', 'com', '/', 'company', '/', 'UNK', ')', '.', 'a'], 0, '240786321.13311.13311')\n",
      "([['i', 'want', 'this', 'topic', 'to', 'be', 'unprotected', ',', 'so', 'i', 'suggest', 'you', 'do', 'so', '.', 'do', 'you', 'wanna', 'go', 'to', 'war', 'with', 'me', '?']], ['don', \"'\", 't', 'be', 'absurd', '.', 'taking', 'it', 'to', 'your', 'talk', 'page', '.', '|'], 0, '241132175.18826.18826')\n",
      "([['i', 'want', 'this', 'topic', 'to', 'be', 'unprotected', ',', 'so', 'i', 'suggest', 'you', 'do', 'so', '.', 'do', 'you', 'wanna', 'go', 'to', 'war', 'with', 'me', '?'], ['don', \"'\", 't', 'be', 'absurd', '.', 'taking', 'it', 'to', 'your', 'talk', 'page', '.', '|']], ['are', 'you', 'a', 'moron', '?', 'did', 'you', 'even', 'bother', 'to', 'read', 'this', '?', 'i', \"'\", 'm', 'going', 'to', 'escalate', 'this', '.', 'i', 'suggest', 'you', 'learn', 'about', 'me', 'before', 'declaring', 'war', '.', '.', '.', '.'], 1, '241133122.18853.18853')\n",
      "([['how', 'can', 'anyone', 'be', 'so', 'sure', 'they', 'were', 'married', 'from', '1977', 'until', '1983', 'or', 'whatever', 'it', 'was', '?', 'just', 'because', 'she', 'was', '15', ',', 'doesn', \"'\", 't', 'mean', 'she', 'married', 'in', 'the', 'year', 'she', 'turned', '15', ',', 'it', 'could', 'have', 'been', 'the', 'year', 'she', 'turned', '16', '.', 'are', 'we', 'even', 'sure', 'she', 'was', 'born', 'in', '1962', '?', 'how', 'do', 'we', 'know', 'she', 'married', 'UNK', 'in', '1983', '?', '–', '–']], ['i', \"'\", 'm', 'not', 'sure', 'about', 'her', 'marriage', 'to', 'UNK', ',', 'although', 'i', 'remember', 'them', 'stating', 'when', 'they', 'were', 'about', 'to', 'go', 'travelling', '(', 'just', 'before', 'she', 'discovered', 'she', 'was', 'pregnant', 'with', 'UNK', ')', 'that', 'they', 'had', 'been', 'married', '26', 'years', 'and', 'this', 'was', 'in', 'august', '2009', '.'], 0, '463838506.2299.2299')\n"
     ]
    }
   ],
   "source": [
    "# Validate the conversion by checking data size and some samples\n",
    "print(len(test_pairs))\n",
    "for p in test_pairs[:5]:\n",
    "    print(p)"
   ]
  },
  {
   "cell_type": "code",
   "execution_count": 14,
   "metadata": {},
   "outputs": [
    {
     "data": {
      "text/plain": [
       "'15833000.3256.3256'"
      ]
     },
     "execution_count": 14,
     "metadata": {},
     "output_type": "execute_result"
    }
   ],
   "source": [
    "test_pairs[15][3]"
   ]
  },
  {
   "cell_type": "code",
   "execution_count": 15,
   "metadata": {},
   "outputs": [],
   "source": [
    "uttid_to_test_pair = {test_pair[3]: test_pair for test_pair in test_pairs}"
   ]
  },
  {
   "cell_type": "code",
   "execution_count": 16,
   "metadata": {},
   "outputs": [
    {
     "name": "stdout",
     "output_type": "stream",
     "text": [
      "['i', 'removed', 'these', 'images', 'from', 'the', 'gallery', 'because', 'there', 'was', 'no', 'indication', 'anywhere', 'on', 'their', 'description', 'pages', 'or', 'in', 'their', 'filenames', 'that', 'indicated', 'that', 'they', 'were', 'intended', 'as', 'depictions', 'of', 'gliese', '581', 'c', ':', 'simply', 'adding', '\"', 'gliese', '581', 'c', '\"', 'to', 'the', \"'\", \"'\", 'captions', \"'\", \"'\", 'doesn', \"'\", 't', 'really', 'prove', 'anything', '.', '205', '.', '200', '.', '236', '.', '34', ',', 'could', 'you', 'provide', 'some', 'sort', 'of', 'evidence', 'that', 'these', 'are', 'in', 'fact', 'intended', 'to', 'be', 'depictions']\n",
      "\n",
      "['this', 'is', 'a', 'joke', 'to', 'me', 'boy', \"'\", 'o', ',', 'the', 'images', 'that', 'you', 'kept', 'there', 'were', 'still', 'there', 'becuase', 'they', 'have', 'the', 'name', 'gliese', '581', 'c', 'in', 'the', 'file', 'name', '.', '.', '.', 'it', 'makes', 'no', 'difference', 'as', 'anyone', 'can', 'name', 'a', 'photo', 'with', 'what', 'ever', 'name', 'they', 'like', ',', 'it', \"'\", 's', 'the', 'same', 'as', 'adding', 'the', 'label', 'to', 'the', 'gallery', 'afterward', '.', 'your', 'point', 'is', 'UNK', ',', 'unless', 'it', 'is', 'to', 'get', 'them', 'all', 'deleted', '.']\n",
      "\n",
      "['ps', '.', 'that', 'ice', 'planet', 'is', 'a', 'ripoff', 'of', 'UNK', \"'\", 's', 'titan', 'texture', '.']\n",
      "\n",
      "['the', 'point', 'i', \"'\", 'm', 'making', 'is', 'that', 'in', 'the', 'case', 'of', \"'\", \"'\", 'these', \"'\", \"'\", 'four', 'images', 'they', 'don', \"'\", 't', \"'\", \"'\", 'even', \"'\", \"'\", 'have', 'a', 'filename', 'to', 'suggest', 'that', 'they', \"'\", 're', 'in', 'any', 'way', 'associated', 'with', 'gliese', '581', 'c', '.', 'whether', 'the', 'others', 'i', 'didn', \"'\", 't', 'remove', 'are', 'reasonable', 'to', 'include', 'here', 'is', 'a', 'separate', 'matter', ',', 'i', 'figured', 'i', \"'\", 'd', 'just', 'prune', 'out', 'the', 'obvious', 'ones', 'first', '.', 'does', 'anyone']\n",
      "\n",
      "['i', \"'\", 've', 'removed', 'them', 'again', ',', 'if', 'anyone', 'wants', 'to', 'reinsert', 'them', 'please', 'provide', 'some', 'evidence', 'that', 'they', 'have', 'anything', 'to', 'do', 'with', 'gliese', '581', 'c', 'in', 'some', 'way', '.']\n",
      "\n"
     ]
    }
   ],
   "source": [
    "for token_list in uttid_to_test_pair['201082648.33321.33321'][0]:\n",
    "    print(token_list)\n",
    "    print()"
   ]
  },
  {
   "cell_type": "markdown",
   "metadata": {
    "colab_type": "text",
    "id": "ghTVeRFK0CUe"
   },
   "source": [
    "## Part 3: define the model\n",
    "\n",
    "Next, we need to set up the individual components of the CRAFT framework: the utterance encoder, the context encoder, and the classification head (since we are only running inference on an already-trained model, we do not need to define the decoder here). Each component will be defined as a PyTorch `nn.Module`."
   ]
  },
  {
   "cell_type": "code",
   "execution_count": 17,
   "metadata": {
    "colab": {},
    "colab_type": "code",
    "id": "ZzAgSRKi0p_I"
   },
   "outputs": [],
   "source": [
    "class EncoderRNN(nn.Module):\n",
    "    \"\"\"This module represents the utterance encoder component of CRAFT, responsible for creating vector representations of utterances\"\"\"\n",
    "    def __init__(self, hidden_size, embedding, n_layers=1, dropout=0):\n",
    "        super(EncoderRNN, self).__init__()\n",
    "        self.n_layers = n_layers\n",
    "        self.hidden_size = hidden_size\n",
    "        self.embedding = embedding\n",
    "\n",
    "        # Initialize GRU; the input_size and hidden_size params are both set to 'hidden_size'\n",
    "        #   because our input size is a word embedding with number of features == hidden_size\n",
    "        self.gru = nn.GRU(hidden_size, hidden_size, n_layers,\n",
    "                          dropout=(0 if n_layers == 1 else dropout), bidirectional=True)\n",
    "\n",
    "    def forward(self, input_seq, input_lengths, hidden=None):\n",
    "        # Convert word indexes to embeddings\n",
    "        embedded = self.embedding(input_seq)\n",
    "        # Pack padded batch of sequences for RNN module\n",
    "        packed = torch.nn.utils.rnn.pack_padded_sequence(embedded, input_lengths)\n",
    "        # Forward pass through GRU\n",
    "        outputs, hidden = self.gru(packed, hidden)\n",
    "        # Unpack padding\n",
    "        outputs, _ = torch.nn.utils.rnn.pad_packed_sequence(outputs)\n",
    "        # Sum bidirectional GRU outputs\n",
    "        outputs = outputs[:, :, :self.hidden_size] + outputs[:, : ,self.hidden_size:]\n",
    "        # Return output and final hidden state\n",
    "        return outputs, hidden\n",
    "\n",
    "class ContextEncoderRNN(nn.Module):\n",
    "    \"\"\"This module represents the context encoder component of CRAFT, responsible for creating an order-sensitive vector representation of conversation context\"\"\"\n",
    "    def __init__(self, hidden_size, n_layers=1, dropout=0):\n",
    "        super(ContextEncoderRNN, self).__init__()\n",
    "        self.n_layers = n_layers\n",
    "        self.hidden_size = hidden_size\n",
    "        \n",
    "        # only unidirectional GRU for context encoding\n",
    "        self.gru = nn.GRU(hidden_size, hidden_size, n_layers,\n",
    "                          dropout=(0 if n_layers == 1 else dropout), bidirectional=False)\n",
    "        \n",
    "    def forward(self, input_seq, input_lengths, hidden=None):\n",
    "        # Pack padded batch of sequences for RNN module\n",
    "        packed = torch.nn.utils.rnn.pack_padded_sequence(input_seq, input_lengths)\n",
    "        # Forward pass through GRU\n",
    "        outputs, hidden = self.gru(packed, hidden)\n",
    "        # Unpack padding\n",
    "        outputs, _ = torch.nn.utils.rnn.pad_packed_sequence(outputs)\n",
    "        # return output and final hidden state\n",
    "        return outputs, hidden\n",
    "\n",
    "class SingleTargetClf(nn.Module):\n",
    "    \"\"\"This module represents the CRAFT classifier head, which takes the context encoding and uses it to make a forecast\"\"\"\n",
    "    def __init__(self, hidden_size, dropout=0.1):\n",
    "        super(SingleTargetClf, self).__init__()\n",
    "        \n",
    "        self.hidden_size = hidden_size\n",
    "        \n",
    "        # initialize classifier\n",
    "        self.layer1 = nn.Linear(hidden_size, hidden_size)\n",
    "        self.layer1_act = nn.LeakyReLU()\n",
    "        self.layer2 = nn.Linear(hidden_size, hidden_size // 2)\n",
    "        self.layer2_act = nn.LeakyReLU()\n",
    "        self.clf = nn.Linear(hidden_size // 2, 1)\n",
    "        self.dropout = nn.Dropout(p=dropout)\n",
    "        \n",
    "    def forward(self, encoder_outputs, encoder_input_lengths):\n",
    "        # from stackoverflow (https://stackoverflow.com/questions/50856936/taking-the-last-state-from-bilstm-bigru-in-pytorch)\n",
    "        # First we unsqueeze seqlengths two times so it has the same number of\n",
    "        # of dimensions as output_forward\n",
    "        # (batch_size) -> (1, batch_size, 1)\n",
    "        lengths = encoder_input_lengths.unsqueeze(0).unsqueeze(2)\n",
    "        # Then we expand it accordingly\n",
    "        # (1, batch_size, 1) -> (1, batch_size, hidden_size) \n",
    "        lengths = lengths.expand((1, -1, encoder_outputs.size(2)))\n",
    "\n",
    "        # take only the last state of the encoder for each batch\n",
    "        last_outputs = torch.gather(encoder_outputs, 0, lengths-1).squeeze()\n",
    "        # forward pass through hidden layers\n",
    "        layer1_out = self.layer1_act(self.layer1(self.dropout(last_outputs)))\n",
    "        layer2_out = self.layer2_act(self.layer2(self.dropout(layer1_out)))\n",
    "        # compute and return logits\n",
    "        logits = self.clf(self.dropout(layer2_out)).squeeze()\n",
    "        return logits\n",
    "\n",
    "class Predictor(nn.Module):\n",
    "    \"\"\"This helper module encapsulates the CRAFT pipeline, defining the logic of passing an input through each consecutive sub-module.\"\"\"\n",
    "    def __init__(self, encoder, context_encoder, classifier):\n",
    "        super(Predictor, self).__init__()\n",
    "        self.encoder = encoder\n",
    "        self.context_encoder = context_encoder\n",
    "        self.classifier = classifier\n",
    "        \n",
    "    def forward(self, input_batch, dialog_lengths, dialog_lengths_list, utt_lengths, batch_indices, dialog_indices, batch_size, max_length):\n",
    "        # Forward input through encoder model\n",
    "        _, utt_encoder_hidden = self.encoder(input_batch, utt_lengths)\n",
    "        \n",
    "        # Convert utterance encoder final states to batched dialogs for use by context encoder\n",
    "        context_encoder_input = makeContextEncoderInput(utt_encoder_hidden, dialog_lengths_list, batch_size, batch_indices, dialog_indices)\n",
    "        \n",
    "        # Forward pass through context encoder\n",
    "        context_encoder_outputs, context_encoder_hidden = self.context_encoder(context_encoder_input, dialog_lengths)\n",
    "        \n",
    "        # Forward pass through classifier to get prediction logits\n",
    "        logits = self.classifier(context_encoder_outputs, dialog_lengths)\n",
    "        \n",
    "        # Apply sigmoid activation\n",
    "        predictions = F.sigmoid(logits)\n",
    "        return predictions\n",
    "\n",
    "def makeContextEncoderInput(utt_encoder_hidden, dialog_lengths, batch_size, batch_indices, dialog_indices):\n",
    "    \"\"\"The utterance encoder takes in utterances in combined batches, with no knowledge of which ones go where in which conversation.\n",
    "       Its output is therefore also unordered. We correct this by using the information computed during tensor conversion to regroup\n",
    "       the utterance vectors into their proper conversational order.\"\"\"\n",
    "    # first, sum the forward and backward encoder states\n",
    "    utt_encoder_summed = utt_encoder_hidden[-2,:,:] + utt_encoder_hidden[-1,:,:]\n",
    "    # we now have hidden state of shape [utterance_batch_size, hidden_size]\n",
    "    # split it into a list of [hidden_size,] x utterance_batch_size\n",
    "    last_states = [t.squeeze() for t in utt_encoder_summed.split(1, dim=0)]\n",
    "    \n",
    "    # create a placeholder list of tensors to group the states by source dialog\n",
    "    states_dialog_batched = [[None for _ in range(dialog_lengths[i])] for i in range(batch_size)]\n",
    "    \n",
    "    # group the states by source dialog\n",
    "    for hidden_state, batch_idx, dialog_idx in zip(last_states, batch_indices, dialog_indices):\n",
    "        states_dialog_batched[batch_idx][dialog_idx] = hidden_state\n",
    "        \n",
    "    # stack each dialog into a tensor of shape [dialog_length, hidden_size]\n",
    "    states_dialog_batched = [torch.stack(d) for d in states_dialog_batched]\n",
    "    \n",
    "    # finally, condense all the dialog tensors into a single zero-padded tensor\n",
    "    # of shape [max_dialog_length, batch_size, hidden_size]\n",
    "    return torch.nn.utils.rnn.pad_sequence(states_dialog_batched)"
   ]
  },
  {
   "cell_type": "markdown",
   "metadata": {
    "colab_type": "text",
    "id": "9eG1p_cH5fw9"
   },
   "source": [
    "## Part 4: define the evaluation procedure\n",
    "\n",
    "We're almost ready to run! The last component we need is some code for actually running the data through the full CRAFT pipeline. This includes actually converting the text input into tensors (we use the utilities defined in Part 1 to do this) then passing the resulting tensors through each CRAFT module batch-by-batch."
   ]
  },
  {
   "cell_type": "code",
   "execution_count": 18,
   "metadata": {
    "colab": {},
    "colab_type": "code",
    "id": "yZqEcwEJ5bqn"
   },
   "outputs": [],
   "source": [
    "def _evaluate_batch(encoder, context_encoder, predictor, voc, input_batch, dialog_lengths, \n",
    "                  dialog_lengths_list, utt_lengths, batch_indices, dialog_indices, batch_size, device, max_length=MAX_LENGTH):\n",
    "    # Set device options\n",
    "    input_batch = input_batch.to(device)\n",
    "    dialog_lengths = dialog_lengths.to(device)\n",
    "    utt_lengths = utt_lengths.to(device)\n",
    "    # Predict future attack using predictor\n",
    "    scores = predictor(input_batch, dialog_lengths, dialog_lengths_list, utt_lengths, batch_indices, dialog_indices, batch_size, max_length)\n",
    "    predictions = (scores > 0.5).float()\n",
    "    return predictions, scores\n",
    "\n",
    "def _evaluate_dataset(dataset, encoder, context_encoder, predictor, voc, batch_size, device):\n",
    "    # create a batch iterator for the given data\n",
    "    batch_iterator = batchIterator(voc, dataset, batch_size, shuffle=False)\n",
    "    # find out how many iterations we will need to cover the whole dataset\n",
    "    n_iters = len(dataset) // batch_size + int(len(dataset) % batch_size > 0)\n",
    "    output_df = {\n",
    "        \"id\": [],\n",
    "        \"prediction\": [],\n",
    "        \"score\": []\n",
    "    }\n",
    "    for iteration in range(1, n_iters+1):\n",
    "        batch, batch_dialogs, _, true_batch_size = next(batch_iterator)\n",
    "        # Extract fields from batch\n",
    "        input_variable, dialog_lengths, utt_lengths, batch_indices, dialog_indices, labels, convo_ids, target_variable, mask, max_target_len = batch\n",
    "        dialog_lengths_list = [len(x) for x in batch_dialogs]\n",
    "        # run the model\n",
    "        predictions, scores = _evaluate_batch(encoder, context_encoder, predictor, voc, input_variable,\n",
    "                                            dialog_lengths, dialog_lengths_list, utt_lengths, batch_indices, dialog_indices,\n",
    "                                            true_batch_size, device)\n",
    "\n",
    "        # format the output as a dataframe (which we can later re-join with the corpus)\n",
    "        for i in range(true_batch_size):\n",
    "            convo_id = convo_ids[i]\n",
    "            pred = predictions[i].item()\n",
    "            score = scores[i].item()\n",
    "            output_df[\"id\"].append(convo_id)\n",
    "            output_df[\"prediction\"].append(pred)\n",
    "            output_df[\"score\"].append(score)\n",
    "                \n",
    "        print(\"Iteration: {}; Percent complete: {:.1f}%\".format(iteration, iteration / n_iters * 100))\n",
    "\n",
    "    return pd.DataFrame(output_df).set_index(\"id\")"
   ]
  },
  {
   "cell_type": "markdown",
   "metadata": {
    "colab_type": "text",
    "id": "Na5gjZGE-KA0"
   },
   "source": [
    "## Part 5: build and run the model\n",
    "\n",
    "We finally have all the components we need! Now we can instantiate the CRAFT model components, load the trained weights, and run the evaluation."
   ]
  },
  {
   "cell_type": "code",
   "execution_count": 19,
   "metadata": {
    "colab": {
     "base_uri": "https://localhost:8080/",
     "height": 1000
    },
    "colab_type": "code",
    "id": "2551GR65-Wm5",
    "outputId": "d836b623-b9d2-4069-abf1-5c8848a282c4"
   },
   "outputs": [
    {
     "name": "stdout",
     "output_type": "stream",
     "text": [
      "Loading saved parameters...\n",
      "\tDownloading trained CRAFT...\n",
      "\t...Done!\n",
      "Building encoders, decoder, and classifier...\n",
      "Models built and ready to go!\n"
     ]
    },
    {
     "name": "stderr",
     "output_type": "stream",
     "text": [
      "/Library/Frameworks/Python.framework/Versions/3.7/lib/python3.7/site-packages/torch/nn/functional.py:1351: UserWarning: nn.functional.sigmoid is deprecated. Use torch.sigmoid instead.\n",
      "  warnings.warn(\"nn.functional.sigmoid is deprecated. Use torch.sigmoid instead.\")\n"
     ]
    },
    {
     "name": "stdout",
     "output_type": "stream",
     "text": [
      "Iteration: 1; Percent complete: 1.4%\n",
      "Iteration: 2; Percent complete: 2.9%\n",
      "Iteration: 3; Percent complete: 4.3%\n",
      "Iteration: 4; Percent complete: 5.8%\n",
      "Iteration: 5; Percent complete: 7.2%\n",
      "Iteration: 6; Percent complete: 8.7%\n",
      "Iteration: 7; Percent complete: 10.1%\n",
      "Iteration: 8; Percent complete: 11.6%\n",
      "Iteration: 9; Percent complete: 13.0%\n",
      "Iteration: 10; Percent complete: 14.5%\n",
      "Iteration: 11; Percent complete: 15.9%\n",
      "Iteration: 12; Percent complete: 17.4%\n",
      "Iteration: 13; Percent complete: 18.8%\n",
      "Iteration: 14; Percent complete: 20.3%\n",
      "Iteration: 15; Percent complete: 21.7%\n",
      "Iteration: 16; Percent complete: 23.2%\n",
      "Iteration: 17; Percent complete: 24.6%\n",
      "Iteration: 18; Percent complete: 26.1%\n",
      "Iteration: 19; Percent complete: 27.5%\n",
      "Iteration: 20; Percent complete: 29.0%\n",
      "Iteration: 21; Percent complete: 30.4%\n",
      "Iteration: 22; Percent complete: 31.9%\n",
      "Iteration: 23; Percent complete: 33.3%\n",
      "Iteration: 24; Percent complete: 34.8%\n",
      "Iteration: 25; Percent complete: 36.2%\n",
      "Iteration: 26; Percent complete: 37.7%\n",
      "Iteration: 27; Percent complete: 39.1%\n",
      "Iteration: 28; Percent complete: 40.6%\n",
      "Iteration: 29; Percent complete: 42.0%\n",
      "Iteration: 30; Percent complete: 43.5%\n",
      "Iteration: 31; Percent complete: 44.9%\n",
      "Iteration: 32; Percent complete: 46.4%\n",
      "Iteration: 33; Percent complete: 47.8%\n",
      "Iteration: 34; Percent complete: 49.3%\n",
      "Iteration: 35; Percent complete: 50.7%\n",
      "Iteration: 36; Percent complete: 52.2%\n",
      "Iteration: 37; Percent complete: 53.6%\n",
      "Iteration: 38; Percent complete: 55.1%\n",
      "Iteration: 39; Percent complete: 56.5%\n",
      "Iteration: 40; Percent complete: 58.0%\n",
      "Iteration: 41; Percent complete: 59.4%\n",
      "Iteration: 42; Percent complete: 60.9%\n",
      "Iteration: 43; Percent complete: 62.3%\n",
      "Iteration: 44; Percent complete: 63.8%\n",
      "Iteration: 45; Percent complete: 65.2%\n",
      "Iteration: 46; Percent complete: 66.7%\n",
      "Iteration: 47; Percent complete: 68.1%\n",
      "Iteration: 48; Percent complete: 69.6%\n",
      "Iteration: 49; Percent complete: 71.0%\n",
      "Iteration: 50; Percent complete: 72.5%\n",
      "Iteration: 51; Percent complete: 73.9%\n",
      "Iteration: 52; Percent complete: 75.4%\n",
      "Iteration: 53; Percent complete: 76.8%\n",
      "Iteration: 54; Percent complete: 78.3%\n",
      "Iteration: 55; Percent complete: 79.7%\n",
      "Iteration: 56; Percent complete: 81.2%\n",
      "Iteration: 57; Percent complete: 82.6%\n",
      "Iteration: 58; Percent complete: 84.1%\n",
      "Iteration: 59; Percent complete: 85.5%\n",
      "Iteration: 60; Percent complete: 87.0%\n",
      "Iteration: 61; Percent complete: 88.4%\n",
      "Iteration: 62; Percent complete: 89.9%\n",
      "Iteration: 63; Percent complete: 91.3%\n",
      "Iteration: 64; Percent complete: 92.8%\n",
      "Iteration: 65; Percent complete: 94.2%\n",
      "Iteration: 66; Percent complete: 95.7%\n",
      "Iteration: 67; Percent complete: 97.1%\n",
      "Iteration: 68; Percent complete: 98.6%\n",
      "Iteration: 69; Percent complete: 100.0%\n"
     ]
    }
   ],
   "source": [
    "# Fix random state for reproducibility\n",
    "random.seed(2019)\n",
    "\n",
    "# Tell torch to use GPU. Note that if you are running this notebook in a non-GPU environment, you can change 'cuda' to 'cpu' to get the code to run.\n",
    "device = torch.device('cpu')\n",
    "\n",
    "print(\"Loading saved parameters...\")\n",
    "if not os.path.isfile(\"model.tar\"):\n",
    "    print(\"\\tDownloading trained CRAFT...\")\n",
    "    urlretrieve(MODEL_URL, \"model.tar\")\n",
    "    print(\"\\t...Done!\")\n",
    "# checkpoint = torch.load(\"model.tar\")\n",
    "# If running in a non-GPU environment, you need to tell PyTorch to convert the parameters to CPU tensor format.\n",
    "# To do so, replace the previous line with the following:\n",
    "checkpoint = torch.load(\"model.tar\", map_location=torch.device('cpu'))\n",
    "encoder_sd = checkpoint['en']\n",
    "context_sd = checkpoint['ctx']\n",
    "attack_clf_sd = checkpoint['atk_clf']\n",
    "embedding_sd = checkpoint['embedding']\n",
    "voc.__dict__ = checkpoint['voc_dict']\n",
    "\n",
    "print('Building encoders, decoder, and classifier...')\n",
    "# Initialize word embeddings\n",
    "embedding = nn.Embedding(voc.num_words, hidden_size)\n",
    "embedding.load_state_dict(embedding_sd)\n",
    "# Initialize utterance and context encoders\n",
    "encoder = EncoderRNN(hidden_size, embedding, encoder_n_layers, dropout)\n",
    "context_encoder = ContextEncoderRNN(hidden_size, context_encoder_n_layers, dropout)\n",
    "encoder.load_state_dict(encoder_sd)\n",
    "context_encoder.load_state_dict(context_sd)\n",
    "# Initialize classifier\n",
    "attack_clf = SingleTargetClf(hidden_size, dropout)\n",
    "attack_clf.load_state_dict(attack_clf_sd)\n",
    "# Use appropriate device\n",
    "encoder = encoder.to(device)\n",
    "context_encoder = context_encoder.to(device)\n",
    "attack_clf = attack_clf.to(device)\n",
    "print('Models built and ready to go!')\n",
    "\n",
    "# Set dropout layers to eval mode\n",
    "encoder.eval()\n",
    "context_encoder.eval()\n",
    "attack_clf.eval()\n",
    "\n",
    "# Initialize the pipeline\n",
    "predictor = Predictor(encoder, context_encoder, attack_clf)\n",
    "\n",
    "# Run the pipeline!\n",
    "forecasts_df = _evaluate_dataset(test_pairs, encoder, context_encoder, predictor, voc, batch_size, device)"
   ]
  },
  {
   "cell_type": "code",
   "execution_count": 20,
   "metadata": {
    "colab": {
     "base_uri": "https://localhost:8080/",
     "height": 708
    },
    "colab_type": "code",
    "id": "lVK-1NWHEy7l",
    "outputId": "6cc4e2c8-9ac5-41ef-aa37-aa377104ce38"
   },
   "outputs": [
    {
     "data": {
      "text/html": [
       "<div>\n",
       "<style scoped>\n",
       "    .dataframe tbody tr th:only-of-type {\n",
       "        vertical-align: middle;\n",
       "    }\n",
       "\n",
       "    .dataframe tbody tr th {\n",
       "        vertical-align: top;\n",
       "    }\n",
       "\n",
       "    .dataframe thead th {\n",
       "        text-align: right;\n",
       "    }\n",
       "</style>\n",
       "<table border=\"1\" class=\"dataframe\">\n",
       "  <thead>\n",
       "    <tr style=\"text-align: right;\">\n",
       "      <th></th>\n",
       "      <th>prediction</th>\n",
       "      <th>score</th>\n",
       "    </tr>\n",
       "    <tr>\n",
       "      <th>id</th>\n",
       "      <th></th>\n",
       "      <th></th>\n",
       "    </tr>\n",
       "  </thead>\n",
       "  <tbody>\n",
       "    <tr>\n",
       "      <th>191681310.17214.17214</th>\n",
       "      <td>1.0</td>\n",
       "      <td>0.694258</td>\n",
       "    </tr>\n",
       "    <tr>\n",
       "      <th>193088419.20001.20001</th>\n",
       "      <td>1.0</td>\n",
       "      <td>0.831659</td>\n",
       "    </tr>\n",
       "    <tr>\n",
       "      <th>191149920.17102.17102</th>\n",
       "      <td>0.0</td>\n",
       "      <td>0.426086</td>\n",
       "    </tr>\n",
       "    <tr>\n",
       "      <th>192892110.19259.19259</th>\n",
       "      <td>1.0</td>\n",
       "      <td>0.730473</td>\n",
       "    </tr>\n",
       "    <tr>\n",
       "      <th>190192199.17060.17060</th>\n",
       "      <td>0.0</td>\n",
       "      <td>0.271797</td>\n",
       "    </tr>\n",
       "    <tr>\n",
       "      <th>192890095.19227.19227</th>\n",
       "      <td>1.0</td>\n",
       "      <td>0.793584</td>\n",
       "    </tr>\n",
       "    <tr>\n",
       "      <th>190192005.17004.17004</th>\n",
       "      <td>0.0</td>\n",
       "      <td>0.139923</td>\n",
       "    </tr>\n",
       "    <tr>\n",
       "      <th>192885632.19156.19156</th>\n",
       "      <td>1.0</td>\n",
       "      <td>0.661455</td>\n",
       "    </tr>\n",
       "    <tr>\n",
       "      <th>190191827.16918.16918</th>\n",
       "      <td>0.0</td>\n",
       "      <td>0.335372</td>\n",
       "    </tr>\n",
       "    <tr>\n",
       "      <th>192882222.19129.19129</th>\n",
       "      <td>0.0</td>\n",
       "      <td>0.412740</td>\n",
       "    </tr>\n",
       "    <tr>\n",
       "      <th>190191097.16843.16843</th>\n",
       "      <td>0.0</td>\n",
       "      <td>0.343413</td>\n",
       "    </tr>\n",
       "    <tr>\n",
       "      <th>192642615.19074.19074</th>\n",
       "      <td>0.0</td>\n",
       "      <td>0.475780</td>\n",
       "    </tr>\n",
       "    <tr>\n",
       "      <th>190190570.16705.16705</th>\n",
       "      <td>1.0</td>\n",
       "      <td>0.565198</td>\n",
       "    </tr>\n",
       "    <tr>\n",
       "      <th>203899060.13359.13359</th>\n",
       "      <td>1.0</td>\n",
       "      <td>0.967847</td>\n",
       "    </tr>\n",
       "    <tr>\n",
       "      <th>15869198.3976.3976</th>\n",
       "      <td>0.0</td>\n",
       "      <td>0.432382</td>\n",
       "    </tr>\n",
       "    <tr>\n",
       "      <th>192640416.19036.19036</th>\n",
       "      <td>0.0</td>\n",
       "      <td>0.395026</td>\n",
       "    </tr>\n",
       "    <tr>\n",
       "      <th>190189346.16645.16645</th>\n",
       "      <td>0.0</td>\n",
       "      <td>0.229690</td>\n",
       "    </tr>\n",
       "    <tr>\n",
       "      <th>203898053.13222.13222</th>\n",
       "      <td>1.0</td>\n",
       "      <td>0.960140</td>\n",
       "    </tr>\n",
       "    <tr>\n",
       "      <th>390066809.29445.29445</th>\n",
       "      <td>1.0</td>\n",
       "      <td>0.727606</td>\n",
       "    </tr>\n",
       "    <tr>\n",
       "      <th>434001261.9906.9906</th>\n",
       "      <td>1.0</td>\n",
       "      <td>0.659510</td>\n",
       "    </tr>\n",
       "  </tbody>\n",
       "</table>\n",
       "</div>"
      ],
      "text/plain": [
       "                       prediction     score\n",
       "id                                         \n",
       "191681310.17214.17214         1.0  0.694258\n",
       "193088419.20001.20001         1.0  0.831659\n",
       "191149920.17102.17102         0.0  0.426086\n",
       "192892110.19259.19259         1.0  0.730473\n",
       "190192199.17060.17060         0.0  0.271797\n",
       "192890095.19227.19227         1.0  0.793584\n",
       "190192005.17004.17004         0.0  0.139923\n",
       "192885632.19156.19156         1.0  0.661455\n",
       "190191827.16918.16918         0.0  0.335372\n",
       "192882222.19129.19129         0.0  0.412740\n",
       "190191097.16843.16843         0.0  0.343413\n",
       "192642615.19074.19074         0.0  0.475780\n",
       "190190570.16705.16705         1.0  0.565198\n",
       "203899060.13359.13359         1.0  0.967847\n",
       "15869198.3976.3976            0.0  0.432382\n",
       "192640416.19036.19036         0.0  0.395026\n",
       "190189346.16645.16645         0.0  0.229690\n",
       "203898053.13222.13222         1.0  0.960140\n",
       "390066809.29445.29445         1.0  0.727606\n",
       "434001261.9906.9906           1.0  0.659510"
      ]
     },
     "execution_count": 20,
     "metadata": {},
     "output_type": "execute_result"
    }
   ],
   "source": [
    "# Inspect some of the outputs as a sanity-check\n",
    "forecasts_df.head(20)"
   ]
  },
  {
   "cell_type": "markdown",
   "metadata": {
    "colab_type": "text",
    "id": "m_EMZ7-SKtEP"
   },
   "source": [
    "## Part 6: merge predictions back into corpus and evaluate\n",
    "\n",
    "Now that the hard part is done, all that is left to do is to evaluate the predictions. Since the predictions are in no particular order, we will first merge each prediction back into the source corpus, and then evaluate each conversation according to the order of utterances within that conversation."
   ]
  },
  {
   "cell_type": "code",
   "execution_count": 21,
   "metadata": {
    "colab": {},
    "colab_type": "code",
    "id": "Vnjmtu-QLDVo"
   },
   "outputs": [],
   "source": [
    "# We will add a metadata entry to each test-set utterance signifying whether it was FORECAST to be a derailment.\n",
    "# Note that there is an important subtlety in how this metadata field is to be interpreted - the forecast for a given\n",
    "# utterance is made BEFORE the model actually sees the utterance. That is, the forecast does not mean \"the model thinks\n",
    "# this utterance *is* a derailment\" but rather that \"based on the context of all preceding utterances, the model predicted,\n",
    "# prior to actually seeing this utterance, that this utterance *would be* a derailment\".\n",
    "for convo in corpus.iter_conversations():\n",
    "    # only consider test set conversations (we did not make predictions for the other ones)\n",
    "    if convo.meta['split'] == \"test\":\n",
    "        for utt in convo.iter_utterances():\n",
    "            if utt.id in forecasts_df.index:\n",
    "                utt.meta['forecast_score'] = forecasts_df.loc[utt.id].score"
   ]
  },
  {
   "cell_type": "code",
   "execution_count": 22,
   "metadata": {
    "colab": {
     "base_uri": "https://localhost:8080/",
     "height": 35
    },
    "colab_type": "code",
    "id": "FYxW_AuWszqX",
    "outputId": "b61bb3fe-37d5-4e59-879e-a0fc418906aa"
   },
   "outputs": [
    {
     "name": "stdout",
     "output_type": "stream",
     "text": [
      "0.6642857142857143\n"
     ]
    }
   ],
   "source": [
    "# Finally, we can use the forecast-annotated corpus to compute the forecast accuracy.\n",
    "# Though we have an individual forecast per utterance, ground truth is at the conversation level:\n",
    "# either a conversation derails or it does not. Thus, forecast accuracy is computed as follows:\n",
    "#   - True positives are cases that actually derail, for which the model made at least one positive forecast ANYTIME prior to derailment\n",
    "#   - False positives are cases that don't derail but for which the model made at least one positive forecast\n",
    "#   - False negatives are cases that derail but for which the model made no positive forecasts prior to derailment\n",
    "#   - True negatives are cases that don't derail, for which the model made no positive forecasts\n",
    "# Note that by construction, the last comment of each conversation is the one marked as derailment, and that our earlier code was therefore\n",
    "# set up to not look at the last comment, meaning that all forecasts we obtained are forecasts made prior to derailment. This simplifies\n",
    "# the computation of forecast accuracy as we now do not need to explicitly consider when a forecast was made.\n",
    "\n",
    "conversational_forecasts_df = {\n",
    "    \"convo_id\": [],\n",
    "    \"label\": [],\n",
    "    \"score\": [],\n",
    "    \"prediction\": []\n",
    "}\n",
    "\n",
    "for convo in corpus.iter_conversations():\n",
    "    if convo.meta['split'] == \"test\":\n",
    "        conversational_forecasts_df['convo_id'].append(convo.id)\n",
    "        conversational_forecasts_df['label'].append(int(convo.meta['conversation_has_personal_attack']))\n",
    "        forecast_scores = [utt.meta['forecast_score'] for utt in convo.iter_utterances() if 'forecast_score' in utt.meta]\n",
    "        conversational_forecasts_df['score'] = np.max(forecast_scores)\n",
    "        conversational_forecasts_df['prediction'].append(int(np.max(forecast_scores) > FORECAST_THRESH))\n",
    "\n",
    "conversational_forecasts_df = pd.DataFrame(conversational_forecasts_df).set_index(\"convo_id\")\n",
    "print((conversational_forecasts_df.label == conversational_forecasts_df.prediction).mean())"
   ]
  },
  {
   "cell_type": "code",
   "execution_count": 23,
   "metadata": {
    "colab": {
     "base_uri": "https://localhost:8080/",
     "height": 72
    },
    "colab_type": "code",
    "id": "_49Yaz2FIo9S",
    "outputId": "b9a916f3-ab47-429e-8d80-c963ed92e381"
   },
   "outputs": [
    {
     "name": "stdout",
     "output_type": "stream",
     "text": [
      "Precision = 0.6348, recall = 0.7738\n",
      "False positive rate = 0.4452380952380952\n",
      "F1 = 0.6974248927038625\n"
     ]
    }
   ],
   "source": [
    "# in addition to accuracy, we can also consider applying other metrics at the conversation level, such as precision/recall\n",
    "def get_pr_stats(preds, labels):\n",
    "    tp = ((labels==1)&(preds==1)).sum()\n",
    "    fp = ((labels==0)&(preds==1)).sum()\n",
    "    tn = ((labels==0)&(preds==0)).sum()\n",
    "    fn = ((labels==1)&(preds==0)).sum()\n",
    "    print(\"Precision = {0:.4f}, recall = {1:.4f}\".format(tp / (tp + fp), tp / (tp + fn)))\n",
    "    print(\"False positive rate =\", fp / (fp + tn))\n",
    "    print(\"F1 =\", 2 / (((tp + fp) / tp) + ((tp + fn) / tp)))\n",
    "\n",
    "get_pr_stats(conversational_forecasts_df.prediction, conversational_forecasts_df.label)"
   ]
  },
  {
   "cell_type": "code",
   "execution_count": 31,
   "metadata": {},
   "outputs": [
    {
     "data": {
      "text/plain": [
       "840"
      ]
     },
     "execution_count": 31,
     "metadata": {},
     "output_type": "execute_result"
    }
   ],
   "source": [
    "len(conversational_forecasts_df)"
   ]
  },
  {
   "cell_type": "code",
   "execution_count": 32,
   "metadata": {},
   "outputs": [
    {
     "data": {
      "text/plain": [
       "420"
      ]
     },
     "execution_count": 32,
     "metadata": {},
     "output_type": "execute_result"
    }
   ],
   "source": [
    "sum(conversational_forecasts_df.label)"
   ]
  },
  {
   "cell_type": "code",
   "execution_count": 30,
   "metadata": {},
   "outputs": [
    {
     "data": {
      "text/plain": [
       "512"
      ]
     },
     "execution_count": 30,
     "metadata": {},
     "output_type": "execute_result"
    }
   ],
   "source": [
    "sum(conversational_forecasts_df.prediction)"
   ]
  },
  {
   "cell_type": "markdown",
   "metadata": {
    "colab_type": "text",
    "id": "WzBiI0dsW7WZ"
   },
   "source": [
    "## Part 7: model analysis: how early is early warning?\n",
    "\n",
    "The goal of CRAFT is to forecast outcomes in advance, but how far in advance does it typically make its prediction? Following the paper, we measure this in two ways: the number of *comments* between the first prediction and the actual derailment, and how much *elapsed time* that gap actually translates to."
   ]
  },
  {
   "cell_type": "code",
   "execution_count": 24,
   "metadata": {
    "colab": {},
    "colab_type": "code",
    "id": "8Qfvl9k8Xesh"
   },
   "outputs": [],
   "source": [
    "comments_until_derail = {} # store the \"number of comments until derailment\" metric for each conversation\n",
    "time_until_derail = {} # store the \"time until derailment\" metric for each conversation\n",
    "\n",
    "for convo in corpus.iter_conversations():\n",
    "    if convo.meta['split'] == \"test\" and convo.meta['conversation_has_personal_attack']:\n",
    "        # filter out the section header as usual\n",
    "        utts = [utt for utt in convo.iter_utterances() if not utt.meta['is_section_header']]\n",
    "        # by construction, the last comment is the one with the personal attack\n",
    "        derail_idx = len(utts) - 1\n",
    "        # now scan the utterances in order until we find the first derailment prediction (if any)\n",
    "        for idx in range(1, len(utts)):\n",
    "            if utts[idx].meta['forecast_score'] > FORECAST_THRESH:\n",
    "                # recall that the forecast_score meta field specifies what CRAFT thought this comment would look like BEFORE it\n",
    "                # saw this comment. So the actual CRAFT forecast is made during the previous comment; we account for this by \n",
    "                # subtracting 1 from idx\n",
    "                comments_until_derail[convo.id] = derail_idx - (idx-1)\n",
    "                time_until_derail[convo.id] = utts[derail_idx].timestamp - utts[(idx-1)].timestamp\n",
    "                break"
   ]
  },
  {
   "cell_type": "code",
   "execution_count": 25,
   "metadata": {
    "colab": {
     "base_uri": "https://localhost:8080/",
     "height": 35
    },
    "colab_type": "code",
    "id": "IFXn4LrMhJ8W",
    "outputId": "e6476c9f-205e-4a3a-d562-1ae6d46875e5"
   },
   "outputs": [
    {
     "name": "stdout",
     "output_type": "stream",
     "text": [
      "1 12 3.0 3.4246153846153846\n"
     ]
    }
   ],
   "source": [
    "# compute some quick statistics about the distribution of the \"number of comments until derailment\" metric\n",
    "comments_until_derail_vals = np.asarray(list(comments_until_derail.values()))\n",
    "print(np.min(comments_until_derail_vals), np.max(comments_until_derail_vals), np.median(comments_until_derail_vals), np.mean(comments_until_derail_vals))"
   ]
  },
  {
   "cell_type": "code",
   "execution_count": 26,
   "metadata": {
    "colab": {
     "base_uri": "https://localhost:8080/",
     "height": 35
    },
    "colab_type": "code",
    "id": "7cTdzAuLhuHF",
    "outputId": "c1da699c-3eb6-4721-bc03-e1eadb07688e"
   },
   "outputs": [
    {
     "name": "stdout",
     "output_type": "stream",
     "text": [
      "0.0 25575.071111111112 4.216666666666667 283.6121512820513\n"
     ]
    }
   ],
   "source": [
    "# compute some quick statistics about the distribution of the \"time until derailment\" metric\n",
    "# note that since timestamps are in seconds, we convert to hours by dividing by 3600, to make it more human readable\n",
    "time_until_derail_vals = np.asarray(list(time_until_derail.values())) / 3600\n",
    "print(np.min(time_until_derail_vals), np.max(time_until_derail_vals), np.median(time_until_derail_vals), np.mean(time_until_derail_vals))"
   ]
  },
  {
   "cell_type": "code",
   "execution_count": 27,
   "metadata": {
    "colab": {
     "base_uri": "https://localhost:8080/",
     "height": 362
    },
    "colab_type": "code",
    "id": "_w3l6UxDiDAz",
    "outputId": "0e4ea2c4-7dcb-4655-eb8a-b7bd3106a5d5"
   },
   "outputs": [
    {
     "data": {
      "image/png": "[encoded data removed]",
      "text/plain": [
       "<Figure size 720x360 with 1 Axes>"
      ]
     },
     "metadata": {
      "needs_background": "light"
     },
     "output_type": "display_data"
    }
   ],
   "source": [
    "# visualize the distribution of \"number of comments until derailment\" as a histogram (reproducing Figure 4 from the paper)\n",
    "plt.rcParams['figure.figsize'] = (10.0, 5.0)\n",
    "plt.rcParams['font.size'] = 24\n",
    "plt.hist(comments_until_derail_vals, bins=range(1, np.max(comments_until_derail_vals)), density=True)\n",
    "plt.xlim(1,10)\n",
    "plt.xticks(np.arange(1,10)+0.5, np.arange(1,10))\n",
    "plt.yticks(np.arange(0,0.25,0.05), np.arange(0,25,5))\n",
    "plt.xlabel(\"Number of comments elapsed\")\n",
    "plt.ylabel(\"% of conversations\")\n",
    "plt.show()"
   ]
  },
  {
   "cell_type": "code",
   "execution_count": null,
   "metadata": {},
   "outputs": [],
   "source": []
  },
  {
   "cell_type": "code",
   "execution_count": null,
   "metadata": {},
   "outputs": [],
   "source": [
    "F"
   ]
  }
 ],
 "metadata": {
  "accelerator": "GPU",
  "colab": {
   "collapsed_sections": [],
   "name": "Copy of CRAFT inference demo using ConvoKit",
   "provenance": [],
   "toc_visible": true
  },
  "kernelspec": {
   "display_name": "Python 3",
   "language": "python",
   "name": "python3"
  },
  "language_info": {
   "codemirror_mode": {
    "name": "ipython",
    "version": 3
   },
   "file_extension": ".py",
   "mimetype": "text/x-python",
   "name": "python",
   "nbconvert_exporter": "python",
   "pygments_lexer": "ipython3",
   "version": "3.7.3"
  }
 },
 "nbformat": 4,
 "nbformat_minor": 1
}
