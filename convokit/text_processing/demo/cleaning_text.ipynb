{
 "cells": [
  {
   "cell_type": "code",
   "execution_count": 1,
   "metadata": {},
   "outputs": [],
   "source": [
    "import os\n",
    "os.chdir('../../..')"
   ]
  },
  {
   "cell_type": "code",
   "execution_count": 2,
   "metadata": {},
   "outputs": [
    {
     "name": "stderr",
     "output_type": "stream",
     "text": [
      "/Library/Frameworks/Python.framework/Versions/3.7/lib/python3.7/site-packages/sklearn/externals/joblib/__init__.py:15: DeprecationWarning: sklearn.externals.joblib is deprecated in 0.21 and will be removed in 0.23. Please import this functionality directly from joblib, which can be installed with: pip install joblib. If this warning is raised when loading pickled models, you may need to re-serialize those models with scikit-learn 0.21+.\n",
      "  warnings.warn(msg, category=DeprecationWarning)\n"
     ]
    }
   ],
   "source": [
    "from convokit import TextCleaner, Corpus, download"
   ]
  },
  {
   "cell_type": "markdown",
   "metadata": {},
   "source": [
    "## Replace utt.text with cleaned version"
   ]
  },
  {
   "cell_type": "code",
   "execution_count": 3,
   "metadata": {},
   "outputs": [],
   "source": [
    "cleaner = TextCleaner(replace_text=True, save_original=False, verbosity=10000)"
   ]
  },
  {
   "cell_type": "code",
   "execution_count": 4,
   "metadata": {},
   "outputs": [
    {
     "name": "stdout",
     "output_type": "stream",
     "text": [
      "Dataset already exists at /Users/calebchiam/.convokit/downloads/subreddit-Cornell\n"
     ]
    }
   ],
   "source": [
    "corpus = Corpus(filename=download('subreddit-Cornell'))"
   ]
  },
  {
   "cell_type": "code",
   "execution_count": 5,
   "metadata": {},
   "outputs": [
    {
     "name": "stdout",
     "output_type": "stream",
     "text": [
      "Number of Users: 7568\n",
      "Number of Utterances: 74467\n",
      "Number of Conversations: 10744\n"
     ]
    }
   ],
   "source": [
    "corpus.print_summary_stats()"
   ]
  },
  {
   "cell_type": "code",
   "execution_count": 6,
   "metadata": {},
   "outputs": [
    {
     "data": {
      "text/plain": [
       "'One, just to get this out of the way: I\\'m only a sophomore in high school. In spite of this, my high school is one of the top public schools in New Jersey (and to put it bluntly it\\'s a very affluent area... although I\\'m not necessarily affluent like my classmates). The point of telling you guys that is kids start talking about all these amazing schools they want to go to in like eighth grade, so I know quite a bit about colleges. As stated in the title, I really want to go to Cornell, and I just was hoping that some of you guys and girls on here would be awesome enough to give out some SAT scores, ACT scores (if you took them), and extra curricular activities you guys got/did? My unweighted GPA is a 3.8 (weighted is a 4.2), and my first PSAT was an overall 1900, and from taking that I (not to sound cocky here) *know* that I\\'m going to get that score up a *lot*. I\\'m in all the highest level classes I can be in, and I\\'m looking to take multiple AP courses next year (junior). Do you think these are prospectively good stats? The last thing I\\'m wondering about is what type of extra curricular things I can do. Student government in my school is a popularity contest, so I have pretty much no chance of winning, giving the president is the biggest pothead in town. I\\'m probably lettering in track and baseball three years, and football two. I participate in my schools \"Key Club\" (basically community service stuff), and I am hoping to be some form of leadership position on that next year. I also am going to apply for being a \"peer leader\". So basically (back to my point) are there any other things that you guys suggest I get involved with?\\n\\n**TL;DR** Sophomore that has a 3.8 unweighted (4.2 weighted) GPA, 1900 PSAT (looking to improve greatly). Are these good prospective stats? What are some of your guys stats? What extra curricular activities do ya\\'ll suggest getting involved in?\\n\\nTHANKS IN ADVANCE FOR ANY RESPONSES &lt;3 (yeah I\\'m a boy, deal with the heart &gt;;) )\\n\\n**EDIT** My school uses a funky grading system; my weighted GPA would be a 4.52 at most schools'"
      ]
     },
     "execution_count": 6,
     "metadata": {},
     "output_type": "execute_result"
    }
   ],
   "source": [
    "corpus.get_utterance('15enm8').text"
   ]
  },
  {
   "cell_type": "code",
   "execution_count": 7,
   "metadata": {},
   "outputs": [
    {
     "name": "stdout",
     "output_type": "stream",
     "text": [
      "10000/74467 utterances processed\n",
      "20000/74467 utterances processed\n",
      "30000/74467 utterances processed\n",
      "40000/74467 utterances processed\n",
      "50000/74467 utterances processed\n",
      "60000/74467 utterances processed\n",
      "70000/74467 utterances processed\n",
      "74467/74467 utterances processed\n"
     ]
    },
    {
     "data": {
      "text/plain": [
       "<convokit.model.corpus.Corpus at 0x12e16ffd0>"
      ]
     },
     "execution_count": 7,
     "metadata": {},
     "output_type": "execute_result"
    }
   ],
   "source": [
    "cleaner.transform(corpus)"
   ]
  },
  {
   "cell_type": "code",
   "execution_count": 8,
   "metadata": {},
   "outputs": [
    {
     "data": {
      "text/plain": [
       "'one, just to get this out of the way: i\\'m only a sophomore in high school. in spite of this, my high school is one of the top public schools in new jersey (and to put it bluntly it\\'s a very affluent area... although i\\'m not necessarily affluent like my classmates). the point of telling you guys that is kids start talking about all these amazing schools they want to go to in like eighth grade, so i know quite a bit about colleges. as stated in the title, i really want to go to cornell, and i just was hoping that some of you guys and girls on here would be awesome enough to give out some sat scores, act scores (if you took them), and extra curricular activities you guys got/did? my unweighted gpa is a <number> (weighted is a <number>), and my first psat was an overall <number>, and from taking that i (not to sound cocky here) *know* that i\\'m going to get that score up a *lot*. i\\'m in all the highest level classes i can be in, and i\\'m looking to take multiple ap courses next year (junior). do you think these are prospectively good stats? the last thing i\\'m wondering about is what type of extra curricular things i can do. student government in my school is a popularity contest, so i have pretty much no chance of winning, giving the president is the biggest pothead in town. i\\'m probably lettering in track and baseball three years, and football two. i participate in my schools \"key club\" (basically community service stuff), and i am hoping to be some form of leadership position on that next year. i also am going to apply for being a \"peer leader\". so basically (back to my point) are there any other things that you guys suggest i get involved with? **tl;dr** sophomore that has a <number> unweighted (<number> weighted) gpa, <number> psat (looking to improve greatly). are these good prospective stats? what are some of your guys stats? what extra curricular activities do ya\\'ll suggest getting involved in? thanks in advance for any responses <<number> (yeah i\\'m a boy, deal with the heart >;) ) **edit** my school uses a funky grading system; my weighted gpa would be a <number> at most schools'"
      ]
     },
     "execution_count": 8,
     "metadata": {},
     "output_type": "execute_result"
    }
   ],
   "source": [
    "corpus.get_utterance('15enm8').text"
   ]
  },
  {
   "cell_type": "code",
   "execution_count": 10,
   "metadata": {},
   "outputs": [
    {
     "data": {
      "text/plain": [
       "{'score': 0,\n",
       " 'top_level_comment': None,\n",
       " 'retrieved_on': 1413262296,\n",
       " 'gilded': 0,\n",
       " 'gildings': None,\n",
       " 'subreddit': 'Cornell',\n",
       " 'stickied': False,\n",
       " 'permalink': '/r/Cornell/comments/15enm8/i_really_want_to_go_to_cornell_and_since_im/',\n",
       " 'author_flair_text': ''}"
      ]
     },
     "execution_count": 10,
     "metadata": {},
     "output_type": "execute_result"
    }
   ],
   "source": [
    "corpus.get_utterance('15enm8').meta"
   ]
  },
  {
   "cell_type": "markdown",
   "metadata": {},
   "source": [
    "## Replace utt.text with cleaned version and save original"
   ]
  },
  {
   "cell_type": "code",
   "execution_count": 11,
   "metadata": {},
   "outputs": [
    {
     "name": "stdout",
     "output_type": "stream",
     "text": [
      "Dataset already exists at /Users/calebchiam/.convokit/downloads/subreddit-Cornell\n",
      "10000/74467 utterances processed\n",
      "20000/74467 utterances processed\n",
      "30000/74467 utterances processed\n",
      "40000/74467 utterances processed\n",
      "50000/74467 utterances processed\n",
      "60000/74467 utterances processed\n",
      "70000/74467 utterances processed\n",
      "74467/74467 utterances processed\n"
     ]
    },
    {
     "data": {
      "text/plain": [
       "<convokit.model.corpus.Corpus at 0x139cfd748>"
      ]
     },
     "execution_count": 11,
     "metadata": {},
     "output_type": "execute_result"
    }
   ],
   "source": [
    "cleaner = TextCleaner(replace_text=True, save_original=True, verbosity=10000)\n",
    "corpus = Corpus(filename=download('subreddit-Cornell'))\n",
    "cleaner.transform(corpus)"
   ]
  },
  {
   "cell_type": "code",
   "execution_count": 12,
   "metadata": {},
   "outputs": [
    {
     "data": {
      "text/plain": [
       "'one, just to get this out of the way: i\\'m only a sophomore in high school. in spite of this, my high school is one of the top public schools in new jersey (and to put it bluntly it\\'s a very affluent area... although i\\'m not necessarily affluent like my classmates). the point of telling you guys that is kids start talking about all these amazing schools they want to go to in like eighth grade, so i know quite a bit about colleges. as stated in the title, i really want to go to cornell, and i just was hoping that some of you guys and girls on here would be awesome enough to give out some sat scores, act scores (if you took them), and extra curricular activities you guys got/did? my unweighted gpa is a <number> (weighted is a <number>), and my first psat was an overall <number>, and from taking that i (not to sound cocky here) *know* that i\\'m going to get that score up a *lot*. i\\'m in all the highest level classes i can be in, and i\\'m looking to take multiple ap courses next year (junior). do you think these are prospectively good stats? the last thing i\\'m wondering about is what type of extra curricular things i can do. student government in my school is a popularity contest, so i have pretty much no chance of winning, giving the president is the biggest pothead in town. i\\'m probably lettering in track and baseball three years, and football two. i participate in my schools \"key club\" (basically community service stuff), and i am hoping to be some form of leadership position on that next year. i also am going to apply for being a \"peer leader\". so basically (back to my point) are there any other things that you guys suggest i get involved with? **tl;dr** sophomore that has a <number> unweighted (<number> weighted) gpa, <number> psat (looking to improve greatly). are these good prospective stats? what are some of your guys stats? what extra curricular activities do ya\\'ll suggest getting involved in? thanks in advance for any responses <<number> (yeah i\\'m a boy, deal with the heart >;) ) **edit** my school uses a funky grading system; my weighted gpa would be a <number> at most schools'"
      ]
     },
     "execution_count": 12,
     "metadata": {},
     "output_type": "execute_result"
    }
   ],
   "source": [
    "corpus.get_utterance('15enm8').text"
   ]
  },
  {
   "cell_type": "code",
   "execution_count": 14,
   "metadata": {},
   "outputs": [
    {
     "data": {
      "text/plain": [
       "'One, just to get this out of the way: I\\'m only a sophomore in high school. In spite of this, my high school is one of the top public schools in New Jersey (and to put it bluntly it\\'s a very affluent area... although I\\'m not necessarily affluent like my classmates). The point of telling you guys that is kids start talking about all these amazing schools they want to go to in like eighth grade, so I know quite a bit about colleges. As stated in the title, I really want to go to Cornell, and I just was hoping that some of you guys and girls on here would be awesome enough to give out some SAT scores, ACT scores (if you took them), and extra curricular activities you guys got/did? My unweighted GPA is a 3.8 (weighted is a 4.2), and my first PSAT was an overall 1900, and from taking that I (not to sound cocky here) *know* that I\\'m going to get that score up a *lot*. I\\'m in all the highest level classes I can be in, and I\\'m looking to take multiple AP courses next year (junior). Do you think these are prospectively good stats? The last thing I\\'m wondering about is what type of extra curricular things I can do. Student government in my school is a popularity contest, so I have pretty much no chance of winning, giving the president is the biggest pothead in town. I\\'m probably lettering in track and baseball three years, and football two. I participate in my schools \"Key Club\" (basically community service stuff), and I am hoping to be some form of leadership position on that next year. I also am going to apply for being a \"peer leader\". So basically (back to my point) are there any other things that you guys suggest I get involved with?\\n\\n**TL;DR** Sophomore that has a 3.8 unweighted (4.2 weighted) GPA, 1900 PSAT (looking to improve greatly). Are these good prospective stats? What are some of your guys stats? What extra curricular activities do ya\\'ll suggest getting involved in?\\n\\nTHANKS IN ADVANCE FOR ANY RESPONSES &lt;3 (yeah I\\'m a boy, deal with the heart &gt;;) )\\n\\n**EDIT** My school uses a funky grading system; my weighted GPA would be a 4.52 at most schools'"
      ]
     },
     "execution_count": 14,
     "metadata": {},
     "output_type": "execute_result"
    }
   ],
   "source": [
    "corpus.get_utterance('15enm8').meta['original']"
   ]
  },
  {
   "cell_type": "markdown",
   "metadata": {},
   "source": [
    "## Save cleaned version in meta, do not change utt.text"
   ]
  },
  {
   "cell_type": "code",
   "execution_count": 15,
   "metadata": {},
   "outputs": [
    {
     "name": "stdout",
     "output_type": "stream",
     "text": [
      "Dataset already exists at /Users/calebchiam/.convokit/downloads/subreddit-Cornell\n",
      "10000/74467 utterances processed\n",
      "20000/74467 utterances processed\n",
      "30000/74467 utterances processed\n",
      "40000/74467 utterances processed\n",
      "50000/74467 utterances processed\n",
      "60000/74467 utterances processed\n",
      "70000/74467 utterances processed\n",
      "74467/74467 utterances processed\n"
     ]
    },
    {
     "data": {
      "text/plain": [
       "<convokit.model.corpus.Corpus at 0x142036550>"
      ]
     },
     "execution_count": 15,
     "metadata": {},
     "output_type": "execute_result"
    }
   ],
   "source": [
    "cleaner = TextCleaner(replace_text=False, verbosity=10000)\n",
    "corpus = Corpus(filename=download('subreddit-Cornell'))\n",
    "cleaner.transform(corpus)"
   ]
  },
  {
   "cell_type": "code",
   "execution_count": 16,
   "metadata": {},
   "outputs": [
    {
     "data": {
      "text/plain": [
       "'One, just to get this out of the way: I\\'m only a sophomore in high school. In spite of this, my high school is one of the top public schools in New Jersey (and to put it bluntly it\\'s a very affluent area... although I\\'m not necessarily affluent like my classmates). The point of telling you guys that is kids start talking about all these amazing schools they want to go to in like eighth grade, so I know quite a bit about colleges. As stated in the title, I really want to go to Cornell, and I just was hoping that some of you guys and girls on here would be awesome enough to give out some SAT scores, ACT scores (if you took them), and extra curricular activities you guys got/did? My unweighted GPA is a 3.8 (weighted is a 4.2), and my first PSAT was an overall 1900, and from taking that I (not to sound cocky here) *know* that I\\'m going to get that score up a *lot*. I\\'m in all the highest level classes I can be in, and I\\'m looking to take multiple AP courses next year (junior). Do you think these are prospectively good stats? The last thing I\\'m wondering about is what type of extra curricular things I can do. Student government in my school is a popularity contest, so I have pretty much no chance of winning, giving the president is the biggest pothead in town. I\\'m probably lettering in track and baseball three years, and football two. I participate in my schools \"Key Club\" (basically community service stuff), and I am hoping to be some form of leadership position on that next year. I also am going to apply for being a \"peer leader\". So basically (back to my point) are there any other things that you guys suggest I get involved with?\\n\\n**TL;DR** Sophomore that has a 3.8 unweighted (4.2 weighted) GPA, 1900 PSAT (looking to improve greatly). Are these good prospective stats? What are some of your guys stats? What extra curricular activities do ya\\'ll suggest getting involved in?\\n\\nTHANKS IN ADVANCE FOR ANY RESPONSES &lt;3 (yeah I\\'m a boy, deal with the heart &gt;;) )\\n\\n**EDIT** My school uses a funky grading system; my weighted GPA would be a 4.52 at most schools'"
      ]
     },
     "execution_count": 16,
     "metadata": {},
     "output_type": "execute_result"
    }
   ],
   "source": [
    "corpus.get_utterance('15enm8').text"
   ]
  },
  {
   "cell_type": "code",
   "execution_count": 18,
   "metadata": {},
   "outputs": [
    {
     "data": {
      "text/plain": [
       "'one, just to get this out of the way: i\\'m only a sophomore in high school. in spite of this, my high school is one of the top public schools in new jersey (and to put it bluntly it\\'s a very affluent area... although i\\'m not necessarily affluent like my classmates). the point of telling you guys that is kids start talking about all these amazing schools they want to go to in like eighth grade, so i know quite a bit about colleges. as stated in the title, i really want to go to cornell, and i just was hoping that some of you guys and girls on here would be awesome enough to give out some sat scores, act scores (if you took them), and extra curricular activities you guys got/did? my unweighted gpa is a <number> (weighted is a <number>), and my first psat was an overall <number>, and from taking that i (not to sound cocky here) *know* that i\\'m going to get that score up a *lot*. i\\'m in all the highest level classes i can be in, and i\\'m looking to take multiple ap courses next year (junior). do you think these are prospectively good stats? the last thing i\\'m wondering about is what type of extra curricular things i can do. student government in my school is a popularity contest, so i have pretty much no chance of winning, giving the president is the biggest pothead in town. i\\'m probably lettering in track and baseball three years, and football two. i participate in my schools \"key club\" (basically community service stuff), and i am hoping to be some form of leadership position on that next year. i also am going to apply for being a \"peer leader\". so basically (back to my point) are there any other things that you guys suggest i get involved with? **tl;dr** sophomore that has a <number> unweighted (<number> weighted) gpa, <number> psat (looking to improve greatly). are these good prospective stats? what are some of your guys stats? what extra curricular activities do ya\\'ll suggest getting involved in? thanks in advance for any responses <<number> (yeah i\\'m a boy, deal with the heart >;) ) **edit** my school uses a funky grading system; my weighted gpa would be a <number> at most schools'"
      ]
     },
     "execution_count": 18,
     "metadata": {},
     "output_type": "execute_result"
    }
   ],
   "source": [
    "corpus.get_utterance('15enm8').meta['cleaned']"
   ]
  },
  {
   "cell_type": "code",
   "execution_count": null,
   "metadata": {},
   "outputs": [],
   "source": []
  }
 ],
 "metadata": {
  "kernelspec": {
   "display_name": "Python 3",
   "language": "python",
   "name": "python3"
  },
  "language_info": {
   "codemirror_mode": {
    "name": "ipython",
    "version": 3
   },
   "file_extension": ".py",
   "mimetype": "text/x-python",
   "name": "python",
   "nbconvert_exporter": "python",
   "pygments_lexer": "ipython3",
   "version": "3.7.3"
  }
 },
 "nbformat": 4,
 "nbformat_minor": 1
}
