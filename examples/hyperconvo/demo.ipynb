{
 "cells": [
  {
   "cell_type": "markdown",
   "metadata": {},
   "source": [
    "This notebook provides examples of how to call the hyperconvo functions from Convokit and perform analyses similar to the ones presented in the corresponding paper (http://www.cs.cornell.edu/~cristian/Patterns_of_participant_interactions.html), which describes the hypergraph methodology for modeling and analyzing online public discussions.\n",
    "\n",
    "Note that due to limitations in what data we can access and distribute, the beta version of the hypergraph methodology presented here currently supports less functionality:\n",
    "\n",
    "* Instead of Facebook data, we release a dataset of discussions from Reddit (the 1000 most recent threads, with at least 10 comments, from 100 highly active subreddits -- more details in the corresponding readme here: https://github.com/CornellNLP/Cornell-Conversational-Analysis-Toolkit/tree/master/datasets/reddit-corpus). For demonstration purposes, we here use a small subset of this dataset (\"reddit-corpus-small\") containing 100 threads per subreddit.\n",
    "* Since Reddit does not provide information on who reacted to (i.e., upvoted) each comment, we are presently unable to support reaction-edges in the hypergraph. As such, we can only compute features over in/outdegree distributions of _reply_-edges, and the feature set derived from motifs in the hypergraph is limited to counts and binary indicators or whether or not a motif is present. We will work  towards supporting reactions as well."
   ]
  },
  {
   "cell_type": "code",
   "execution_count": 44,
   "metadata": {
    "collapsed": true
   },
   "outputs": [],
   "source": [
    "# import os\n",
    "# os.getcwd()\n",
    "# os.chdir(\"..\")\n",
    "# os.chdir(\"..\")\n",
    "# os.getcwd()"
   ]
  },
  {
   "cell_type": "code",
   "execution_count": 2,
   "metadata": {
    "collapsed": true
   },
   "outputs": [],
   "source": [
    "import convokit"
   ]
  },
  {
   "cell_type": "code",
   "execution_count": 3,
   "metadata": {
    "collapsed": true
   },
   "outputs": [],
   "source": [
    "%matplotlib inline\n",
    "import matplotlib.pyplot as plt\n",
    "import numpy as np\n",
    "import pandas as pd\n",
    "import warnings\n",
    "warnings.filterwarnings('ignore')"
   ]
  },
  {
   "cell_type": "markdown",
   "metadata": {},
   "source": [
    "First we download the reddit corpus:"
   ]
  },
  {
   "cell_type": "code",
   "execution_count": 4,
   "metadata": {},
   "outputs": [
    {
     "name": "stdout",
     "output_type": "stream",
     "text": [
      "Dataset already exists at /Users/macuser/.convokit/downloads/reddit-corpus-small\n"
     ]
    }
   ],
   "source": [
    "corpus = convokit.Corpus(filename=convokit.download(\"reddit-corpus-small\"))"
   ]
  },
  {
   "cell_type": "code",
   "execution_count": 5,
   "metadata": {},
   "outputs": [
    {
     "data": {
      "text/plain": [
       "{'subreddit': 'reddit-corpus-small',\n",
       " 'num_posts': 8286,\n",
       " 'num_comments': 288846,\n",
       " 'num_user': 119889}"
      ]
     },
     "execution_count": 5,
     "metadata": {},
     "output_type": "execute_result"
    }
   ],
   "source": [
    "corpus.meta"
   ]
  },
  {
   "cell_type": "code",
   "execution_count": 6,
   "metadata": {},
   "outputs": [
    {
     "data": {
      "text/plain": [
       "297132"
      ]
     },
     "execution_count": 6,
     "metadata": {},
     "output_type": "execute_result"
    }
   ],
   "source": [
    "len(list(corpus.iter_utterances()))"
   ]
  },
  {
   "cell_type": "code",
   "execution_count": 7,
   "metadata": {},
   "outputs": [
    {
     "data": {
      "text/plain": [
       "119889"
      ]
     },
     "execution_count": 7,
     "metadata": {},
     "output_type": "execute_result"
    }
   ],
   "source": [
    "len(list(corpus.iter_users()))"
   ]
  },
  {
   "cell_type": "code",
   "execution_count": 8,
   "metadata": {},
   "outputs": [
    {
     "data": {
      "text/plain": [
       "8286"
      ]
     },
     "execution_count": 8,
     "metadata": {},
     "output_type": "execute_result"
    }
   ],
   "source": [
    "len(list(corpus.iter_conversations()))"
   ]
  },
  {
   "cell_type": "markdown",
   "metadata": {},
   "source": [
    "We will compute features over only the first 10 comments that occur in a thread, for  threads which are at least 10 comments long (controling for thread length in this way). Notice that we set include_root to False as we are interested in comment threads, i.e. threads that begin from a top-level comment, not from the post itself."
   ]
  },
  {
   "cell_type": "code",
   "execution_count": 9,
   "metadata": {
    "collapsed": true
   },
   "outputs": [],
   "source": [
    "threads = corpus.utterance_threads(prefix_len=10, include_root=False)"
   ]
  },
  {
   "cell_type": "markdown",
   "metadata": {},
   "source": [
    "The following are threads that come from the /r/canada subreddit. "
   ]
  },
  {
   "cell_type": "code",
   "execution_count": 10,
   "metadata": {},
   "outputs": [
    {
     "data": {
      "text/plain": [
       "Utterance({'id': 'e56rtrx', 'user': User([('name', 'Calculated_Lamp')]), 'root': '9byrus', 'reply_to': '9byrus', 'timestamp': 1535761916, 'text': \"I'm not sure what that code is, but I can get you everything other than the weavile!\", 'meta': {'score': 1, 'top_level_comment': 'e56rtrx', 'retrieved_on': 1538538870, 'gilded': 0, 'gildings': {'gid_1': 0, 'gid_2': 0, 'gid_3': 0}, 'subreddit': 'pokemontrades', 'stickied': False, 'permalink': '/r/pokemontrades/comments/9byrus/lf_some_pokémon_to_complete_ultra_moon_dex/e56rtrx/', 'author_flair_text': '4484-8592-5846 || Brandon (US)'}})"
      ]
     },
     "execution_count": 10,
     "metadata": {},
     "output_type": "execute_result"
    }
   ],
   "source": [
    "threads['e56rtrx']['e56rtrx']"
   ]
  },
  {
   "cell_type": "code",
   "execution_count": 11,
   "metadata": {
    "collapsed": true
   },
   "outputs": [],
   "source": [
    "demo_threads = [\n",
    "    # https://www.reddit.com/r/tifu/comments/9bzh9g/tifu_by_masturbating_with_my_dads_penis/e5717fs/\n",
    "                'e5717fs', \n",
    "    # https://www.reddit.com/r/conspiracy/comments/9c45y5/papadopoulos_trump_approved_proposed_meeting_with/e57u6ft/\n",
    "                'e57u6ft',\n",
    "    # https://www.reddit.com/r/pokemontrades/comments/9byrus/lf_some_pokémon_to_complete_ultra_moon_dex/e56rtrx/\n",
    "                'e56rtrx'\n",
    "               ]"
   ]
  },
  {
   "cell_type": "markdown",
   "metadata": {},
   "source": [
    "We print the structure of the thread: the reply-structure (where subsequent replies in the comment tree are indented), and the authors of each comment. There are some high-level qualitative differences that you might immediately see; our goal is to automatically extract a superset of these intuitive distinctions. For instance, some threads have a very linear structure, while others are flatter; to capture this difference, we might compute statistics on the distribution of in-degrees of nodes in the reply tree. We also intuit that some conversations involve a few people replying repeatedly to each other, whereas others may involve users stopping by to chime in once and then leaving; we'll later codify this difference via statistics on the indegrees and outdegrees of hypernodes (users)."
   ]
  },
  {
   "cell_type": "code",
   "execution_count": 12,
   "metadata": {
    "scrolled": true
   },
   "outputs": [
    {
     "name": "stdout",
     "output_type": "stream",
     "text": [
      "e5717fs\n",
      "---\n",
      "stephschiff\n",
      "    Thizzmonk\n",
      "        stephschiff\n",
      "        ChiefThunderSqueak\n",
      "            moreawkwardthenyou\n",
      "                AssHiccups\n",
      "                    Huntingprobs\n",
      "                    Huntingprobs\n",
      "                MajorNarsilion\n",
      "            taichi22\n",
      "\n",
      "e57u6ft\n",
      "---\n",
      "45ReasonsWhy\n",
      "    WhatTheFisthatshit\n",
      "        [deleted]\n",
      "            WhatTheFisthatshit\n",
      "                45ReasonsWhy\n",
      "    eleven4for20\n",
      "        45ReasonsWhy\n",
      "            ganooosh\n",
      "            eleven4for20\n",
      "    CaptainObivous\n",
      "\n",
      "e56rtrx\n",
      "---\n",
      "Calculated_Lamp\n",
      "    VincentRivera\n",
      "        Calculated_Lamp\n",
      "            VincentRivera\n",
      "            VincentRivera\n",
      "                Calculated_Lamp\n",
      "                    VincentRivera\n",
      "                        Calculated_Lamp\n",
      "                            VincentRivera\n",
      "                                Calculated_Lamp\n",
      "\n"
     ]
    }
   ],
   "source": [
    "for thread in demo_threads:\n",
    "    print(thread)\n",
    "    print('---')\n",
    "    convokit.util.display_thread(threads, thread)\n",
    "    print()"
   ]
  },
  {
   "cell_type": "markdown",
   "metadata": {},
   "source": [
    "One technical note: Since we don't have access to the author of deleted comments, we make the assumption for now that each deleted comment in a particular thread was written by the same author -- a potential source of noise in the subsequent analyses."
   ]
  },
  {
   "cell_type": "markdown",
   "metadata": {},
   "source": [
    "The above method is called by fit_transform(), but we call the utterance_threads() method directly so we can visualize the thread. Typically, to extract hypergraph features, we would simply:"
   ]
  },
  {
   "cell_type": "code",
   "execution_count": 14,
   "metadata": {},
   "outputs": [
    {
     "data": {
      "text/plain": [
       "<convokit.model.Corpus at 0x10be42b70>"
      ]
     },
     "execution_count": 14,
     "metadata": {},
     "output_type": "execute_result"
    }
   ],
   "source": [
    "# create a hyperconvo object and use it to extract features\n",
    "hc = convokit.HyperConvo(prefix_len=10, min_thread_len=10, include_root=False)\n",
    "hc.fit_transform(corpus)"
   ]
  },
  {
   "cell_type": "code",
   "execution_count": 48,
   "metadata": {},
   "outputs": [
    {
     "data": {
      "text/plain": [
       "{'e594ur8': {'max[outdegree over c->c responses]': 1,\n",
       "  'max[indegree over c->c responses]': 5,\n",
       "  'argmax[outdegree over c->c responses]': 1,\n",
       "  'argmax[indegree over c->c responses]': 0,\n",
       "  'norm.max[outdegree over c->c responses]': 0.1111111111111111,\n",
       "  'norm.max[indegree over c->c responses]': 0.5555555555555556,\n",
       "  '2nd-largest[outdegree over c->c responses]': 1,\n",
       "  '2nd-largest[indegree over c->c responses]': 2,\n",
       "  '2nd-argmax[outdegree over c->c responses]': 2,\n",
       "  '2nd-argmax[indegree over c->c responses]': 4,\n",
       "  'norm.2nd-largest[outdegree over c->c responses]': 0.1111111111111111,\n",
       "  'norm.2nd-largest[indegree over c->c responses]': 0.2222222222222222,\n",
       "  'mean[outdegree over c->c responses]': 0.9,\n",
       "  'mean[indegree over c->c responses]': 0.9,\n",
       "  'mean-nonzero[outdegree over c->c responses]': 1.0,\n",
       "  'mean-nonzero[indegree over c->c responses]': 2.25,\n",
       "  'prop-nonzero[outdegree over c->c responses]': 0.9,\n",
       "  'prop-nonzero[indegree over c->c responses]': 0.4,\n",
       "  'prop-multiple[outdegree over c->c responses]': 0.0,\n",
       "  'prop-multiple[indegree over c->c responses]': 0.5,\n",
       "  'entropy[outdegree over c->c responses]': 2.1972245773362196,\n",
       "  'entropy[indegree over c->c responses]': 1.1490596969706202,\n",
       "  '2nd-largest / max[outdegree over c->c responses]': 1.0,\n",
       "  '2nd-largest / max[indegree over c->c responses]': 0.4,\n",
       "  'max[outdegree over C->c responses]': 2,\n",
       "  'max[indegree over C->c responses]': 5,\n",
       "  'argmax[outdegree over C->c responses]': 0,\n",
       "  'argmax[indegree over C->c responses]': 0,\n",
       "  'norm.max[outdegree over C->c responses]': 0.2222222222222222,\n",
       "  'norm.max[indegree over C->c responses]': 0.5555555555555556,\n",
       "  '2nd-largest[outdegree over C->c responses]': 2,\n",
       "  '2nd-largest[indegree over C->c responses]': 2,\n",
       "  '2nd-argmax[outdegree over C->c responses]': 2,\n",
       "  '2nd-argmax[indegree over C->c responses]': 4,\n",
       "  'norm.2nd-largest[outdegree over C->c responses]': 0.2222222222222222,\n",
       "  'norm.2nd-largest[indegree over C->c responses]': 0.2222222222222222,\n",
       "  'mean[outdegree over C->c responses]': 1.2857142857142858,\n",
       "  'mean[indegree over C->c responses]': 0.9,\n",
       "  'mean-nonzero[outdegree over C->c responses]': 1.2857142857142858,\n",
       "  'mean-nonzero[indegree over C->c responses]': 2.25,\n",
       "  'prop-nonzero[outdegree over C->c responses]': 1.0,\n",
       "  'prop-nonzero[indegree over C->c responses]': 0.4,\n",
       "  'prop-multiple[outdegree over C->c responses]': 0.2857142857142857,\n",
       "  'prop-multiple[indegree over C->c responses]': 0.5,\n",
       "  'entropy[outdegree over C->c responses]': 1.8891591637540217,\n",
       "  'entropy[indegree over C->c responses]': 1.1490596969706202,\n",
       "  '2nd-largest / max[outdegree over C->c responses]': 1.0,\n",
       "  '2nd-largest / max[indegree over C->c responses]': 0.4,\n",
       "  'max[outdegree over C->C responses]': 2,\n",
       "  'max[indegree over C->C responses]': 7,\n",
       "  'argmax[outdegree over C->C responses]': 0,\n",
       "  'argmax[indegree over C->C responses]': 0,\n",
       "  'norm.max[outdegree over C->C responses]': 0.2222222222222222,\n",
       "  'norm.max[indegree over C->C responses]': 0.7777777777777778,\n",
       "  '2nd-largest[outdegree over C->C responses]': 2,\n",
       "  '2nd-largest[indegree over C->C responses]': 1,\n",
       "  '2nd-argmax[outdegree over C->C responses]': 2,\n",
       "  '2nd-argmax[indegree over C->C responses]': 1,\n",
       "  'norm.2nd-largest[outdegree over C->C responses]': 0.2222222222222222,\n",
       "  'norm.2nd-largest[indegree over C->C responses]': 0.1111111111111111,\n",
       "  'mean[outdegree over C->C responses]': 1.2857142857142858,\n",
       "  'mean[indegree over C->C responses]': 1.2857142857142858,\n",
       "  'mean-nonzero[outdegree over C->C responses]': 1.2857142857142858,\n",
       "  'mean-nonzero[indegree over C->C responses]': 3.0,\n",
       "  'prop-nonzero[outdegree over C->C responses]': 1.0,\n",
       "  'prop-nonzero[indegree over C->C responses]': 0.42857142857142855,\n",
       "  'prop-multiple[outdegree over C->C responses]': 0.2857142857142857,\n",
       "  'prop-multiple[indegree over C->C responses]': 0.3333333333333333,\n",
       "  'entropy[outdegree over C->C responses]': 1.8891591637540217,\n",
       "  'entropy[indegree over C->C responses]': 0.6837389058487535,\n",
       "  '2nd-largest / max[outdegree over C->C responses]': 1.0,\n",
       "  '2nd-largest / max[indegree over C->C responses]': 0.14285714285714285,\n",
       "  'is-present[reciprocity motif]': True,\n",
       "  'count[reciprocity motif]': 3,\n",
       "  'is-present[external reciprocity motif]': True,\n",
       "  'count[external reciprocity motif]': 1,\n",
       "  'is-present[dyadic interaction motif]': True,\n",
       "  'count[dyadic interaction motif]': 6,\n",
       "  'is-present[incoming triads]': True,\n",
       "  'count[incoming triads]': 20,\n",
       "  'is-present[outgoing triads]': True,\n",
       "  'count[outgoing triads]': 16,\n",
       "  'max[outdegree over c->c mid-thread responses]': 1,\n",
       "  'max[indegree over c->c mid-thread responses]': 2,\n",
       "  'argmax[outdegree over c->c mid-thread responses]': 1,\n",
       "  'argmax[indegree over c->c mid-thread responses]': 3,\n",
       "  'norm.max[outdegree over c->c mid-thread responses]': 0.25,\n",
       "  'norm.max[indegree over c->c mid-thread responses]': 0.5,\n",
       "  '2nd-largest[outdegree over c->c mid-thread responses]': 1,\n",
       "  '2nd-largest[indegree over c->c mid-thread responses]': 1,\n",
       "  '2nd-argmax[outdegree over c->c mid-thread responses]': 3,\n",
       "  '2nd-argmax[indegree over c->c mid-thread responses]': 0,\n",
       "  'norm.2nd-largest[outdegree over c->c mid-thread responses]': 0.25,\n",
       "  'norm.2nd-largest[indegree over c->c mid-thread responses]': 0.25,\n",
       "  'mean[outdegree over c->c mid-thread responses]': 0.4444444444444444,\n",
       "  'mean[indegree over c->c mid-thread responses]': 0.4444444444444444,\n",
       "  'mean-nonzero[outdegree over c->c mid-thread responses]': 1.0,\n",
       "  'mean-nonzero[indegree over c->c mid-thread responses]': 1.3333333333333333,\n",
       "  'prop-nonzero[outdegree over c->c mid-thread responses]': 0.4444444444444444,\n",
       "  'prop-nonzero[indegree over c->c mid-thread responses]': 0.3333333333333333,\n",
       "  'prop-multiple[outdegree over c->c mid-thread responses]': 0.0,\n",
       "  'prop-multiple[indegree over c->c mid-thread responses]': 0.3333333333333333,\n",
       "  'entropy[outdegree over c->c mid-thread responses]': 1.3862943611198906,\n",
       "  'entropy[indegree over c->c mid-thread responses]': 1.0397207708399179,\n",
       "  '2nd-largest / max[outdegree over c->c mid-thread responses]': 1.0,\n",
       "  '2nd-largest / max[indegree over c->c mid-thread responses]': 0.5,\n",
       "  'max[outdegree over C->c mid-thread responses]': 2,\n",
       "  'max[indegree over C->c mid-thread responses]': 2,\n",
       "  'argmax[outdegree over C->c mid-thread responses]': 1,\n",
       "  'argmax[indegree over C->c mid-thread responses]': 3,\n",
       "  'norm.max[outdegree over C->c mid-thread responses]': 0.5,\n",
       "  'norm.max[indegree over C->c mid-thread responses]': 0.5,\n",
       "  '2nd-largest[outdegree over C->c mid-thread responses]': 1,\n",
       "  '2nd-largest[indegree over C->c mid-thread responses]': 1,\n",
       "  '2nd-argmax[outdegree over C->c mid-thread responses]': 2,\n",
       "  '2nd-argmax[indegree over C->c mid-thread responses]': 0,\n",
       "  'norm.2nd-largest[outdegree over C->c mid-thread responses]': 0.25,\n",
       "  'norm.2nd-largest[indegree over C->c mid-thread responses]': 0.25,\n",
       "  'mean[outdegree over C->c mid-thread responses]': 0.5714285714285714,\n",
       "  'mean[indegree over C->c mid-thread responses]': 0.4444444444444444,\n",
       "  'mean-nonzero[outdegree over C->c mid-thread responses]': 1.3333333333333333,\n",
       "  'mean-nonzero[indegree over C->c mid-thread responses]': 1.3333333333333333,\n",
       "  'prop-nonzero[outdegree over C->c mid-thread responses]': 0.42857142857142855,\n",
       "  'prop-nonzero[indegree over C->c mid-thread responses]': 0.3333333333333333,\n",
       "  'prop-multiple[outdegree over C->c mid-thread responses]': 0.3333333333333333,\n",
       "  'prop-multiple[indegree over C->c mid-thread responses]': 0.3333333333333333,\n",
       "  'entropy[outdegree over C->c mid-thread responses]': 1.0397207708399179,\n",
       "  'entropy[indegree over C->c mid-thread responses]': 1.0397207708399179,\n",
       "  '2nd-largest / max[outdegree over C->c mid-thread responses]': 0.5,\n",
       "  '2nd-largest / max[indegree over C->c mid-thread responses]': 0.5,\n",
       "  'max[outdegree over C->C mid-thread responses]': 2,\n",
       "  'max[indegree over C->C mid-thread responses]': 2,\n",
       "  'argmax[outdegree over C->C mid-thread responses]': 1,\n",
       "  'argmax[indegree over C->C mid-thread responses]': 1,\n",
       "  'norm.max[outdegree over C->C mid-thread responses]': 0.5,\n",
       "  'norm.max[indegree over C->C mid-thread responses]': 0.5,\n",
       "  '2nd-largest[outdegree over C->C mid-thread responses]': 1,\n",
       "  '2nd-largest[indegree over C->C mid-thread responses]': 1,\n",
       "  '2nd-argmax[outdegree over C->C mid-thread responses]': 2,\n",
       "  '2nd-argmax[indegree over C->C mid-thread responses]': 0,\n",
       "  'norm.2nd-largest[outdegree over C->C mid-thread responses]': 0.25,\n",
       "  'norm.2nd-largest[indegree over C->C mid-thread responses]': 0.25,\n",
       "  'mean[outdegree over C->C mid-thread responses]': 0.5714285714285714,\n",
       "  'mean[indegree over C->C mid-thread responses]': 0.5714285714285714,\n",
       "  'mean-nonzero[outdegree over C->C mid-thread responses]': 1.3333333333333333,\n",
       "  'mean-nonzero[indegree over C->C mid-thread responses]': 1.3333333333333333,\n",
       "  'prop-nonzero[outdegree over C->C mid-thread responses]': 0.42857142857142855,\n",
       "  'prop-nonzero[indegree over C->C mid-thread responses]': 0.42857142857142855,\n",
       "  'prop-multiple[outdegree over C->C mid-thread responses]': 0.3333333333333333,\n",
       "  'prop-multiple[indegree over C->C mid-thread responses]': 0.3333333333333333,\n",
       "  'entropy[outdegree over C->C mid-thread responses]': 1.0397207708399179,\n",
       "  'entropy[indegree over C->C mid-thread responses]': 1.0397207708399179,\n",
       "  '2nd-largest / max[outdegree over C->C mid-thread responses]': 0.5,\n",
       "  '2nd-largest / max[indegree over C->C mid-thread responses]': 0.5,\n",
       "  'is-present[reciprocity motif over mid-thread]': True,\n",
       "  'count[reciprocity motif over mid-thread]': 1,\n",
       "  'is-present[external reciprocity motif over mid-thread]': True,\n",
       "  'count[external reciprocity motif over mid-thread]': 1,\n",
       "  'is-present[dyadic interaction motif over mid-thread]': True,\n",
       "  'count[dyadic interaction motif over mid-thread]': 2,\n",
       "  'is-present[incoming triads over mid-thread]': True,\n",
       "  'count[incoming triads over mid-thread]': 1,\n",
       "  'is-present[outgoing triads over mid-thread]': True,\n",
       "  'count[outgoing triads over mid-thread]': 8}}"
      ]
     },
     "execution_count": 48,
     "metadata": {},
     "output_type": "execute_result"
    }
   ],
   "source": [
    "convos = corpus.iter_conversations()\n",
    "convo1 = next(iter(convos))\n",
    "convo1.meta.keys()\n",
    "convo1.meta['hyperconvo']"
   ]
  },
  {
   "cell_type": "markdown",
   "metadata": {},
   "source": [
    "Hyperconvo's fit_transform() method generates features data for each thread (either starting with the post or top-level comment) and stores it in the corresponding Conversation's (which is indexed by post id) metadata. We collect the thread features from each Conversation to do some aggregated analysis."
   ]
  },
  {
   "cell_type": "code",
   "execution_count": 15,
   "metadata": {
    "collapsed": true
   },
   "outputs": [],
   "source": [
    "threads_feats = dict()\n",
    "convos = corpus.iter_conversations()\n",
    "\n",
    "for convo in convos:\n",
    "    threads_feats.update(convo.meta['hyperconvo'])\n"
   ]
  },
  {
   "cell_type": "code",
   "execution_count": 17,
   "metadata": {
    "collapsed": true
   },
   "outputs": [],
   "source": [
    "def clean_value(x):\n",
    "    if np.isinf(x) or np.isnan(x):\n",
    "        return -1\n",
    "    return x"
   ]
  },
  {
   "cell_type": "code",
   "execution_count": 18,
   "metadata": {
    "collapsed": true
   },
   "outputs": [],
   "source": [
    "feat_names = list(next(iter(threads_feats.values())).keys())"
   ]
  },
  {
   "cell_type": "code",
   "execution_count": 19,
   "metadata": {},
   "outputs": [
    {
     "data": {
      "text/plain": [
       "['max[outdegree over c->c responses]',\n",
       " 'max[indegree over c->c responses]',\n",
       " 'argmax[outdegree over c->c responses]',\n",
       " 'argmax[indegree over c->c responses]',\n",
       " 'norm.max[outdegree over c->c responses]',\n",
       " 'norm.max[indegree over c->c responses]',\n",
       " '2nd-largest[outdegree over c->c responses]',\n",
       " '2nd-largest[indegree over c->c responses]',\n",
       " '2nd-argmax[outdegree over c->c responses]',\n",
       " '2nd-argmax[indegree over c->c responses]']"
      ]
     },
     "execution_count": 19,
     "metadata": {},
     "output_type": "execute_result"
    }
   ],
   "source": [
    "feat_names[:10]"
   ]
  },
  {
   "cell_type": "code",
   "execution_count": 20,
   "metadata": {
    "collapsed": true
   },
   "outputs": [],
   "source": [
    "thread_ids = []\n",
    "feats = []\n",
    "for key, feat_dict in threads_feats.items():\n",
    "    thread_ids.append(key)\n",
    "    feats.append([clean_value(feat_dict[k]) for k in feat_names])"
   ]
  },
  {
   "cell_type": "markdown",
   "metadata": {},
   "source": [
    "For later convenience we will store feature values in a dataframe:"
   ]
  },
  {
   "cell_type": "code",
   "execution_count": 21,
   "metadata": {
    "collapsed": true
   },
   "outputs": [],
   "source": [
    "feat_df = pd.DataFrame(data=feats, index=thread_ids, columns=feat_names)"
   ]
  },
  {
   "cell_type": "markdown",
   "metadata": {},
   "source": [
    "Here are some examples of features computed over the three example threads from before:"
   ]
  },
  {
   "cell_type": "code",
   "execution_count": 22,
   "metadata": {
    "collapsed": true
   },
   "outputs": [],
   "source": [
    "C_C_indegree_feats = [x for x in feat_names if 'indegree over C->C responses' in x]\n",
    "C_C_mid_outdegree_feats = [x for x in feat_names if 'outdegree over C->C mid-thread responses' in x]\n",
    "motif_count_feats = [x for x in feat_names if ('count' in x) and ('mid' not in x)]"
   ]
  },
  {
   "cell_type": "markdown",
   "metadata": {},
   "source": [
    "Features derived from the distribution of hypernode to hypernode indegrees (i.e., \"how many other people are responding to a particular discussion participant?\"). As in the paper, we compute various summary statistics over the distribution. \n",
    "\n",
    "As noted at the start of this notebook, since we do not have access to reaction information, these distributions encompass only the reply structure within the thread."
   ]
  },
  {
   "cell_type": "code",
   "execution_count": 23,
   "metadata": {
    "scrolled": true
   },
   "outputs": [
    {
     "data": {
      "text/html": [
       "<div>\n",
       "<style>\n",
       "    .dataframe thead tr:only-child th {\n",
       "        text-align: right;\n",
       "    }\n",
       "\n",
       "    .dataframe thead th {\n",
       "        text-align: left;\n",
       "    }\n",
       "\n",
       "    .dataframe tbody tr th {\n",
       "        vertical-align: top;\n",
       "    }\n",
       "</style>\n",
       "<table border=\"1\" class=\"dataframe\">\n",
       "  <thead>\n",
       "    <tr style=\"text-align: right;\">\n",
       "      <th></th>\n",
       "      <th>e5717fs</th>\n",
       "      <th>e57u6ft</th>\n",
       "      <th>e56rtrx</th>\n",
       "    </tr>\n",
       "  </thead>\n",
       "  <tbody>\n",
       "    <tr>\n",
       "      <th>2nd-argmax[indegree over C-&gt;C responses]</th>\n",
       "      <td>2.000000</td>\n",
       "      <td>1.000000</td>\n",
       "      <td>1.000000</td>\n",
       "    </tr>\n",
       "    <tr>\n",
       "      <th>2nd-largest / max[indegree over C-&gt;C responses]</th>\n",
       "      <td>1.000000</td>\n",
       "      <td>0.400000</td>\n",
       "      <td>0.800000</td>\n",
       "    </tr>\n",
       "    <tr>\n",
       "      <th>2nd-largest[indegree over C-&gt;C responses]</th>\n",
       "      <td>2.000000</td>\n",
       "      <td>2.000000</td>\n",
       "      <td>4.000000</td>\n",
       "    </tr>\n",
       "    <tr>\n",
       "      <th>argmax[indegree over C-&gt;C responses]</th>\n",
       "      <td>1.000000</td>\n",
       "      <td>0.000000</td>\n",
       "      <td>0.000000</td>\n",
       "    </tr>\n",
       "    <tr>\n",
       "      <th>entropy[indegree over C-&gt;C responses]</th>\n",
       "      <td>1.581094</td>\n",
       "      <td>1.149060</td>\n",
       "      <td>0.686962</td>\n",
       "    </tr>\n",
       "    <tr>\n",
       "      <th>max[indegree over C-&gt;C responses]</th>\n",
       "      <td>2.000000</td>\n",
       "      <td>5.000000</td>\n",
       "      <td>5.000000</td>\n",
       "    </tr>\n",
       "    <tr>\n",
       "      <th>mean-nonzero[indegree over C-&gt;C responses]</th>\n",
       "      <td>1.800000</td>\n",
       "      <td>2.250000</td>\n",
       "      <td>4.500000</td>\n",
       "    </tr>\n",
       "    <tr>\n",
       "      <th>mean[indegree over C-&gt;C responses]</th>\n",
       "      <td>1.125000</td>\n",
       "      <td>1.500000</td>\n",
       "      <td>4.500000</td>\n",
       "    </tr>\n",
       "    <tr>\n",
       "      <th>norm.2nd-largest[indegree over C-&gt;C responses]</th>\n",
       "      <td>0.222222</td>\n",
       "      <td>0.222222</td>\n",
       "      <td>0.444444</td>\n",
       "    </tr>\n",
       "    <tr>\n",
       "      <th>norm.max[indegree over C-&gt;C responses]</th>\n",
       "      <td>0.222222</td>\n",
       "      <td>0.555556</td>\n",
       "      <td>0.555556</td>\n",
       "    </tr>\n",
       "    <tr>\n",
       "      <th>prop-multiple[indegree over C-&gt;C responses]</th>\n",
       "      <td>0.800000</td>\n",
       "      <td>0.500000</td>\n",
       "      <td>1.000000</td>\n",
       "    </tr>\n",
       "    <tr>\n",
       "      <th>prop-nonzero[indegree over C-&gt;C responses]</th>\n",
       "      <td>0.625000</td>\n",
       "      <td>0.666667</td>\n",
       "      <td>1.000000</td>\n",
       "    </tr>\n",
       "  </tbody>\n",
       "</table>\n",
       "</div>"
      ],
      "text/plain": [
       "                                                  e5717fs   e57u6ft   e56rtrx\n",
       "2nd-argmax[indegree over C->C responses]         2.000000  1.000000  1.000000\n",
       "2nd-largest / max[indegree over C->C responses]  1.000000  0.400000  0.800000\n",
       "2nd-largest[indegree over C->C responses]        2.000000  2.000000  4.000000\n",
       "argmax[indegree over C->C responses]             1.000000  0.000000  0.000000\n",
       "entropy[indegree over C->C responses]            1.581094  1.149060  0.686962\n",
       "max[indegree over C->C responses]                2.000000  5.000000  5.000000\n",
       "mean-nonzero[indegree over C->C responses]       1.800000  2.250000  4.500000\n",
       "mean[indegree over C->C responses]               1.125000  1.500000  4.500000\n",
       "norm.2nd-largest[indegree over C->C responses]   0.222222  0.222222  0.444444\n",
       "norm.max[indegree over C->C responses]           0.222222  0.555556  0.555556\n",
       "prop-multiple[indegree over C->C responses]      0.800000  0.500000  1.000000\n",
       "prop-nonzero[indegree over C->C responses]       0.625000  0.666667  1.000000"
      ]
     },
     "execution_count": 23,
     "metadata": {},
     "output_type": "execute_result"
    }
   ],
   "source": [
    "feat_df.loc[demo_threads][C_C_indegree_feats].T.sort_index()"
   ]
  },
  {
   "cell_type": "markdown",
   "metadata": {},
   "source": [
    "Features derived from the distribution of hypernode to hypernode outdegrees in the _middle_ of the thread (i.e., \"beyond the root comment, how many other people is each participant responding to?\"). "
   ]
  },
  {
   "cell_type": "code",
   "execution_count": 24,
   "metadata": {},
   "outputs": [
    {
     "data": {
      "text/html": [
       "<div>\n",
       "<style>\n",
       "    .dataframe thead tr:only-child th {\n",
       "        text-align: right;\n",
       "    }\n",
       "\n",
       "    .dataframe thead th {\n",
       "        text-align: left;\n",
       "    }\n",
       "\n",
       "    .dataframe tbody tr th {\n",
       "        vertical-align: top;\n",
       "    }\n",
       "</style>\n",
       "<table border=\"1\" class=\"dataframe\">\n",
       "  <thead>\n",
       "    <tr style=\"text-align: right;\">\n",
       "      <th></th>\n",
       "      <th>e5717fs</th>\n",
       "      <th>e57u6ft</th>\n",
       "      <th>e56rtrx</th>\n",
       "    </tr>\n",
       "  </thead>\n",
       "  <tbody>\n",
       "    <tr>\n",
       "      <th>2nd-argmax[outdegree over C-&gt;C mid-thread responses]</th>\n",
       "      <td>1.000000</td>\n",
       "      <td>0.000000</td>\n",
       "      <td>1.000000</td>\n",
       "    </tr>\n",
       "    <tr>\n",
       "      <th>2nd-largest / max[outdegree over C-&gt;C mid-thread responses]</th>\n",
       "      <td>0.500000</td>\n",
       "      <td>0.500000</td>\n",
       "      <td>1.000000</td>\n",
       "    </tr>\n",
       "    <tr>\n",
       "      <th>2nd-largest[outdegree over C-&gt;C mid-thread responses]</th>\n",
       "      <td>1.000000</td>\n",
       "      <td>1.000000</td>\n",
       "      <td>4.000000</td>\n",
       "    </tr>\n",
       "    <tr>\n",
       "      <th>argmax[outdegree over C-&gt;C mid-thread responses]</th>\n",
       "      <td>7.000000</td>\n",
       "      <td>3.000000</td>\n",
       "      <td>0.000000</td>\n",
       "    </tr>\n",
       "    <tr>\n",
       "      <th>entropy[outdegree over C-&gt;C mid-thread responses]</th>\n",
       "      <td>1.906155</td>\n",
       "      <td>1.560710</td>\n",
       "      <td>0.693147</td>\n",
       "    </tr>\n",
       "    <tr>\n",
       "      <th>max[outdegree over C-&gt;C mid-thread responses]</th>\n",
       "      <td>2.000000</td>\n",
       "      <td>2.000000</td>\n",
       "      <td>4.000000</td>\n",
       "    </tr>\n",
       "    <tr>\n",
       "      <th>mean-nonzero[outdegree over C-&gt;C mid-thread responses]</th>\n",
       "      <td>1.142857</td>\n",
       "      <td>1.200000</td>\n",
       "      <td>4.000000</td>\n",
       "    </tr>\n",
       "    <tr>\n",
       "      <th>mean[outdegree over C-&gt;C mid-thread responses]</th>\n",
       "      <td>1.000000</td>\n",
       "      <td>1.000000</td>\n",
       "      <td>4.000000</td>\n",
       "    </tr>\n",
       "    <tr>\n",
       "      <th>norm.2nd-largest[outdegree over C-&gt;C mid-thread responses]</th>\n",
       "      <td>0.125000</td>\n",
       "      <td>0.166667</td>\n",
       "      <td>0.500000</td>\n",
       "    </tr>\n",
       "    <tr>\n",
       "      <th>norm.max[outdegree over C-&gt;C mid-thread responses]</th>\n",
       "      <td>0.250000</td>\n",
       "      <td>0.333333</td>\n",
       "      <td>0.500000</td>\n",
       "    </tr>\n",
       "    <tr>\n",
       "      <th>prop-multiple[outdegree over C-&gt;C mid-thread responses]</th>\n",
       "      <td>0.142857</td>\n",
       "      <td>0.200000</td>\n",
       "      <td>1.000000</td>\n",
       "    </tr>\n",
       "    <tr>\n",
       "      <th>prop-nonzero[outdegree over C-&gt;C mid-thread responses]</th>\n",
       "      <td>0.875000</td>\n",
       "      <td>0.833333</td>\n",
       "      <td>1.000000</td>\n",
       "    </tr>\n",
       "  </tbody>\n",
       "</table>\n",
       "</div>"
      ],
      "text/plain": [
       "                                                     e5717fs   e57u6ft  \\\n",
       "2nd-argmax[outdegree over C->C mid-thread respo...  1.000000  0.000000   \n",
       "2nd-largest / max[outdegree over C->C mid-threa...  0.500000  0.500000   \n",
       "2nd-largest[outdegree over C->C mid-thread resp...  1.000000  1.000000   \n",
       "argmax[outdegree over C->C mid-thread responses]    7.000000  3.000000   \n",
       "entropy[outdegree over C->C mid-thread responses]   1.906155  1.560710   \n",
       "max[outdegree over C->C mid-thread responses]       2.000000  2.000000   \n",
       "mean-nonzero[outdegree over C->C mid-thread res...  1.142857  1.200000   \n",
       "mean[outdegree over C->C mid-thread responses]      1.000000  1.000000   \n",
       "norm.2nd-largest[outdegree over C->C mid-thread...  0.125000  0.166667   \n",
       "norm.max[outdegree over C->C mid-thread responses]  0.250000  0.333333   \n",
       "prop-multiple[outdegree over C->C mid-thread re...  0.142857  0.200000   \n",
       "prop-nonzero[outdegree over C->C mid-thread res...  0.875000  0.833333   \n",
       "\n",
       "                                                     e56rtrx  \n",
       "2nd-argmax[outdegree over C->C mid-thread respo...  1.000000  \n",
       "2nd-largest / max[outdegree over C->C mid-threa...  1.000000  \n",
       "2nd-largest[outdegree over C->C mid-thread resp...  4.000000  \n",
       "argmax[outdegree over C->C mid-thread responses]    0.000000  \n",
       "entropy[outdegree over C->C mid-thread responses]   0.693147  \n",
       "max[outdegree over C->C mid-thread responses]       4.000000  \n",
       "mean-nonzero[outdegree over C->C mid-thread res...  4.000000  \n",
       "mean[outdegree over C->C mid-thread responses]      4.000000  \n",
       "norm.2nd-largest[outdegree over C->C mid-thread...  0.500000  \n",
       "norm.max[outdegree over C->C mid-thread responses]  0.500000  \n",
       "prop-multiple[outdegree over C->C mid-thread re...  1.000000  \n",
       "prop-nonzero[outdegree over C->C mid-thread res...  1.000000  "
      ]
     },
     "execution_count": 24,
     "metadata": {},
     "output_type": "execute_result"
    }
   ],
   "source": [
    "feat_df.loc[demo_threads][C_C_mid_outdegree_feats].T.sort_index()"
   ]
  },
  {
   "cell_type": "markdown",
   "metadata": {},
   "source": [
    "Features derived from the 5 motifs considered in the paper. Note that because we do not have reply information, we instead take as features _counts_ of each motif (in the paper, we would additionally compare reply or reaction edge types within motifs of a particular form)"
   ]
  },
  {
   "cell_type": "code",
   "execution_count": 25,
   "metadata": {},
   "outputs": [
    {
     "data": {
      "text/html": [
       "<div>\n",
       "<style>\n",
       "    .dataframe thead tr:only-child th {\n",
       "        text-align: right;\n",
       "    }\n",
       "\n",
       "    .dataframe thead th {\n",
       "        text-align: left;\n",
       "    }\n",
       "\n",
       "    .dataframe tbody tr th {\n",
       "        vertical-align: top;\n",
       "    }\n",
       "</style>\n",
       "<table border=\"1\" class=\"dataframe\">\n",
       "  <thead>\n",
       "    <tr style=\"text-align: right;\">\n",
       "      <th></th>\n",
       "      <th>e5717fs</th>\n",
       "      <th>e57u6ft</th>\n",
       "      <th>e56rtrx</th>\n",
       "    </tr>\n",
       "  </thead>\n",
       "  <tbody>\n",
       "    <tr>\n",
       "      <th>count[dyadic interaction motif]</th>\n",
       "      <td>2</td>\n",
       "      <td>8</td>\n",
       "      <td>40</td>\n",
       "    </tr>\n",
       "    <tr>\n",
       "      <th>count[external reciprocity motif]</th>\n",
       "      <td>7</td>\n",
       "      <td>3</td>\n",
       "      <td>0</td>\n",
       "    </tr>\n",
       "    <tr>\n",
       "      <th>count[incoming triads]</th>\n",
       "      <td>3</td>\n",
       "      <td>10</td>\n",
       "      <td>0</td>\n",
       "    </tr>\n",
       "    <tr>\n",
       "      <th>count[outgoing triads]</th>\n",
       "      <td>11</td>\n",
       "      <td>20</td>\n",
       "      <td>56</td>\n",
       "    </tr>\n",
       "    <tr>\n",
       "      <th>count[reciprocity motif]</th>\n",
       "      <td>1</td>\n",
       "      <td>3</td>\n",
       "      <td>8</td>\n",
       "    </tr>\n",
       "  </tbody>\n",
       "</table>\n",
       "</div>"
      ],
      "text/plain": [
       "                                   e5717fs  e57u6ft  e56rtrx\n",
       "count[dyadic interaction motif]          2        8       40\n",
       "count[external reciprocity motif]        7        3        0\n",
       "count[incoming triads]                   3       10        0\n",
       "count[outgoing triads]                  11       20       56\n",
       "count[reciprocity motif]                 1        3        8"
      ]
     },
     "execution_count": 25,
     "metadata": {},
     "output_type": "execute_result"
    }
   ],
   "source": [
    "feat_df.loc[demo_threads][motif_count_feats].T.sort_index()"
   ]
  },
  {
   "cell_type": "code",
   "execution_count": null,
   "metadata": {
    "collapsed": true
   },
   "outputs": [],
   "source": []
  },
  {
   "cell_type": "markdown",
   "metadata": {},
   "source": [
    "While the features generated above can be used as is (e.g., as features in a prediction task), we can also interpret them by projecting them into a low-dimensional space. "
   ]
  },
  {
   "cell_type": "code",
   "execution_count": 26,
   "metadata": {
    "collapsed": true
   },
   "outputs": [],
   "source": [
    "from sklearn.preprocessing import Imputer, Normalizer, StandardScaler\n",
    "from sklearn.decomposition import TruncatedSVD\n",
    "from sklearn.manifold import TSNE\n",
    "from sklearn.metrics.pairwise import pairwise_distances"
   ]
  },
  {
   "cell_type": "code",
   "execution_count": 27,
   "metadata": {
    "collapsed": true
   },
   "outputs": [],
   "source": [
    "feat_mtx = Imputer(axis=1, missing_values=-1).fit_transform(feat_df.values)\n",
    "feat_mtx = StandardScaler().fit_transform(feat_mtx)"
   ]
  },
  {
   "cell_type": "code",
   "execution_count": 28,
   "metadata": {
    "collapsed": true
   },
   "outputs": [],
   "source": [
    "svd = TruncatedSVD(n_components=7, algorithm='arpack') # deals with an issue where the randomized alg hangs\n",
    "svd.fit(feat_mtx)\n",
    "U, s, V = svd.transform(feat_mtx) / svd.singular_values_, \\\n",
    "        svd.singular_values_, \\\n",
    "        svd.components_.T"
   ]
  },
  {
   "cell_type": "code",
   "execution_count": 29,
   "metadata": {
    "collapsed": true
   },
   "outputs": [],
   "source": [
    "U_norm = Normalizer().fit_transform(U)\n",
    "V_norm = Normalizer().fit_transform(V)\n",
    "U_df = pd.DataFrame(data=U_norm, index=feat_df.index)\n",
    "V_df = pd.DataFrame(data=V_norm, index=feat_names)"
   ]
  },
  {
   "cell_type": "markdown",
   "metadata": {},
   "source": [
    "This embedding procedure produces embeddings of threads in the low-dimensional space:"
   ]
  },
  {
   "cell_type": "code",
   "execution_count": 30,
   "metadata": {},
   "outputs": [
    {
     "data": {
      "text/html": [
       "<div>\n",
       "<style>\n",
       "    .dataframe thead tr:only-child th {\n",
       "        text-align: right;\n",
       "    }\n",
       "\n",
       "    .dataframe thead th {\n",
       "        text-align: left;\n",
       "    }\n",
       "\n",
       "    .dataframe tbody tr th {\n",
       "        vertical-align: top;\n",
       "    }\n",
       "</style>\n",
       "<table border=\"1\" class=\"dataframe\">\n",
       "  <thead>\n",
       "    <tr style=\"text-align: right;\">\n",
       "      <th></th>\n",
       "      <th>e5717fs</th>\n",
       "      <th>e57u6ft</th>\n",
       "      <th>e56rtrx</th>\n",
       "    </tr>\n",
       "  </thead>\n",
       "  <tbody>\n",
       "    <tr>\n",
       "      <th>0</th>\n",
       "      <td>-0.198059</td>\n",
       "      <td>-0.088648</td>\n",
       "      <td>0.806113</td>\n",
       "    </tr>\n",
       "    <tr>\n",
       "      <th>1</th>\n",
       "      <td>-0.471295</td>\n",
       "      <td>-0.273673</td>\n",
       "      <td>0.276566</td>\n",
       "    </tr>\n",
       "    <tr>\n",
       "      <th>2</th>\n",
       "      <td>0.260131</td>\n",
       "      <td>-0.330876</td>\n",
       "      <td>0.064748</td>\n",
       "    </tr>\n",
       "    <tr>\n",
       "      <th>3</th>\n",
       "      <td>0.428210</td>\n",
       "      <td>0.012822</td>\n",
       "      <td>-0.318520</td>\n",
       "    </tr>\n",
       "    <tr>\n",
       "      <th>4</th>\n",
       "      <td>0.436187</td>\n",
       "      <td>-0.228265</td>\n",
       "      <td>-0.104498</td>\n",
       "    </tr>\n",
       "    <tr>\n",
       "      <th>5</th>\n",
       "      <td>0.391530</td>\n",
       "      <td>0.818008</td>\n",
       "      <td>0.370947</td>\n",
       "    </tr>\n",
       "    <tr>\n",
       "      <th>6</th>\n",
       "      <td>-0.379561</td>\n",
       "      <td>-0.293871</td>\n",
       "      <td>0.139730</td>\n",
       "    </tr>\n",
       "  </tbody>\n",
       "</table>\n",
       "</div>"
      ],
      "text/plain": [
       "    e5717fs   e57u6ft   e56rtrx\n",
       "0 -0.198059 -0.088648  0.806113\n",
       "1 -0.471295 -0.273673  0.276566\n",
       "2  0.260131 -0.330876  0.064748\n",
       "3  0.428210  0.012822 -0.318520\n",
       "4  0.436187 -0.228265 -0.104498\n",
       "5  0.391530  0.818008  0.370947\n",
       "6 -0.379561 -0.293871  0.139730"
      ]
     },
     "execution_count": 30,
     "metadata": {},
     "output_type": "execute_result"
    }
   ],
   "source": [
    "U_df.loc[demo_threads].T"
   ]
  },
  {
   "cell_type": "markdown",
   "metadata": {},
   "source": [
    "As well as embeddings of features:"
   ]
  },
  {
   "cell_type": "code",
   "execution_count": 31,
   "metadata": {},
   "outputs": [
    {
     "data": {
      "text/html": [
       "<div>\n",
       "<style>\n",
       "    .dataframe thead tr:only-child th {\n",
       "        text-align: right;\n",
       "    }\n",
       "\n",
       "    .dataframe thead th {\n",
       "        text-align: left;\n",
       "    }\n",
       "\n",
       "    .dataframe tbody tr th {\n",
       "        vertical-align: top;\n",
       "    }\n",
       "</style>\n",
       "<table border=\"1\" class=\"dataframe\">\n",
       "  <thead>\n",
       "    <tr style=\"text-align: right;\">\n",
       "      <th></th>\n",
       "      <th>0</th>\n",
       "      <th>1</th>\n",
       "      <th>2</th>\n",
       "      <th>3</th>\n",
       "      <th>4</th>\n",
       "      <th>5</th>\n",
       "      <th>6</th>\n",
       "    </tr>\n",
       "  </thead>\n",
       "  <tbody>\n",
       "    <tr>\n",
       "      <th>max[indegree over C-&gt;C responses]</th>\n",
       "      <td>-0.009770</td>\n",
       "      <td>0.812951</td>\n",
       "      <td>0.068530</td>\n",
       "      <td>-0.496592</td>\n",
       "      <td>-0.287380</td>\n",
       "      <td>-1.367235e-16</td>\n",
       "      <td>0.071611</td>\n",
       "    </tr>\n",
       "    <tr>\n",
       "      <th>argmax[indegree over C-&gt;C responses]</th>\n",
       "      <td>0.043852</td>\n",
       "      <td>-0.429629</td>\n",
       "      <td>0.492663</td>\n",
       "      <td>-0.422184</td>\n",
       "      <td>0.160153</td>\n",
       "      <td>-2.769485e-16</td>\n",
       "      <td>0.605715</td>\n",
       "    </tr>\n",
       "    <tr>\n",
       "      <th>norm.max[indegree over C-&gt;C responses]</th>\n",
       "      <td>-0.009861</td>\n",
       "      <td>0.813162</td>\n",
       "      <td>0.068677</td>\n",
       "      <td>-0.496828</td>\n",
       "      <td>-0.286313</td>\n",
       "      <td>1.093766e-15</td>\n",
       "      <td>0.071705</td>\n",
       "    </tr>\n",
       "    <tr>\n",
       "      <th>2nd-largest[indegree over C-&gt;C responses]</th>\n",
       "      <td>0.469688</td>\n",
       "      <td>-0.155532</td>\n",
       "      <td>0.581288</td>\n",
       "      <td>0.063694</td>\n",
       "      <td>-0.280932</td>\n",
       "      <td>1.409957e-15</td>\n",
       "      <td>-0.578211</td>\n",
       "    </tr>\n",
       "    <tr>\n",
       "      <th>2nd-argmax[indegree over C-&gt;C responses]</th>\n",
       "      <td>-0.094280</td>\n",
       "      <td>0.205070</td>\n",
       "      <td>-0.210629</td>\n",
       "      <td>0.683533</td>\n",
       "      <td>-0.435193</td>\n",
       "      <td>3.786862e-15</td>\n",
       "      <td>-0.498079</td>\n",
       "    </tr>\n",
       "    <tr>\n",
       "      <th>norm.2nd-largest[indegree over C-&gt;C responses]</th>\n",
       "      <td>0.261550</td>\n",
       "      <td>0.312377</td>\n",
       "      <td>0.497863</td>\n",
       "      <td>0.618703</td>\n",
       "      <td>-0.377827</td>\n",
       "      <td>1.111886e-15</td>\n",
       "      <td>0.246165</td>\n",
       "    </tr>\n",
       "    <tr>\n",
       "      <th>mean[indegree over C-&gt;C responses]</th>\n",
       "      <td>0.758078</td>\n",
       "      <td>0.519200</td>\n",
       "      <td>0.307214</td>\n",
       "      <td>0.162900</td>\n",
       "      <td>-0.185217</td>\n",
       "      <td>1.719781e-15</td>\n",
       "      <td>0.022952</td>\n",
       "    </tr>\n",
       "    <tr>\n",
       "      <th>mean-nonzero[indegree over C-&gt;C responses]</th>\n",
       "      <td>0.244614</td>\n",
       "      <td>0.782658</td>\n",
       "      <td>0.505372</td>\n",
       "      <td>-0.226986</td>\n",
       "      <td>0.076522</td>\n",
       "      <td>6.870566e-16</td>\n",
       "      <td>-0.121787</td>\n",
       "    </tr>\n",
       "    <tr>\n",
       "      <th>prop-nonzero[indegree over C-&gt;C responses]</th>\n",
       "      <td>0.819261</td>\n",
       "      <td>-0.257694</td>\n",
       "      <td>-0.447331</td>\n",
       "      <td>0.086338</td>\n",
       "      <td>0.180655</td>\n",
       "      <td>1.693273e-15</td>\n",
       "      <td>0.149031</td>\n",
       "    </tr>\n",
       "    <tr>\n",
       "      <th>prop-multiple[indegree over C-&gt;C responses]</th>\n",
       "      <td>0.296549</td>\n",
       "      <td>0.195015</td>\n",
       "      <td>0.572523</td>\n",
       "      <td>-0.148814</td>\n",
       "      <td>0.237326</td>\n",
       "      <td>8.196840e-16</td>\n",
       "      <td>-0.683942</td>\n",
       "    </tr>\n",
       "    <tr>\n",
       "      <th>entropy[indegree over C-&gt;C responses]</th>\n",
       "      <td>-0.144492</td>\n",
       "      <td>-0.728748</td>\n",
       "      <td>-0.295874</td>\n",
       "      <td>0.501671</td>\n",
       "      <td>0.185505</td>\n",
       "      <td>-1.015477e-15</td>\n",
       "      <td>0.272801</td>\n",
       "    </tr>\n",
       "    <tr>\n",
       "      <th>2nd-largest / max[indegree over C-&gt;C responses]</th>\n",
       "      <td>0.281892</td>\n",
       "      <td>0.038251</td>\n",
       "      <td>0.537780</td>\n",
       "      <td>0.754951</td>\n",
       "      <td>-0.224588</td>\n",
       "      <td>1.379414e-15</td>\n",
       "      <td>0.097345</td>\n",
       "    </tr>\n",
       "  </tbody>\n",
       "</table>\n",
       "</div>"
      ],
      "text/plain": [
       "                                                        0         1         2  \\\n",
       "max[indegree over C->C responses]               -0.009770  0.812951  0.068530   \n",
       "argmax[indegree over C->C responses]             0.043852 -0.429629  0.492663   \n",
       "norm.max[indegree over C->C responses]          -0.009861  0.813162  0.068677   \n",
       "2nd-largest[indegree over C->C responses]        0.469688 -0.155532  0.581288   \n",
       "2nd-argmax[indegree over C->C responses]        -0.094280  0.205070 -0.210629   \n",
       "norm.2nd-largest[indegree over C->C responses]   0.261550  0.312377  0.497863   \n",
       "mean[indegree over C->C responses]               0.758078  0.519200  0.307214   \n",
       "mean-nonzero[indegree over C->C responses]       0.244614  0.782658  0.505372   \n",
       "prop-nonzero[indegree over C->C responses]       0.819261 -0.257694 -0.447331   \n",
       "prop-multiple[indegree over C->C responses]      0.296549  0.195015  0.572523   \n",
       "entropy[indegree over C->C responses]           -0.144492 -0.728748 -0.295874   \n",
       "2nd-largest / max[indegree over C->C responses]  0.281892  0.038251  0.537780   \n",
       "\n",
       "                                                        3         4  \\\n",
       "max[indegree over C->C responses]               -0.496592 -0.287380   \n",
       "argmax[indegree over C->C responses]            -0.422184  0.160153   \n",
       "norm.max[indegree over C->C responses]          -0.496828 -0.286313   \n",
       "2nd-largest[indegree over C->C responses]        0.063694 -0.280932   \n",
       "2nd-argmax[indegree over C->C responses]         0.683533 -0.435193   \n",
       "norm.2nd-largest[indegree over C->C responses]   0.618703 -0.377827   \n",
       "mean[indegree over C->C responses]               0.162900 -0.185217   \n",
       "mean-nonzero[indegree over C->C responses]      -0.226986  0.076522   \n",
       "prop-nonzero[indegree over C->C responses]       0.086338  0.180655   \n",
       "prop-multiple[indegree over C->C responses]     -0.148814  0.237326   \n",
       "entropy[indegree over C->C responses]            0.501671  0.185505   \n",
       "2nd-largest / max[indegree over C->C responses]  0.754951 -0.224588   \n",
       "\n",
       "                                                            5         6  \n",
       "max[indegree over C->C responses]               -1.367235e-16  0.071611  \n",
       "argmax[indegree over C->C responses]            -2.769485e-16  0.605715  \n",
       "norm.max[indegree over C->C responses]           1.093766e-15  0.071705  \n",
       "2nd-largest[indegree over C->C responses]        1.409957e-15 -0.578211  \n",
       "2nd-argmax[indegree over C->C responses]         3.786862e-15 -0.498079  \n",
       "norm.2nd-largest[indegree over C->C responses]   1.111886e-15  0.246165  \n",
       "mean[indegree over C->C responses]               1.719781e-15  0.022952  \n",
       "mean-nonzero[indegree over C->C responses]       6.870566e-16 -0.121787  \n",
       "prop-nonzero[indegree over C->C responses]       1.693273e-15  0.149031  \n",
       "prop-multiple[indegree over C->C responses]      8.196840e-16 -0.683942  \n",
       "entropy[indegree over C->C responses]           -1.015477e-15  0.272801  \n",
       "2nd-largest / max[indegree over C->C responses]  1.379414e-15  0.097345  "
      ]
     },
     "execution_count": 31,
     "metadata": {},
     "output_type": "execute_result"
    }
   ],
   "source": [
    "V_df.loc[C_C_indegree_feats]"
   ]
  },
  {
   "cell_type": "code",
   "execution_count": null,
   "metadata": {
    "collapsed": true
   },
   "outputs": [],
   "source": []
  },
  {
   "cell_type": "markdown",
   "metadata": {},
   "source": [
    "As in the paper, for further interpretability we can consider embeddings of _communities_ (subreddits, standing for Facebook pages) in terms of the discussions they foster, by averaging the embeddings of all threads in a particular subreddit."
   ]
  },
  {
   "cell_type": "code",
   "execution_count": 32,
   "metadata": {
    "collapsed": true
   },
   "outputs": [],
   "source": [
    "def get_subreddit(threads, thread_id):\n",
    "    return threads[thread_id][thread_id].meta[\"subreddit\"]\n",
    "\n"
   ]
  },
  {
   "cell_type": "code",
   "execution_count": 33,
   "metadata": {
    "collapsed": true
   },
   "outputs": [],
   "source": [
    "subreddits = [get_subreddit(threads, thread_id) for thread_id in threads]\n",
    "U_df['subreddit'] = subreddits"
   ]
  },
  {
   "cell_type": "code",
   "execution_count": 34,
   "metadata": {
    "collapsed": true
   },
   "outputs": [],
   "source": [
    "subreddit_means = U_df.groupby('subreddit').mean()\n",
    "subreddit_df = pd.DataFrame(\n",
    "        data=Normalizer().fit_transform(subreddit_means.values),\n",
    "        index = subreddit_means.index\n",
    "    )"
   ]
  },
  {
   "cell_type": "code",
   "execution_count": null,
   "metadata": {
    "collapsed": true
   },
   "outputs": [],
   "source": []
  },
  {
   "cell_type": "markdown",
   "metadata": {},
   "source": [
    "First, let's give a rough overview of the space we've sketched out through this procedure, by visualizing the subreddit embeddings using the TSNE algorithm."
   ]
  },
  {
   "cell_type": "code",
   "execution_count": 35,
   "metadata": {
    "collapsed": true
   },
   "outputs": [],
   "source": [
    "tsne = TSNE(random_state=2018)\n",
    "tsne_df = pd.DataFrame(data=tsne.fit_transform(subreddit_df.values),\n",
    "                      index=subreddit_df.index)"
   ]
  },
  {
   "cell_type": "code",
   "execution_count": 36,
   "metadata": {
    "scrolled": false
   },
   "outputs": [
    {
     "data": {
      "image/png": "[encoded data removed]",
      "text/plain": [
       "<Figure size 720x720 with 1 Axes>"
      ]
     },
     "metadata": {
      "needs_background": "light"
     },
     "output_type": "display_data"
    }
   ],
   "source": [
    "plt.figure(figsize=(10,10))\n",
    "plt.scatter(tsne_df[0].values, tsne_df[1].values)\n",
    "for i, txt in enumerate(tsne_df.index):\n",
    "    plt.annotate(txt, (tsne_df.values[i,0], tsne_df.values[i,1]))\n",
    "plt.show()"
   ]
  },
  {
   "cell_type": "markdown",
   "metadata": {},
   "source": [
    "Looking across this plot, we can spot a few interpretable-looking groupings:"
   ]
  },
  {
   "cell_type": "code",
   "execution_count": 37,
   "metadata": {},
   "outputs": [
    {
     "data": {
      "image/png": "[encoded data removed]",
      "text/plain": [
       "<Figure size 432x288 with 1 Axes>"
      ]
     },
     "metadata": {
      "needs_background": "light"
     },
     "output_type": "display_data"
    }
   ],
   "source": [
    "games = [\"battlefield3\", \"Diablo\", \"DotA2\", \"Guildwars2\", \"leagueoflegends\", \"magicTCG\", \"Minecraft\", \"pokemon\", \"skyrim\", \"starcraft\", \"tf2\", \"wow\"]\n",
    "trade = [\"Dota2Trade\", \"pokemontrades\", \"SteamGameSwap\", \"tf2trade\", \"Random_Acts_Of_Amazon\"]\n",
    "sports = [\"baseball\", \"CFB\", \"hockey\", \"MMA\", \"nba\", \"nfl\", \"soccer\"]\n",
    "\n",
    "link_aggregators = [\"AskReddit\", \"WTF\", \"pics\", \"gifs\", \"aww\", \"funny\", \"todayilearned\",\n",
    "                   \"AdviceAnimals\"]\n",
    "relationships = [\"AskMen\", \"AskWomen\", \"relationships\", \"relationship_advice\", \"OkCupid\"]\n",
    "\n",
    "plt.scatter(tsne_df[0].values, tsne_df[1].values, color=\"#dddddd\")\n",
    "plt.scatter(tsne_df[0].values, tsne_df[1].values, color=[\n",
    "    \"green\" if l in games else\n",
    "    \"gold\" if l in trade else\n",
    "    \"purple\" if l in relationships else\n",
    "    \"red\" if l in link_aggregators else\n",
    "    \"blue\" if l in sports else\n",
    "    \"#00000000\"\n",
    "    for l in tsne_df.index])\n",
    "plt.show()"
   ]
  },
  {
   "cell_type": "markdown",
   "metadata": {},
   "source": [
    "For instance, video games (e.g., tf2, DotA2; red) tend to group together, along with buy-sell subreddits (e.g., tf2trade, Dota2Trade, yellow), subreddits related to relationships (e.g., AskWomen, relationship_advice; green) and large default-subreddit hubs for sharing random links (e.g., pics, AskReddit; purple)."
   ]
  },
  {
   "cell_type": "markdown",
   "metadata": {},
   "source": [
    "There may be other interesting groupings that you may spot as well -- for instance, a vaguely right-wing MensRights cluster (with Libertarian, guns); a rather intriguing cluster consisting of politics, sex, business, etc."
   ]
  },
  {
   "cell_type": "markdown",
   "metadata": {},
   "source": [
    "Some topical groups are more diffuse -- for instance, sports-based subreddits (blue). Perhaps this is a limitation of our representation, or that these subreddits actually foster very different interactional dynamics."
   ]
  },
  {
   "cell_type": "code",
   "execution_count": null,
   "metadata": {
    "collapsed": true
   },
   "outputs": [],
   "source": []
  },
  {
   "cell_type": "markdown",
   "metadata": {},
   "source": [
    "Another way to delve into these groupings is to look at nearest neighbors of subreddits, in terms of the embedding:"
   ]
  },
  {
   "cell_type": "code",
   "execution_count": 38,
   "metadata": {
    "collapsed": true,
    "scrolled": true
   },
   "outputs": [],
   "source": [
    "dists = pairwise_distances(subreddit_df.values, metric='cosine')\n",
    "flat_dists = np.ravel(dists)\n",
    "idx1, idx2 = np.unravel_index(np.arange(len(flat_dists)), dists.shape)\n",
    "pairwise_dist_df = pd.DataFrame.from_dict({'p1': subreddit_df.index[idx1],\n",
    "                                           'p2': subreddit_df.index[idx2],\n",
    "                                           'dist': flat_dists},\n",
    "                                           orient='columns')"
   ]
  },
  {
   "cell_type": "code",
   "execution_count": 39,
   "metadata": {
    "collapsed": true
   },
   "outputs": [],
   "source": [
    "def print_nearest_neighbors(pairwise_dist_df, \n",
    "                           test_subreddits=[],\n",
    "                           top_N=10):\n",
    "    for subreddit in test_subreddits:\n",
    "        subset_df = pairwise_dist_df[(pairwise_dist_df.p1 == subreddit)\n",
    "                                 & (pairwise_dist_df.p2 != subreddit)]\n",
    "        print(subreddit)\n",
    "        print(subset_df.sort_values('dist')[['p2', 'dist']].head(top_N))\n",
    "        print()"
   ]
  },
  {
   "cell_type": "code",
   "execution_count": 40,
   "metadata": {
    "scrolled": true
   },
   "outputs": [
    {
     "name": "stdout",
     "output_type": "stream",
     "text": [
      "apple\n",
      "                    p2      dist\n",
      "3833  ShingekiNoKyojin  0.004017\n",
      "3810            Diablo  0.006825\n",
      "3888        technology  0.009393\n",
      "3867       motorcycles  0.010524\n",
      "3837             anime  0.016090\n",
      "3803            AskMen  0.016638\n",
      "3896     unitedkingdom  0.017630\n",
      "3881   rupaulsdragrace  0.018646\n",
      "3848            canada  0.020107\n",
      "3871               nfl  0.023298\n",
      "\n",
      "politics\n",
      "               p2      dist\n",
      "7707          CFB  0.023587\n",
      "7727        Music  0.024530\n",
      "7786       soccer  0.030127\n",
      "7704    AskReddit  0.032817\n",
      "7768       movies  0.037121\n",
      "7745        books  0.040128\n",
      "7762  hiphopheads  0.040301\n",
      "7788   technology  0.042719\n",
      "7715       Frugal  0.046723\n",
      "7703       AskMen  0.047625\n",
      "\n",
      "leagueoflegends\n",
      "                 p2      dist\n",
      "6478    programming  0.008081\n",
      "6444       baseball  0.010526\n",
      "6465       magicTCG  0.012686\n",
      "6499            wow  0.013438\n",
      "6411          DotA2  0.014148\n",
      "6457          funny  0.014572\n",
      "6463         hockey  0.015803\n",
      "6451         cringe  0.016402\n",
      "6474           pics  0.018278\n",
      "6493  todayilearned  0.018442\n",
      "\n",
      "AskWomen\n",
      "                  p2      dist\n",
      "545            books  0.020462\n",
      "598        worldnews  0.029546\n",
      "570             news  0.036344\n",
      "504        AskReddit  0.040448\n",
      "584        singapore  0.047218\n",
      "556  fantasyfootball  0.048592\n",
      "577         politics  0.050729\n",
      "539       askscience  0.050855\n",
      "513        Economics  0.059927\n",
      "571              nfl  0.060342\n",
      "\n",
      "Music\n",
      "               p2      dist\n",
      "2786       soccer  0.006630\n",
      "2720  LifeProTips  0.008425\n",
      "2762  hiphopheads  0.008904\n",
      "2768       movies  0.011202\n",
      "2723       Marvel  0.014607\n",
      "2716        Games  0.017368\n",
      "2757        funny  0.019160\n",
      "2721          MMA  0.019971\n",
      "2788   technology  0.023554\n",
      "2777     politics  0.024530\n",
      "\n",
      "pics\n",
      "                 p2      dist\n",
      "7411          DotA2  0.005083\n",
      "7400  AdviceAnimals  0.005574\n",
      "7468         movies  0.007242\n",
      "7451         cringe  0.009234\n",
      "7415         Frugal  0.012555\n",
      "7478    programming  0.012653\n",
      "7492           tifu  0.013273\n",
      "7434  SquaredCircle  0.014096\n",
      "7457          funny  0.014491\n",
      "7442      australia  0.015651\n",
      "\n",
      "australia\n",
      "               p2      dist\n",
      "4265     magicTCG  0.006206\n",
      "4211        DotA2  0.007577\n",
      "4249         cars  0.011341\n",
      "4278  programming  0.011443\n",
      "4215       Frugal  0.011692\n",
      "4244     baseball  0.013782\n",
      "4287    starcraft  0.013794\n",
      "4274         pics  0.015651\n",
      "4269          nba  0.016302\n",
      "4251       cringe  0.019467\n",
      "\n",
      "Random_Acts_Of_Amazon\n",
      "                        p2      dist\n",
      "3230               OkCupid  0.125816\n",
      "3209        DebateReligion  0.165858\n",
      "3254  electronic_cigarette  0.210968\n",
      "3222       MakeupAddiction  0.213246\n",
      "3246              buildapc  0.217095\n",
      "3266     malefashionadvice  0.222258\n",
      "3290             teenagers  0.236071\n",
      "3231               POLITIC  0.255226\n",
      "3229                 NoFap  0.263117\n",
      "3214               Fitness  0.267402\n",
      "\n",
      "Bitcoin\n",
      "              p2      dist\n",
      "650   conspiracy  0.009363\n",
      "661         guns  0.012334\n",
      "648       canada  0.016072\n",
      "619  Libertarian  0.017057\n",
      "649         cars  0.023274\n",
      "618         IAmA  0.024184\n",
      "667  motorcycles  0.025572\n",
      "610       Diablo  0.026800\n",
      "695        trees  0.028223\n",
      "617   Guildwars2  0.030539\n",
      "\n",
      "MensRights\n",
      "               p2      dist\n",
      "2412        Drugs  0.007117\n",
      "2428       Naruto  0.014857\n",
      "2450   conspiracy  0.020376\n",
      "2441      atheism  0.021380\n",
      "2473  photography  0.021957\n",
      "2429        NoFap  0.023259\n",
      "2453         dayz  0.023924\n",
      "2419  Libertarian  0.027707\n",
      "2425    Minecraft  0.027782\n",
      "2406      Bitcoin  0.031709\n",
      "\n"
     ]
    }
   ],
   "source": [
    "print_nearest_neighbors(pairwise_dist_df, ['apple', 'politics', 'leagueoflegends',\n",
    "                                          'AskWomen', 'Music', 'pics',\n",
    "                                          'australia', 'Random_Acts_Of_Amazon',\n",
    "                                          'Bitcoin', 'MensRights'])"
   ]
  },
  {
   "cell_type": "code",
   "execution_count": null,
   "metadata": {
    "collapsed": true
   },
   "outputs": [],
   "source": []
  },
  {
   "cell_type": "markdown",
   "metadata": {},
   "source": [
    "We can also try to interpret each dimension of the embedding -- roughly speaking the threads, features and subreddits with extremal values along one dimension could be seen as characterizing a particular \"type\" of discussion, in terms of the discussion structure."
   ]
  },
  {
   "cell_type": "code",
   "execution_count": 41,
   "metadata": {
    "collapsed": true
   },
   "outputs": [],
   "source": [
    "from IPython.display import display"
   ]
  },
  {
   "cell_type": "code",
   "execution_count": 42,
   "metadata": {
    "collapsed": true
   },
   "outputs": [],
   "source": [
    "def display_dimension(dim, ascending=True, n=5):\n",
    "    top_threads = U_df.sort_values(dim, ascending=ascending).head(n)\n",
    "    display(top_threads)\n",
    "    display(V_df.sort_values(dim, ascending=ascending).head(n))\n",
    "    display(subreddit_df.sort_values(dim, ascending=ascending).head(n))\n",
    "    return top_threads.index"
   ]
  },
  {
   "cell_type": "code",
   "execution_count": null,
   "metadata": {
    "collapsed": true
   },
   "outputs": [],
   "source": []
  },
  {
   "cell_type": "markdown",
   "metadata": {
    "collapsed": true
   },
   "source": [
    "For instance, the first latent dimension divides the space of Reddit discussions between focused dialogues involving 2 people who repeatedly interact, and \"expansionary\" threads involving multiple people who generally only engage once (as with the corresponding dimension discussed in the paper, this echoes the contrast explored in papers such as Backstrom et. al, 2013). At the subreddit level, we see a divide between subreddits that are selling things (perhaps the dialogues consist of a buyer and a seller) and large default link-sharing subreddits like AskReddit and pics."
   ]
  },
  {
   "cell_type": "code",
   "execution_count": 43,
   "metadata": {},
   "outputs": [
    {
     "data": {
      "text/html": [
       "<div>\n",
       "<style>\n",
       "    .dataframe thead tr:only-child th {\n",
       "        text-align: right;\n",
       "    }\n",
       "\n",
       "    .dataframe thead th {\n",
       "        text-align: left;\n",
       "    }\n",
       "\n",
       "    .dataframe tbody tr th {\n",
       "        vertical-align: top;\n",
       "    }\n",
       "</style>\n",
       "<table border=\"1\" class=\"dataframe\">\n",
       "  <thead>\n",
       "    <tr style=\"text-align: right;\">\n",
       "      <th></th>\n",
       "      <th>0</th>\n",
       "      <th>1</th>\n",
       "      <th>2</th>\n",
       "      <th>3</th>\n",
       "      <th>4</th>\n",
       "      <th>5</th>\n",
       "      <th>6</th>\n",
       "      <th>subreddit</th>\n",
       "    </tr>\n",
       "  </thead>\n",
       "  <tbody>\n",
       "    <tr>\n",
       "      <th>e6pf15q</th>\n",
       "      <td>-0.676623</td>\n",
       "      <td>0.513830</td>\n",
       "      <td>0.134802</td>\n",
       "      <td>0.020928</td>\n",
       "      <td>-0.177938</td>\n",
       "      <td>0.477028</td>\n",
       "      <td>0.018281</td>\n",
       "      <td>aww</td>\n",
       "    </tr>\n",
       "    <tr>\n",
       "      <th>e68jh0j</th>\n",
       "      <td>-0.673430</td>\n",
       "      <td>0.205880</td>\n",
       "      <td>-0.081717</td>\n",
       "      <td>0.263906</td>\n",
       "      <td>-0.246259</td>\n",
       "      <td>0.589432</td>\n",
       "      <td>0.140384</td>\n",
       "      <td>AdviceAnimals</td>\n",
       "    </tr>\n",
       "    <tr>\n",
       "      <th>e5sph0s</th>\n",
       "      <td>-0.670253</td>\n",
       "      <td>0.169118</td>\n",
       "      <td>-0.041635</td>\n",
       "      <td>0.072457</td>\n",
       "      <td>-0.158797</td>\n",
       "      <td>0.614932</td>\n",
       "      <td>0.334394</td>\n",
       "      <td>politics</td>\n",
       "    </tr>\n",
       "    <tr>\n",
       "      <th>e6oe9ov</th>\n",
       "      <td>-0.668205</td>\n",
       "      <td>0.221866</td>\n",
       "      <td>-0.058121</td>\n",
       "      <td>0.169387</td>\n",
       "      <td>-0.291089</td>\n",
       "      <td>0.610766</td>\n",
       "      <td>0.120169</td>\n",
       "      <td>DotA2</td>\n",
       "    </tr>\n",
       "    <tr>\n",
       "      <th>e62qyda</th>\n",
       "      <td>-0.665898</td>\n",
       "      <td>0.169078</td>\n",
       "      <td>-0.057850</td>\n",
       "      <td>0.150591</td>\n",
       "      <td>-0.193394</td>\n",
       "      <td>0.599331</td>\n",
       "      <td>0.324606</td>\n",
       "      <td>malefashionadvice</td>\n",
       "    </tr>\n",
       "    <tr>\n",
       "      <th>e5bfol4</th>\n",
       "      <td>-0.665640</td>\n",
       "      <td>0.207050</td>\n",
       "      <td>-0.087454</td>\n",
       "      <td>0.133069</td>\n",
       "      <td>-0.264442</td>\n",
       "      <td>0.595517</td>\n",
       "      <td>0.253233</td>\n",
       "      <td>hiphopheads</td>\n",
       "    </tr>\n",
       "    <tr>\n",
       "      <th>e5w7xfe</th>\n",
       "      <td>-0.665095</td>\n",
       "      <td>0.504702</td>\n",
       "      <td>0.183625</td>\n",
       "      <td>0.128926</td>\n",
       "      <td>-0.176277</td>\n",
       "      <td>0.453348</td>\n",
       "      <td>0.126435</td>\n",
       "      <td>gifs</td>\n",
       "    </tr>\n",
       "    <tr>\n",
       "      <th>e6wd02c</th>\n",
       "      <td>-0.665004</td>\n",
       "      <td>0.500952</td>\n",
       "      <td>0.167674</td>\n",
       "      <td>0.024282</td>\n",
       "      <td>-0.199629</td>\n",
       "      <td>0.456416</td>\n",
       "      <td>0.173045</td>\n",
       "      <td>programming</td>\n",
       "    </tr>\n",
       "    <tr>\n",
       "      <th>e5zrsyw</th>\n",
       "      <td>-0.664761</td>\n",
       "      <td>0.235913</td>\n",
       "      <td>-0.046376</td>\n",
       "      <td>0.192647</td>\n",
       "      <td>-0.179544</td>\n",
       "      <td>0.601323</td>\n",
       "      <td>0.263342</td>\n",
       "      <td>pics</td>\n",
       "    </tr>\n",
       "    <tr>\n",
       "      <th>e60eyqo</th>\n",
       "      <td>-0.662864</td>\n",
       "      <td>0.489703</td>\n",
       "      <td>0.145063</td>\n",
       "      <td>0.065251</td>\n",
       "      <td>-0.306050</td>\n",
       "      <td>0.449119</td>\n",
       "      <td>-0.011273</td>\n",
       "      <td>cringe</td>\n",
       "    </tr>\n",
       "  </tbody>\n",
       "</table>\n",
       "</div>"
      ],
      "text/plain": [
       "                0         1         2         3         4         5         6  \\\n",
       "e6pf15q -0.676623  0.513830  0.134802  0.020928 -0.177938  0.477028  0.018281   \n",
       "e68jh0j -0.673430  0.205880 -0.081717  0.263906 -0.246259  0.589432  0.140384   \n",
       "e5sph0s -0.670253  0.169118 -0.041635  0.072457 -0.158797  0.614932  0.334394   \n",
       "e6oe9ov -0.668205  0.221866 -0.058121  0.169387 -0.291089  0.610766  0.120169   \n",
       "e62qyda -0.665898  0.169078 -0.057850  0.150591 -0.193394  0.599331  0.324606   \n",
       "e5bfol4 -0.665640  0.207050 -0.087454  0.133069 -0.264442  0.595517  0.253233   \n",
       "e5w7xfe -0.665095  0.504702  0.183625  0.128926 -0.176277  0.453348  0.126435   \n",
       "e6wd02c -0.665004  0.500952  0.167674  0.024282 -0.199629  0.456416  0.173045   \n",
       "e5zrsyw -0.664761  0.235913 -0.046376  0.192647 -0.179544  0.601323  0.263342   \n",
       "e60eyqo -0.662864  0.489703  0.145063  0.065251 -0.306050  0.449119 -0.011273   \n",
       "\n",
       "                 subreddit  \n",
       "e6pf15q                aww  \n",
       "e68jh0j      AdviceAnimals  \n",
       "e5sph0s           politics  \n",
       "e6oe9ov              DotA2  \n",
       "e62qyda  malefashionadvice  \n",
       "e5bfol4        hiphopheads  \n",
       "e5w7xfe               gifs  \n",
       "e6wd02c        programming  \n",
       "e5zrsyw               pics  \n",
       "e60eyqo             cringe  "
      ]
     },
     "metadata": {},
     "output_type": "display_data"
    },
    {
     "data": {
      "text/html": [
       "<div>\n",
       "<style>\n",
       "    .dataframe thead tr:only-child th {\n",
       "        text-align: right;\n",
       "    }\n",
       "\n",
       "    .dataframe thead th {\n",
       "        text-align: left;\n",
       "    }\n",
       "\n",
       "    .dataframe tbody tr th {\n",
       "        vertical-align: top;\n",
       "    }\n",
       "</style>\n",
       "<table border=\"1\" class=\"dataframe\">\n",
       "  <thead>\n",
       "    <tr style=\"text-align: right;\">\n",
       "      <th></th>\n",
       "      <th>0</th>\n",
       "      <th>1</th>\n",
       "      <th>2</th>\n",
       "      <th>3</th>\n",
       "      <th>4</th>\n",
       "      <th>5</th>\n",
       "      <th>6</th>\n",
       "    </tr>\n",
       "  </thead>\n",
       "  <tbody>\n",
       "    <tr>\n",
       "      <th>entropy[outdegree over C-&gt;C responses]</th>\n",
       "      <td>-0.837425</td>\n",
       "      <td>-0.310025</td>\n",
       "      <td>-0.068734</td>\n",
       "      <td>0.294584</td>\n",
       "      <td>-0.061573</td>\n",
       "      <td>-8.786380e-16</td>\n",
       "      <td>0.327581</td>\n",
       "    </tr>\n",
       "    <tr>\n",
       "      <th>entropy[outdegree over C-&gt;c responses]</th>\n",
       "      <td>-0.837352</td>\n",
       "      <td>-0.310132</td>\n",
       "      <td>-0.068769</td>\n",
       "      <td>0.294664</td>\n",
       "      <td>-0.061841</td>\n",
       "      <td>8.786028e-17</td>\n",
       "      <td>0.327537</td>\n",
       "    </tr>\n",
       "    <tr>\n",
       "      <th>is-present[incoming triads]</th>\n",
       "      <td>-0.680980</td>\n",
       "      <td>-0.547112</td>\n",
       "      <td>-0.298469</td>\n",
       "      <td>-0.299941</td>\n",
       "      <td>0.163346</td>\n",
       "      <td>7.699022e-16</td>\n",
       "      <td>-0.176648</td>\n",
       "    </tr>\n",
       "    <tr>\n",
       "      <th>norm.max[indegree over C-&gt;c responses]</th>\n",
       "      <td>-0.566327</td>\n",
       "      <td>0.670571</td>\n",
       "      <td>-0.016447</td>\n",
       "      <td>-0.303844</td>\n",
       "      <td>-0.230775</td>\n",
       "      <td>5.261588e-16</td>\n",
       "      <td>0.289414</td>\n",
       "    </tr>\n",
       "    <tr>\n",
       "      <th>max[indegree over c-&gt;c responses]</th>\n",
       "      <td>-0.566327</td>\n",
       "      <td>0.670571</td>\n",
       "      <td>-0.016447</td>\n",
       "      <td>-0.303844</td>\n",
       "      <td>-0.230775</td>\n",
       "      <td>2.254966e-16</td>\n",
       "      <td>0.289414</td>\n",
       "    </tr>\n",
       "    <tr>\n",
       "      <th>max[indegree over C-&gt;c responses]</th>\n",
       "      <td>-0.566327</td>\n",
       "      <td>0.670571</td>\n",
       "      <td>-0.016447</td>\n",
       "      <td>-0.303844</td>\n",
       "      <td>-0.230775</td>\n",
       "      <td>2.254966e-16</td>\n",
       "      <td>0.289414</td>\n",
       "    </tr>\n",
       "    <tr>\n",
       "      <th>norm.max[indegree over c-&gt;c responses]</th>\n",
       "      <td>-0.566327</td>\n",
       "      <td>0.670571</td>\n",
       "      <td>-0.016447</td>\n",
       "      <td>-0.303844</td>\n",
       "      <td>-0.230775</td>\n",
       "      <td>7.516555e-17</td>\n",
       "      <td>0.289414</td>\n",
       "    </tr>\n",
       "    <tr>\n",
       "      <th>count[incoming triads]</th>\n",
       "      <td>-0.518919</td>\n",
       "      <td>0.545870</td>\n",
       "      <td>-0.013800</td>\n",
       "      <td>-0.641926</td>\n",
       "      <td>-0.097235</td>\n",
       "      <td>7.782133e-16</td>\n",
       "      <td>-0.105046</td>\n",
       "    </tr>\n",
       "    <tr>\n",
       "      <th>is-present[external reciprocity motif]</th>\n",
       "      <td>-0.497952</td>\n",
       "      <td>-0.805894</td>\n",
       "      <td>0.151832</td>\n",
       "      <td>0.107318</td>\n",
       "      <td>-0.228744</td>\n",
       "      <td>1.939942e-15</td>\n",
       "      <td>0.125237</td>\n",
       "    </tr>\n",
       "    <tr>\n",
       "      <th>argmax[outdegree over C-&gt;c responses]</th>\n",
       "      <td>-0.435357</td>\n",
       "      <td>-0.340004</td>\n",
       "      <td>-0.212094</td>\n",
       "      <td>0.793083</td>\n",
       "      <td>0.000368</td>\n",
       "      <td>-8.859015e-15</td>\n",
       "      <td>-0.144557</td>\n",
       "    </tr>\n",
       "  </tbody>\n",
       "</table>\n",
       "</div>"
      ],
      "text/plain": [
       "                                               0         1         2  \\\n",
       "entropy[outdegree over C->C responses] -0.837425 -0.310025 -0.068734   \n",
       "entropy[outdegree over C->c responses] -0.837352 -0.310132 -0.068769   \n",
       "is-present[incoming triads]            -0.680980 -0.547112 -0.298469   \n",
       "norm.max[indegree over C->c responses] -0.566327  0.670571 -0.016447   \n",
       "max[indegree over c->c responses]      -0.566327  0.670571 -0.016447   \n",
       "max[indegree over C->c responses]      -0.566327  0.670571 -0.016447   \n",
       "norm.max[indegree over c->c responses] -0.566327  0.670571 -0.016447   \n",
       "count[incoming triads]                 -0.518919  0.545870 -0.013800   \n",
       "is-present[external reciprocity motif] -0.497952 -0.805894  0.151832   \n",
       "argmax[outdegree over C->c responses]  -0.435357 -0.340004 -0.212094   \n",
       "\n",
       "                                               3         4             5  \\\n",
       "entropy[outdegree over C->C responses]  0.294584 -0.061573 -8.786380e-16   \n",
       "entropy[outdegree over C->c responses]  0.294664 -0.061841  8.786028e-17   \n",
       "is-present[incoming triads]            -0.299941  0.163346  7.699022e-16   \n",
       "norm.max[indegree over C->c responses] -0.303844 -0.230775  5.261588e-16   \n",
       "max[indegree over c->c responses]      -0.303844 -0.230775  2.254966e-16   \n",
       "max[indegree over C->c responses]      -0.303844 -0.230775  2.254966e-16   \n",
       "norm.max[indegree over c->c responses] -0.303844 -0.230775  7.516555e-17   \n",
       "count[incoming triads]                 -0.641926 -0.097235  7.782133e-16   \n",
       "is-present[external reciprocity motif]  0.107318 -0.228744  1.939942e-15   \n",
       "argmax[outdegree over C->c responses]   0.793083  0.000368 -8.859015e-15   \n",
       "\n",
       "                                               6  \n",
       "entropy[outdegree over C->C responses]  0.327581  \n",
       "entropy[outdegree over C->c responses]  0.327537  \n",
       "is-present[incoming triads]            -0.176648  \n",
       "norm.max[indegree over C->c responses]  0.289414  \n",
       "max[indegree over c->c responses]       0.289414  \n",
       "max[indegree over C->c responses]       0.289414  \n",
       "norm.max[indegree over c->c responses]  0.289414  \n",
       "count[incoming triads]                 -0.105046  \n",
       "is-present[external reciprocity motif]  0.125237  \n",
       "argmax[outdegree over C->c responses]  -0.144557  "
      ]
     },
     "metadata": {},
     "output_type": "display_data"
    },
    {
     "data": {
      "text/html": [
       "<div>\n",
       "<style>\n",
       "    .dataframe thead tr:only-child th {\n",
       "        text-align: right;\n",
       "    }\n",
       "\n",
       "    .dataframe thead th {\n",
       "        text-align: left;\n",
       "    }\n",
       "\n",
       "    .dataframe tbody tr th {\n",
       "        vertical-align: top;\n",
       "    }\n",
       "</style>\n",
       "<table border=\"1\" class=\"dataframe\">\n",
       "  <thead>\n",
       "    <tr style=\"text-align: right;\">\n",
       "      <th></th>\n",
       "      <th>0</th>\n",
       "      <th>1</th>\n",
       "      <th>2</th>\n",
       "      <th>3</th>\n",
       "      <th>4</th>\n",
       "      <th>5</th>\n",
       "      <th>6</th>\n",
       "    </tr>\n",
       "    <tr>\n",
       "      <th>subreddit</th>\n",
       "      <th></th>\n",
       "      <th></th>\n",
       "      <th></th>\n",
       "      <th></th>\n",
       "      <th></th>\n",
       "      <th></th>\n",
       "      <th></th>\n",
       "    </tr>\n",
       "  </thead>\n",
       "  <tbody>\n",
       "    <tr>\n",
       "      <th>aww</th>\n",
       "      <td>-0.436198</td>\n",
       "      <td>-0.186731</td>\n",
       "      <td>0.151108</td>\n",
       "      <td>0.221554</td>\n",
       "      <td>-0.041266</td>\n",
       "      <td>0.835250</td>\n",
       "      <td>0.059975</td>\n",
       "    </tr>\n",
       "    <tr>\n",
       "      <th>gifs</th>\n",
       "      <td>-0.435152</td>\n",
       "      <td>-0.145047</td>\n",
       "      <td>0.105541</td>\n",
       "      <td>0.148374</td>\n",
       "      <td>-0.063803</td>\n",
       "      <td>0.854395</td>\n",
       "      <td>0.149630</td>\n",
       "    </tr>\n",
       "    <tr>\n",
       "      <th>WTF</th>\n",
       "      <td>-0.410492</td>\n",
       "      <td>-0.201358</td>\n",
       "      <td>0.006283</td>\n",
       "      <td>0.308857</td>\n",
       "      <td>-0.016694</td>\n",
       "      <td>0.826694</td>\n",
       "      <td>0.108703</td>\n",
       "    </tr>\n",
       "    <tr>\n",
       "      <th>MovieDetails</th>\n",
       "      <td>-0.410025</td>\n",
       "      <td>-0.238155</td>\n",
       "      <td>0.083465</td>\n",
       "      <td>0.166898</td>\n",
       "      <td>-0.117559</td>\n",
       "      <td>0.836015</td>\n",
       "      <td>0.166133</td>\n",
       "    </tr>\n",
       "    <tr>\n",
       "      <th>CFB</th>\n",
       "      <td>-0.406583</td>\n",
       "      <td>0.136184</td>\n",
       "      <td>-0.122507</td>\n",
       "      <td>0.023378</td>\n",
       "      <td>-0.084056</td>\n",
       "      <td>0.890159</td>\n",
       "      <td>0.033780</td>\n",
       "    </tr>\n",
       "    <tr>\n",
       "      <th>Games</th>\n",
       "      <td>-0.393687</td>\n",
       "      <td>-0.089679</td>\n",
       "      <td>0.034024</td>\n",
       "      <td>0.201206</td>\n",
       "      <td>-0.059803</td>\n",
       "      <td>0.888856</td>\n",
       "      <td>0.041060</td>\n",
       "    </tr>\n",
       "    <tr>\n",
       "      <th>todayilearned</th>\n",
       "      <td>-0.371113</td>\n",
       "      <td>-0.188680</td>\n",
       "      <td>0.021057</td>\n",
       "      <td>0.204484</td>\n",
       "      <td>-0.023254</td>\n",
       "      <td>0.880784</td>\n",
       "      <td>0.089979</td>\n",
       "    </tr>\n",
       "    <tr>\n",
       "      <th>books</th>\n",
       "      <td>-0.356163</td>\n",
       "      <td>0.163736</td>\n",
       "      <td>-0.117505</td>\n",
       "      <td>0.010360</td>\n",
       "      <td>-0.127874</td>\n",
       "      <td>0.881824</td>\n",
       "      <td>-0.196109</td>\n",
       "    </tr>\n",
       "    <tr>\n",
       "      <th>videos</th>\n",
       "      <td>-0.350594</td>\n",
       "      <td>-0.197875</td>\n",
       "      <td>-0.043432</td>\n",
       "      <td>0.205159</td>\n",
       "      <td>-0.007386</td>\n",
       "      <td>0.887549</td>\n",
       "      <td>0.078452</td>\n",
       "    </tr>\n",
       "    <tr>\n",
       "      <th>funny</th>\n",
       "      <td>-0.347133</td>\n",
       "      <td>-0.150150</td>\n",
       "      <td>0.064945</td>\n",
       "      <td>0.171325</td>\n",
       "      <td>-0.068125</td>\n",
       "      <td>0.904766</td>\n",
       "      <td>0.011902</td>\n",
       "    </tr>\n",
       "  </tbody>\n",
       "</table>\n",
       "</div>"
      ],
      "text/plain": [
       "                      0         1         2         3         4         5  \\\n",
       "subreddit                                                                   \n",
       "aww           -0.436198 -0.186731  0.151108  0.221554 -0.041266  0.835250   \n",
       "gifs          -0.435152 -0.145047  0.105541  0.148374 -0.063803  0.854395   \n",
       "WTF           -0.410492 -0.201358  0.006283  0.308857 -0.016694  0.826694   \n",
       "MovieDetails  -0.410025 -0.238155  0.083465  0.166898 -0.117559  0.836015   \n",
       "CFB           -0.406583  0.136184 -0.122507  0.023378 -0.084056  0.890159   \n",
       "Games         -0.393687 -0.089679  0.034024  0.201206 -0.059803  0.888856   \n",
       "todayilearned -0.371113 -0.188680  0.021057  0.204484 -0.023254  0.880784   \n",
       "books         -0.356163  0.163736 -0.117505  0.010360 -0.127874  0.881824   \n",
       "videos        -0.350594 -0.197875 -0.043432  0.205159 -0.007386  0.887549   \n",
       "funny         -0.347133 -0.150150  0.064945  0.171325 -0.068125  0.904766   \n",
       "\n",
       "                      6  \n",
       "subreddit                \n",
       "aww            0.059975  \n",
       "gifs           0.149630  \n",
       "WTF            0.108703  \n",
       "MovieDetails   0.166133  \n",
       "CFB            0.033780  \n",
       "Games          0.041060  \n",
       "todayilearned  0.089979  \n",
       "books         -0.196109  \n",
       "videos         0.078452  \n",
       "funny          0.011902  "
      ]
     },
     "metadata": {},
     "output_type": "display_data"
    }
   ],
   "source": [
    "top_threads = display_dimension(0, n=10)"
   ]
  },
  {
   "cell_type": "code",
   "execution_count": null,
   "metadata": {
    "collapsed": true
   },
   "outputs": [],
   "source": []
  }
 ],
 "metadata": {
  "kernelspec": {
   "display_name": "Python 3",
   "language": "python",
   "name": "python3"
  },
  "language_info": {
   "codemirror_mode": {
    "name": "ipython",
    "version": 3
   },
   "file_extension": ".py",
   "mimetype": "text/x-python",
   "name": "python",
   "nbconvert_exporter": "python",
   "pygments_lexer": "ipython3",
   "version": "3.6.3"
  }
 },
 "nbformat": 4,
 "nbformat_minor": 2
}
