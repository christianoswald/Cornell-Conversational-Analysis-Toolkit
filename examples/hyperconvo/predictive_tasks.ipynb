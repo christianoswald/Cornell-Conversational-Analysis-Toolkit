{
 "cells": [
  {
   "cell_type": "markdown",
   "metadata": {},
   "source": [
    "We can use Hypergraph features for various predictive tasks:"
   ]
  },
  {
   "cell_type": "code",
   "execution_count": 2,
   "metadata": {},
   "outputs": [],
   "source": [
    "import convokit\n",
    "from convokit import Corpus, HyperConvo\n",
    "import pickle"
   ]
  },
  {
   "cell_type": "code",
   "execution_count": 3,
   "metadata": {},
   "outputs": [
    {
     "name": "stdout",
     "output_type": "stream",
     "text": [
      "Dataset already exists at /Users/calebchiam/Documents/GitHub/Cornell-Conversational-Analysis-Toolkit/convokit/tensors/reddit-corpus-small\n"
     ]
    }
   ],
   "source": [
    "corpus = Corpus(filename=convokit.download(\"reddit-corpus-small\"))"
   ]
  },
  {
   "cell_type": "code",
   "execution_count": 4,
   "metadata": {},
   "outputs": [],
   "source": [
    "top_level_utterance_ids = [utt.id for utt in corpus.iter_utterances() if utt.id == utt.meta['top_level_comment']]"
   ]
  },
  {
   "cell_type": "code",
   "execution_count": 5,
   "metadata": {},
   "outputs": [
    {
     "data": {
      "text/plain": [
       "10000"
      ]
     },
     "execution_count": 5,
     "metadata": {},
     "output_type": "execute_result"
    }
   ],
   "source": [
    "len(top_level_utterance_ids)"
   ]
  },
  {
   "cell_type": "code",
   "execution_count": 6,
   "metadata": {},
   "outputs": [],
   "source": [
    "threads_corpus = corpus.reindex_conversations(new_convo_roots=top_level_utterance_ids, \n",
    "                                              preserve_convo_meta=True,\n",
    "                                              preserve_corpus_meta=False)"
   ]
  },
  {
   "cell_type": "markdown",
   "metadata": {},
   "source": [
    "### Annotating dataset with predictive features: hyperconvo, volume, BoW, reply-tree"
   ]
  },
  {
   "cell_type": "code",
   "execution_count": 7,
   "metadata": {},
   "outputs": [],
   "source": [
    "## annotating\n",
    "hc = convokit.HyperConvo(prefix_len=10, min_thread_len=10, invalid_val=-1)\n",
    "hc.fit_transform(threads_corpus)\n",
    "feats = threads_corpus.random_conversation().meta[\"hyperconvo\"]"
   ]
  },
  {
   "cell_type": "code",
   "execution_count": 8,
   "metadata": {},
   "outputs": [
    {
     "data": {
      "text/plain": [
       "['max[indegree over c->c responses]',\n",
       " 'argmax[indegree over c->c responses]',\n",
       " 'norm.max[indegree over c->c responses]']"
      ]
     },
     "execution_count": 8,
     "metadata": {},
     "output_type": "execute_result"
    }
   ],
   "source": [
    "list(feats.keys())[:3]"
   ]
  },
  {
   "cell_type": "code",
   "execution_count": 9,
   "metadata": {},
   "outputs": [],
   "source": [
    "## volume is the number of unique users in the first 10 comments\n",
    "for convo in threads_corpus.iter_conversations():\n",
    "    convo.meta['volume'] = len(set([utt.user for utt in convo.get_chronological_utterance_list()[:10]]))"
   ]
  },
  {
   "cell_type": "code",
   "execution_count": 10,
   "metadata": {},
   "outputs": [],
   "source": [
    "## reply-tree features (subset of hyperconvo features related to comment-to-comment features)\n",
    "for convo in threads_corpus.iter_conversations():\n",
    "    reply_tree_feats = {k: v for k, v in convo.meta['hyperconvo'].items() if \"c->c\" in k}\n",
    "    convo.meta['reply-tree'] = reply_tree_feats"
   ]
  },
  {
   "cell_type": "markdown",
   "metadata": {},
   "source": [
    "### Adding the predictive labels to the dataset"
   ]
  },
  {
   "cell_type": "code",
   "execution_count": 11,
   "metadata": {},
   "outputs": [],
   "source": [
    "for convo in threads_corpus.iter_conversations():\n",
    "    convo.meta['comment-growth'] = len(list(convo.iter_utterances())) >= 15\n",
    "    \n",
    "    convo_utts = convo.get_chronological_utterance_list()\n",
    "    if len(convo_utts) >= 20:\n",
    "        first_10_spkrs = len(set([utt.speaker.id for utt in convo_utts[:10]]))\n",
    "        first_20_spkrs = len(set([utt.speaker.id for utt in convo_utts[:20]]))\n",
    "        convo.meta['commenter-growth'] = (first_20_spkrs / first_10_spkrs) >= 2.0\n",
    "    else:\n",
    "        convo.meta['commenter-growth'] = None"
   ]
  },
  {
   "cell_type": "code",
   "execution_count": 13,
   "metadata": {},
   "outputs": [],
   "source": [
    "from convokit import Classifier, Pairer"
   ]
  },
  {
   "cell_type": "code",
   "execution_count": 14,
   "metadata": {},
   "outputs": [],
   "source": [
    "pairer_1 = Pairer(obj_type=\"conversation\", \n",
    "                pairing_func=lambda convo: convo.meta['original_convo_id'],\n",
    "                pos_label_func=lambda convo: convo.meta['comment-growth'],\n",
    "                neg_label_func=lambda convo: not convo.meta['comment-growth'],\n",
    "                pair_id_feat_name=\"pair_id_1\",\n",
    "                label_feat_name=\"pair_obj_1\",\n",
    "                pair_orientation_feat_name=\"pair_orientation_1\"\n",
    "               )"
   ]
  },
  {
   "cell_type": "code",
   "execution_count": 15,
   "metadata": {},
   "outputs": [
    {
     "data": {
      "text/plain": [
       "<convokit.model.corpus.Corpus at 0x139e275d0>"
      ]
     },
     "execution_count": 15,
     "metadata": {},
     "output_type": "execute_result"
    }
   ],
   "source": [
    "pairer_1.transform(threads_corpus)"
   ]
  },
  {
   "cell_type": "code",
   "execution_count": 16,
   "metadata": {},
   "outputs": [],
   "source": [
    "pairer_2 = Pairer(obj_type=\"conversation\", \n",
    "                pairing_func=lambda convo: convo.meta['original_convo_id'],\n",
    "                pos_label_func=lambda convo: convo.meta['commenter-growth'],\n",
    "                neg_label_func=lambda convo: not convo.meta['commenter-growth'],\n",
    "                pair_id_feat_name=\"pair_id_2\",\n",
    "                label_feat_name=\"pair_obj_2\",\n",
    "                pair_orientation_feat_name=\"pair_orientation_2\"\n",
    "               )"
   ]
  },
  {
   "cell_type": "code",
   "execution_count": 17,
   "metadata": {},
   "outputs": [
    {
     "data": {
      "text/plain": [
       "<convokit.model.corpus.Corpus at 0x139e275d0>"
      ]
     },
     "execution_count": 17,
     "metadata": {},
     "output_type": "execute_result"
    }
   ],
   "source": [
    "pairer_2.transform(threads_corpus)"
   ]
  },
  {
   "cell_type": "markdown",
   "metadata": {},
   "source": [
    "### Adding BoW vectors -- only on paired convos"
   ]
  },
  {
   "cell_type": "code",
   "execution_count": 26,
   "metadata": {},
   "outputs": [],
   "source": [
    "from convokit import BoWTransformer"
   ]
  },
  {
   "cell_type": "code",
   "execution_count": null,
   "metadata": {},
   "outputs": [],
   "source": []
  },
  {
   "cell_type": "code",
   "execution_count": 29,
   "metadata": {},
   "outputs": [
    {
     "name": "stdout",
     "output_type": "stream",
     "text": [
      "Initializing default unigram CountVectorizer...\n"
     ]
    }
   ],
   "source": [
    "bow = BoWTransformer(obj_type=\"conversation\", \n",
    "                     text_func=lambda convo: ' '.join([utt.text for utt in convo.get_chronological_utterance_list()[:10]]),\n",
    "                     vector_name=\"bow_1\"\n",
    "                    )"
   ]
  },
  {
   "cell_type": "code",
   "execution_count": 30,
   "metadata": {},
   "outputs": [
    {
     "data": {
      "text/plain": [
       "<convokit.model.corpus.Corpus at 0x139e275d0>"
      ]
     },
     "execution_count": 30,
     "metadata": {},
     "output_type": "execute_result"
    }
   ],
   "source": [
    "bow.fit_transform(threads_corpus, selector=lambda convo: convo.meta['pair_id_1'] is not None)"
   ]
  },
  {
   "cell_type": "code",
   "execution_count": 31,
   "metadata": {},
   "outputs": [
    {
     "name": "stdout",
     "output_type": "stream",
     "text": [
      "Initializing default unigram CountVectorizer...\n"
     ]
    }
   ],
   "source": [
    "bow = BoWTransformer(obj_type=\"conversation\", \n",
    "                     text_func=lambda convo: ' '.join([utt.text for utt in convo.get_chronological_utterance_list()[:10]]),\n",
    "                     vector_name=\"bow_2\"\n",
    "                    )"
   ]
  },
  {
   "cell_type": "code",
   "execution_count": 32,
   "metadata": {},
   "outputs": [
    {
     "data": {
      "text/plain": [
       "<convokit.model.corpus.Corpus at 0x139e275d0>"
      ]
     },
     "execution_count": 32,
     "metadata": {},
     "output_type": "execute_result"
    }
   ],
   "source": [
    "bow.fit_transform(threads_corpus, selector=lambda convo: convo.meta['pair_id_2'] is not None)"
   ]
  },
  {
   "cell_type": "code",
   "execution_count": 34,
   "metadata": {},
   "outputs": [],
   "source": [
    "from convokit import PairedPrediction, PairedBoW"
   ]
  },
  {
   "cell_type": "markdown",
   "metadata": {},
   "source": [
    "## Comment-growth cross-validated scores for different feature sets: hyperconvo, volume, reply-tree, BoW"
   ]
  },
  {
   "cell_type": "code",
   "execution_count": 19,
   "metadata": {},
   "outputs": [
    {
     "name": "stdout",
     "output_type": "stream",
     "text": [
      "Found 549 valid pairs.\n"
     ]
    },
    {
     "data": {
      "text/plain": [
       "0.5846994535519126"
      ]
     },
     "execution_count": 19,
     "metadata": {},
     "output_type": "execute_result"
    }
   ],
   "source": [
    "pp = PairedPrediction(obj_type=\"conversation\",\n",
    "                      pred_feats=[\"hyperconvo\"],\n",
    "                      pair_id_feat_name=\"pair_id_1\",\n",
    "                      label_feat_name=\"pair_obj_1\",\n",
    "                      pair_orientation_feat_name=\"pair_orientation_1\"\n",
    "                     )\n",
    "pp.summarize(threads_corpus)"
   ]
  },
  {
   "cell_type": "code",
   "execution_count": 20,
   "metadata": {},
   "outputs": [
    {
     "name": "stdout",
     "output_type": "stream",
     "text": [
      "Found 549 valid pairs.\n"
     ]
    },
    {
     "data": {
      "text/plain": [
       "0.517304189435337"
      ]
     },
     "execution_count": 20,
     "metadata": {},
     "output_type": "execute_result"
    }
   ],
   "source": [
    "pp = PairedPrediction(obj_type=\"conversation\",\n",
    "                      pred_feats=[\"volume\"],\n",
    "                      pair_id_feat_name=\"pair_id_1\",\n",
    "                      label_feat_name=\"pair_obj_1\",\n",
    "                      pair_orientation_feat_name=\"pair_orientation_1\"\n",
    "                     )\n",
    "pp.summarize(threads_corpus)"
   ]
  },
  {
   "cell_type": "code",
   "execution_count": 21,
   "metadata": {},
   "outputs": [
    {
     "name": "stdout",
     "output_type": "stream",
     "text": [
      "Found 549 valid pairs.\n"
     ]
    },
    {
     "data": {
      "text/plain": [
       "0.6120218579234973"
      ]
     },
     "execution_count": 21,
     "metadata": {},
     "output_type": "execute_result"
    }
   ],
   "source": [
    "pp = PairedPrediction(obj_type=\"conversation\",\n",
    "                      pred_feats=[\"reply-tree\"],\n",
    "                      pair_id_feat_name=\"pair_id_1\",\n",
    "                      label_feat_name=\"pair_obj_1\",\n",
    "                      pair_orientation_feat_name=\"pair_orientation_1\"\n",
    "                     )\n",
    "pp.summarize(threads_corpus)"
   ]
  },
  {
   "cell_type": "code",
   "execution_count": 36,
   "metadata": {},
   "outputs": [],
   "source": [
    "p_bow = PairedBoW(obj_type=\"conversation\",\n",
    "                  vector_name=\"bow_1\",\n",
    "                  pair_id_feat_name=\"pair_id_1\",\n",
    "                  label_feat_name=\"pair_obj_1\",\n",
    "                  pair_orientation_feat_name=\"pair_orientation_1\"\n",
    "                 )"
   ]
  },
  {
   "cell_type": "code",
   "execution_count": 37,
   "metadata": {},
   "outputs": [
    {
     "name": "stdout",
     "output_type": "stream",
     "text": [
      "Found 549 valid pairs.\n"
     ]
    },
    {
     "data": {
      "text/plain": [
       "0.5264116575591985"
      ]
     },
     "execution_count": 37,
     "metadata": {},
     "output_type": "execute_result"
    }
   ],
   "source": [
    "p_bow.summarize(threads_corpus)"
   ]
  },
  {
   "cell_type": "markdown",
   "metadata": {},
   "source": [
    "## Commenter-growth cross-validated scores for different feature sets: hyperconvo, volume, reply-tree, BoW"
   ]
  },
  {
   "cell_type": "code",
   "execution_count": 22,
   "metadata": {},
   "outputs": [
    {
     "name": "stdout",
     "output_type": "stream",
     "text": [
      "Found 306 valid pairs.\n"
     ]
    },
    {
     "data": {
      "text/plain": [
       "0.5980392156862745"
      ]
     },
     "execution_count": 22,
     "metadata": {},
     "output_type": "execute_result"
    }
   ],
   "source": [
    "pp = PairedPrediction(obj_type=\"conversation\",\n",
    "                      pred_feats=[\"hyperconvo\"],\n",
    "                      pair_id_feat_name=\"pair_id_2\",\n",
    "                      label_feat_name=\"pair_obj_2\",\n",
    "                      pair_orientation_feat_name=\"pair_orientation_2\"\n",
    "                     )\n",
    "pp.summarize(threads_corpus)"
   ]
  },
  {
   "cell_type": "code",
   "execution_count": 23,
   "metadata": {},
   "outputs": [
    {
     "name": "stdout",
     "output_type": "stream",
     "text": [
      "Found 306 valid pairs.\n"
     ]
    },
    {
     "data": {
      "text/plain": [
       "0.5915032679738562"
      ]
     },
     "execution_count": 23,
     "metadata": {},
     "output_type": "execute_result"
    }
   ],
   "source": [
    "pp = PairedPrediction(obj_type=\"conversation\",\n",
    "                      pred_feats=[\"volume\"],\n",
    "                      pair_id_feat_name=\"pair_id_2\",\n",
    "                      label_feat_name=\"pair_obj_2\",\n",
    "                      pair_orientation_feat_name=\"pair_orientation_2\"\n",
    "                     )\n",
    "pp.summarize(threads_corpus)"
   ]
  },
  {
   "cell_type": "code",
   "execution_count": 24,
   "metadata": {},
   "outputs": [
    {
     "name": "stdout",
     "output_type": "stream",
     "text": [
      "Found 306 valid pairs.\n"
     ]
    },
    {
     "data": {
      "text/plain": [
       "0.49673202614379086"
      ]
     },
     "execution_count": 24,
     "metadata": {},
     "output_type": "execute_result"
    }
   ],
   "source": [
    "pp = PairedPrediction(obj_type=\"conversation\",\n",
    "                      pred_feats=[\"reply-tree\"],\n",
    "                      pair_id_feat_name=\"pair_id_2\",\n",
    "                      label_feat_name=\"pair_obj_2\",\n",
    "                      pair_orientation_feat_name=\"pair_orientation_2\"\n",
    "                     )\n",
    "pp.summarize(threads_corpus)"
   ]
  },
  {
   "cell_type": "code",
   "execution_count": 38,
   "metadata": {},
   "outputs": [],
   "source": [
    "p_bow = PairedBoW(obj_type=\"conversation\",\n",
    "                  vector_name=\"bow_2\",\n",
    "                  pair_id_feat_name=\"pair_id_2\",\n",
    "                  label_feat_name=\"pair_obj_2\",\n",
    "                  pair_orientation_feat_name=\"pair_orientation_2\"\n",
    "                 )"
   ]
  },
  {
   "cell_type": "code",
   "execution_count": 39,
   "metadata": {},
   "outputs": [
    {
     "name": "stdout",
     "output_type": "stream",
     "text": [
      "Found 306 valid pairs.\n"
     ]
    },
    {
     "data": {
      "text/plain": [
       "0.5261437908496732"
      ]
     },
     "execution_count": 39,
     "metadata": {},
     "output_type": "execute_result"
    }
   ],
   "source": [
    "p_bow.summarize(threads_corpus)"
   ]
  },
  {
   "cell_type": "code",
   "execution_count": null,
   "metadata": {},
   "outputs": [],
   "source": []
  },
  {
   "cell_type": "code",
   "execution_count": null,
   "metadata": {},
   "outputs": [],
   "source": []
  }
 ],
 "metadata": {
  "kernelspec": {
   "display_name": "Python 3",
   "language": "python",
   "name": "python3"
  },
  "language_info": {
   "codemirror_mode": {
    "name": "ipython",
    "version": 3
   },
   "file_extension": ".py",
   "mimetype": "text/x-python",
   "name": "python",
   "nbconvert_exporter": "python",
   "pygments_lexer": "ipython3",
   "version": "3.7.6"
  }
 },
 "nbformat": 4,
 "nbformat_minor": 2
}
