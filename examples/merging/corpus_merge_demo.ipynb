{
 "cells": [
  {
   "cell_type": "code",
   "execution_count": 1,
   "metadata": {},
   "outputs": [],
   "source": [
    "# import os\n",
    "# os.chdir('../..')"
   ]
  },
  {
   "cell_type": "code",
   "execution_count": 2,
   "metadata": {},
   "outputs": [
    {
     "name": "stderr",
     "output_type": "stream",
     "text": [
      "/Library/Frameworks/Python.framework/Versions/3.7/lib/python3.7/site-packages/sklearn/externals/joblib/__init__.py:15: DeprecationWarning: sklearn.externals.joblib is deprecated in 0.21 and will be removed in 0.23. Please import this functionality directly from joblib, which can be installed with: pip install joblib. If this warning is raised when loading pickled models, you may need to re-serialize those models with scikit-learn 0.21+.\n",
      "  warnings.warn(msg, category=DeprecationWarning)\n"
     ]
    }
   ],
   "source": [
    "from convokit import Corpus, Utterance, User\n"
   ]
  },
  {
   "cell_type": "markdown",
   "metadata": {},
   "source": [
    "## Merging two corpora"
   ]
  },
  {
   "cell_type": "markdown",
   "metadata": {},
   "source": [
    "Let's take a look at the characteristics of our input corpora before the merge. Apart from the summary statistics, notice that User 'foxtrot' appears in both corpora. Moreover, it has User metadata that is inconsistent.\n",
    "\n",
    "The root field in each Utterance indicates where a new Conversation begins. In this case, while there are 2 conversations in each corpus, 1 conversation (with root 2) is featured in both corpuses, so there are only 3 conversations in total."
   ]
  },
  {
   "cell_type": "markdown",
   "metadata": {},
   "source": [
    "### Corpus 1"
   ]
  },
  {
   "cell_type": "code",
   "execution_count": 4,
   "metadata": {},
   "outputs": [],
   "source": [
    "corpus1 = Corpus(utterances = [\n",
    "            Utterance(id=\"0\", root=\"0\", text=\"hello world\", user=User(name=\"alice\")),\n",
    "            Utterance(id=\"1\", root=\"0\", reply_to=0, text=\"my name is bob\", user=User(name=\"bob\")),\n",
    "            Utterance(id=\"2\", root=\"2\", text=\"this is a sentence\", user=User(name=\"foxtrot\", meta={\"yellow\": \"food\"})),\n",
    "        ])"
   ]
  },
  {
   "cell_type": "code",
   "execution_count": 24,
   "metadata": {},
   "outputs": [
    {
     "name": "stdout",
     "output_type": "stream",
     "text": [
      "Number of Users: 3\n",
      "Number of Utterances: 3\n",
      "Number of Conversations: 2\n"
     ]
    }
   ],
   "source": [
    "corpus1.print_summary_stats()"
   ]
  },
  {
   "cell_type": "markdown",
   "metadata": {},
   "source": [
    "### Corpus 2"
   ]
  },
  {
   "cell_type": "code",
   "execution_count": 6,
   "metadata": {},
   "outputs": [],
   "source": [
    "corpus2 = Corpus(utterances = [\n",
    "            Utterance(id=\"3\", root=\"3\", text=\"i like pie\", user=User(name=\"charlie\", meta={\"what\": \"a mood\", \"hey\": \"food\"})),\n",
    "            Utterance(id='4', root='3', reply_to=3, text=\"sentence galore\", user=User(name=\"echo\")),\n",
    "            Utterance(id='2', root='2', text=\"this is a sentence\", user=User(name=\"foxtrot\", meta={\"yellow\": \"mood\", \"hello\": \"world\"})),\n",
    "        ])"
   ]
  },
  {
   "cell_type": "code",
   "execution_count": 25,
   "metadata": {},
   "outputs": [
    {
     "name": "stdout",
     "output_type": "stream",
     "text": [
      "Number of Users: 3\n",
      "Number of Utterances: 3\n",
      "Number of Conversations: 2\n"
     ]
    }
   ],
   "source": [
    "corpus2.print_summary_stats()"
   ]
  },
  {
   "cell_type": "markdown",
   "metadata": {},
   "source": [
    "Let's attempt a merge:"
   ]
  },
  {
   "cell_type": "code",
   "execution_count": 8,
   "metadata": {},
   "outputs": [
    {
     "name": "stdout",
     "output_type": "stream",
     "text": [
      "\u001b[91mWARNING: \u001b[0mMultiple values found for User('id': foxtrot, 'meta': {'yellow': 'food'}) for metadata key: 'yellow'. Taking the latest one found\n"
     ]
    }
   ],
   "source": [
    "corpus3 = corpus1.merge(corpus2)"
   ]
  },
  {
   "cell_type": "code",
   "execution_count": 26,
   "metadata": {},
   "outputs": [
    {
     "name": "stdout",
     "output_type": "stream",
     "text": [
      "Number of Users: 5\n",
      "Number of Utterances: 5\n",
      "Number of Conversations: 3\n"
     ]
    }
   ],
   "source": [
    "corpus3.print_summary_stats()"
   ]
  },
  {
   "cell_type": "markdown",
   "metadata": {},
   "source": [
    "### Merging user metadata"
   ]
  },
  {
   "cell_type": "markdown",
   "metadata": {},
   "source": [
    "Notice that because User 'foxtrot' had conflicting metadata, the latest utterance (i.e. the utterance in corpus2) had its User metadata for 'foxtrot' take precedence. We verify this below. Note too that the other metadata key-value pair ('hello': 'world') has been added to the metadata as well."
   ]
  },
  {
   "cell_type": "code",
   "execution_count": 10,
   "metadata": {},
   "outputs": [
    {
     "data": {
      "text/plain": [
       "{'yellow': 'mood', 'hello': 'world'}"
      ]
     },
     "execution_count": 10,
     "metadata": {},
     "output_type": "execute_result"
    }
   ],
   "source": [
    "corpus3.get_user('foxtrot').meta"
   ]
  },
  {
   "cell_type": "markdown",
   "metadata": {},
   "source": [
    "Users were not initialized with their list of corresponding utterances / conversations. Corpus has a method for updating these User lists."
   ]
  },
  {
   "cell_type": "code",
   "execution_count": 28,
   "metadata": {},
   "outputs": [
    {
     "name": "stdout",
     "output_type": "stream",
     "text": [
      "[User({'obj_type': 'user', '_owner': <convokit.model.corpus.Corpus object at 0x138ae8470>, 'meta': {}, '_id': 'alice', '_name': 'alice'}), User({'obj_type': 'user', '_owner': <convokit.model.corpus.Corpus object at 0x138ae8470>, 'meta': {}, '_id': 'bob', '_name': 'bob'}), User({'obj_type': 'user', '_owner': <convokit.model.corpus.Corpus object at 0x138ae8470>, 'meta': {'yellow': 'mood', 'hello': 'world'}, '_id': 'foxtrot', '_name': 'foxtrot'}), User({'obj_type': 'user', '_owner': <convokit.model.corpus.Corpus object at 0x138ae8470>, 'meta': {'what': 'a mood', 'hey': 'food'}, '_id': 'charlie', '_name': 'charlie'}), User({'obj_type': 'user', '_owner': <convokit.model.corpus.Corpus object at 0x138ae8470>, 'meta': {}, '_id': 'echo', '_name': 'echo'})]\n",
      "\n",
      "Number of Utterances: 1\n",
      "Number of Conversations: 1\n"
     ]
    }
   ],
   "source": [
    "print(list(corpus3.iter_users()))\n",
    "user_echo = corpus3.get_user('echo')\n",
    "print()\n",
    "user_echo.print_user_stats()"
   ]
  },
  {
   "cell_type": "markdown",
   "metadata": {},
   "source": [
    "### Merging Utterance and Corpus metadata "
   ]
  },
  {
   "cell_type": "markdown",
   "metadata": {},
   "source": [
    "We quickly demonstrate the Utterance and Corpus metadata merging functionality. This is all handled in the merge() function as well, we just make its effects explicit here. In addition, we encode the corpora with problematic data/metadata so that the warning functionality is explicit.\n",
    "\n",
    "(Note that if Utterances have the same id but different data, the Utterance from the other Corpus is ignored and a warning is printed, though the User metadata is still kept.)"
   ]
  },
  {
   "cell_type": "markdown",
   "metadata": {},
   "source": [
    "### Corpus 4"
   ]
  },
  {
   "cell_type": "code",
   "execution_count": 14,
   "metadata": {},
   "outputs": [],
   "source": [
    "corpus4 = Corpus(utterances = [\n",
    "            Utterance(id='0', root='0', text=\"hello world\", user=User(name=\"alice\"), meta={'in': 'wonderland'}),\n",
    "            Utterance(id='1', root='0', reply_to='0', text=\"my name is bob\", user=User(name=\"bob\"), meta={'fu': 'bu'})\n",
    "        ])\n",
    "corpus4.add_meta('AB', 1)\n",
    "corpus4.add_meta('CD', 2)\n"
   ]
  },
  {
   "cell_type": "code",
   "execution_count": 30,
   "metadata": {},
   "outputs": [
    {
     "name": "stdout",
     "output_type": "stream",
     "text": [
      "Number of Users: 2\n",
      "Number of Utterances: 2\n",
      "Number of Conversations: 1\n"
     ]
    }
   ],
   "source": [
    "corpus4.print_summary_stats()"
   ]
  },
  {
   "cell_type": "markdown",
   "metadata": {},
   "source": [
    "### Corpus 5"
   ]
  },
  {
   "cell_type": "code",
   "execution_count": 16,
   "metadata": {},
   "outputs": [],
   "source": [
    "corpus5 = Corpus(utterances = [\n",
    "            Utterance(id='0', root='0', text=\"hello world\", user=User(name=\"alice\"), meta={'in': 'the hat'}),\n",
    "            Utterance(id='1', root='0', reply_to='0', text=\"my name is bobbb\", user=User(name=\"bob\"), meta={'barrel': 'roll'})\n",
    "        ])\n",
    "corpus5.add_meta('AB', 3)\n",
    "corpus5.add_meta('EF', 3)"
   ]
  },
  {
   "cell_type": "code",
   "execution_count": 31,
   "metadata": {},
   "outputs": [
    {
     "name": "stdout",
     "output_type": "stream",
     "text": [
      "Number of Users: 2\n",
      "Number of Utterances: 2\n",
      "Number of Conversations: 1\n"
     ]
    }
   ],
   "source": [
    "corpus5.print_summary_stats()"
   ]
  },
  {
   "cell_type": "code",
   "execution_count": 18,
   "metadata": {},
   "outputs": [
    {
     "name": "stdout",
     "output_type": "stream",
     "text": [
      "\u001b[91mWARNING: \u001b[0mFound conflicting values for Utterance '0' for metadata key: 'in'. Overwriting with other corpus's Utterance metadata.\n",
      "\u001b[91mWARNING: \u001b[0mUtterances with same id do not share the same data:\n",
      "Utterance('id': '1', 'root': 0, 'reply-to': 0, 'user': User('id': bob, 'meta': {}), 'timestamp': None, 'text': 'my name is bob', 'meta': {'fu': 'bu'})\n",
      "Utterance('id': '1', 'root': 0, 'reply-to': 0, 'user': User('id': bob, 'meta': {}), 'timestamp': None, 'text': 'my name is bobbb', 'meta': {'barrel': 'roll'})\n",
      "Ignoring second corpus's utterance.\n",
      "\u001b[91mWARNING: \u001b[0mFound conflicting values for Corpus metadata key: 'AB'. Overwriting with other Corpus's metadata.\n"
     ]
    }
   ],
   "source": [
    "corpus6 = corpus4.merge(corpus5)"
   ]
  },
  {
   "cell_type": "code",
   "execution_count": 32,
   "metadata": {},
   "outputs": [
    {
     "name": "stdout",
     "output_type": "stream",
     "text": [
      "Number of Users: 2\n",
      "Number of Utterances: 2\n",
      "Number of Conversations: 1\n"
     ]
    }
   ],
   "source": [
    "corpus6.print_summary_stats()"
   ]
  },
  {
   "cell_type": "code",
   "execution_count": 20,
   "metadata": {},
   "outputs": [
    {
     "data": {
      "text/plain": [
       "{'AB': 3, 'CD': 2, 'EF': 3}"
      ]
     },
     "execution_count": 20,
     "metadata": {},
     "output_type": "execute_result"
    }
   ],
   "source": [
    "corpus6.meta"
   ]
  },
  {
   "cell_type": "code",
   "execution_count": 21,
   "metadata": {},
   "outputs": [
    {
     "data": {
      "text/plain": [
       "Utterance({'obj_type': 'utterance', '_owner': <convokit.model.corpus.Corpus object at 0x138b1c668>, 'meta': {'fu': 'bu'}, '_id': '1', 'user': User({'obj_type': 'user', '_owner': <convokit.model.corpus.Corpus object at 0x138b1c668>, 'meta': {}, '_id': 'bob', '_name': 'bob'}), 'root': '0', 'reply_to': '0', 'timestamp': None, 'text': 'my name is bob'})"
      ]
     },
     "execution_count": 21,
     "metadata": {},
     "output_type": "execute_result"
    }
   ],
   "source": [
    "corpus6.get_utterance('1')"
   ]
  },
  {
   "cell_type": "code",
   "execution_count": 22,
   "metadata": {},
   "outputs": [
    {
     "data": {
      "text/plain": [
       "Utterance({'obj_type': 'utterance', '_owner': <convokit.model.corpus.Corpus object at 0x138b1c668>, 'meta': {'in': 'the hat'}, '_id': '0', 'user': User({'obj_type': 'user', '_owner': <convokit.model.corpus.Corpus object at 0x138b1c668>, 'meta': {}, '_id': 'alice', '_name': 'alice'}), 'root': '0', 'reply_to': None, 'timestamp': None, 'text': 'hello world'})"
      ]
     },
     "execution_count": 22,
     "metadata": {},
     "output_type": "execute_result"
    }
   ],
   "source": [
    "corpus6.get_utterance('0')"
   ]
  },
  {
   "cell_type": "markdown",
   "metadata": {},
   "source": [
    "For the most part however, as long as the data is well behaved (e.g. User/Utterance/Conversation/Corpus do not have different values for the same key in the metadata, Utterances with the same id have the same data) one should expect to see no warnings when using merge()."
   ]
  },
  {
   "cell_type": "code",
   "execution_count": 34,
   "metadata": {},
   "outputs": [
    {
     "data": {
      "text/plain": [
       "[Utterance({'obj_type': 'utterance', '_owner': <convokit.model.corpus.Corpus object at 0x138b1c668>, 'meta': {'in': 'the hat'}, '_id': '0', 'user': User({'obj_type': 'user', '_owner': <convokit.model.corpus.Corpus object at 0x138b1c668>, 'meta': {}, '_id': 'alice', '_name': 'alice'}), 'root': '0', 'reply_to': None, 'timestamp': None, 'text': 'hello world'}),\n",
       " Utterance({'obj_type': 'utterance', '_owner': <convokit.model.corpus.Corpus object at 0x138b1c668>, 'meta': {'fu': 'bu'}, '_id': '1', 'user': User({'obj_type': 'user', '_owner': <convokit.model.corpus.Corpus object at 0x138b1c668>, 'meta': {}, '_id': 'bob', '_name': 'bob'}), 'root': '0', 'reply_to': '0', 'timestamp': None, 'text': 'my name is bob'})]"
      ]
     },
     "execution_count": 34,
     "metadata": {},
     "output_type": "execute_result"
    }
   ],
   "source": [
    "list(list(corpus6.iter_conversations())[0].iter_utterances())"
   ]
  },
  {
   "cell_type": "code",
   "execution_count": null,
   "metadata": {},
   "outputs": [],
   "source": [
    "corpus6.dump('temp-corpus', './')"
   ]
  },
  {
   "cell_type": "code",
   "execution_count": null,
   "metadata": {},
   "outputs": [],
   "source": []
  }
 ],
 "metadata": {
  "kernelspec": {
   "display_name": "Python 3",
   "language": "python",
   "name": "python3"
  },
  "language_info": {
   "codemirror_mode": {
    "name": "ipython",
    "version": 3
   },
   "file_extension": ".py",
   "mimetype": "text/x-python",
   "name": "python",
   "nbconvert_exporter": "python",
   "pygments_lexer": "ipython3",
   "version": "3.7.3"
  }
 },
 "nbformat": 4,
 "nbformat_minor": 2
}
