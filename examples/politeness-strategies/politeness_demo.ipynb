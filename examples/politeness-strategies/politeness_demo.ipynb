{
 "cells": [
  {
   "cell_type": "markdown",
   "metadata": {},
   "source": [
    "### Politeness prediction with ConvoKit"
   ]
  },
  {
   "cell_type": "markdown",
   "metadata": {},
   "source": [
    "This notebook demonstrates functionalities of politeness strategies, as well as how to train a simple classifier to predict the politeness level of a request by considering the politeness strategies used, as seen in the paper [A computational approach to politeness with application to social factors](https://www.cs.cornell.edu/~cristian/Politeness.html), using ConvoKit. \n",
    "\n",
    "Note that this notebook is *not* intended to reproduce the paper results: legacy code for reproducibility is available at this [repository](https://github.com/sudhof/politeness). "
   ]
  },
  {
   "cell_type": "code",
   "execution_count": 2,
   "metadata": {},
   "outputs": [],
   "source": [
    "import pandas as pd\n",
    "import numpy as np\n",
    "from tqdm import tqdm\n",
    "from collections import defaultdict"
   ]
  },
  {
   "cell_type": "code",
   "execution_count": 3,
   "metadata": {},
   "outputs": [],
   "source": [
    "import convokit"
   ]
  },
  {
   "cell_type": "code",
   "execution_count": 4,
   "metadata": {},
   "outputs": [],
   "source": [
    "from convokit import Corpus, Speaker, Utterance\n",
    "from convokit import download"
   ]
  },
  {
   "cell_type": "code",
   "execution_count": 5,
   "metadata": {},
   "outputs": [],
   "source": [
    "from pandas import DataFrame\n",
    "from typing import List, Dict, Set"
   ]
  },
  {
   "cell_type": "markdown",
   "metadata": {},
   "source": [
    "#### 1. Getting data \n",
    "Stanford politeness corpus can be directly downloaded, we will be using the wikipedia portion. "
   ]
  },
  {
   "cell_type": "code",
   "execution_count": 6,
   "metadata": {},
   "outputs": [
    {
     "name": "stdout",
     "output_type": "stream",
     "text": [
      "Dataset already exists at /kitchen/convokit_corpora_lf/wikipedia-politeness-corpus\n"
     ]
    }
   ],
   "source": [
    "# Downloading the wikipedia portion of annotated data\n",
    "wiki_corpus = Corpus(download(\"wikipedia-politeness-corpus\"))"
   ]
  },
  {
   "cell_type": "markdown",
   "metadata": {},
   "source": [
    "#### 2: Annotate the corpus with politeness strategies"
   ]
  },
  {
   "cell_type": "markdown",
   "metadata": {},
   "source": [
    "To get politeness strategies for each utterance, we will first obtain dependency parses for the utterances, and then check for strategy use. "
   ]
  },
  {
   "cell_type": "markdown",
   "metadata": {},
   "source": [
    "- adding dependency parses"
   ]
  },
  {
   "cell_type": "code",
   "execution_count": 8,
   "metadata": {},
   "outputs": [],
   "source": [
    "from convokit import TextParser\n",
    "parser = TextParser(verbosity=1000)"
   ]
  },
  {
   "cell_type": "code",
   "execution_count": 9,
   "metadata": {},
   "outputs": [
    {
     "name": "stdout",
     "output_type": "stream",
     "text": [
      "1000/4353 utterances processed\n",
      "2000/4353 utterances processed\n",
      "3000/4353 utterances processed\n",
      "4000/4353 utterances processed\n",
      "4353/4353 utterances processed\n"
     ]
    }
   ],
   "source": [
    "wiki_corpus = parser.transform(wiki_corpus)"
   ]
  },
  {
   "cell_type": "markdown",
   "metadata": {},
   "source": [
    "- adding strategy information"
   ]
  },
  {
   "cell_type": "code",
   "execution_count": 10,
   "metadata": {},
   "outputs": [],
   "source": [
    "from convokit import PolitenessStrategies\n",
    "ps = PolitenessStrategies()"
   ]
  },
  {
   "cell_type": "code",
   "execution_count": 11,
   "metadata": {},
   "outputs": [],
   "source": [
    "wiki_corpus = ps.transform(wiki_corpus, markers=True)"
   ]
  },
  {
   "cell_type": "markdown",
   "metadata": {},
   "source": [
    "Below is an example of all the meta information a processed utterance now has:\n",
    "* `parsed` stores dependency parses\n",
    "* `politeness_strategies` stores politeness strategy usage \n",
    "* `politeness_markers` keeps positive occurances of each politeness strategies."
   ]
  },
  {
   "cell_type": "code",
   "execution_count": 12,
   "metadata": {
    "scrolled": true
   },
   "outputs": [
    {
     "data": {
      "text/plain": [
       "{'Normalized Score': 0.6945444785369653,\n",
       " 'Binary': 1,\n",
       " 'Annotations': {'A233ONYNWKDIYF': 17,\n",
       "  'A1QV3X9YMQQ3OQ': 22,\n",
       "  'A3OW54MEVDKXJL': 17,\n",
       "  'A1JK9DYKWYZZEK': 17,\n",
       "  'AZ1RJVNOZFIWV': 18},\n",
       " 'parsed': [{'rt': 7,\n",
       "   'toks': [{'tok': 'hey', 'tag': 'NNP', 'dep': 'intj', 'up': 7, 'dn': [1]},\n",
       "    {'tok': 'mbk', 'tag': 'NNP', 'dep': 'intj', 'up': 0, 'dn': []},\n",
       "    {'tok': ';', 'tag': ':', 'dep': 'punct', 'up': 7, 'dn': []},\n",
       "    {'tok': 'well', 'tag': 'UH', 'dep': 'intj', 'up': 7, 'dn': []},\n",
       "    {'tok': ',', 'tag': ',', 'dep': 'punct', 'up': 7, 'dn': []},\n",
       "    {'tok': 'i', 'tag': 'PRP', 'dep': 'nsubj', 'up': 7, 'dn': []},\n",
       "    {'tok': \"'ve\", 'tag': 'VB', 'dep': 'aux', 'up': 7, 'dn': []},\n",
       "    {'tok': 'got', 'tag': 'VBN', 'dep': 'ROOT', 'dn': [0, 2, 3, 4, 5, 6, 9]},\n",
       "    {'tok': 'to', 'tag': 'TO', 'dep': 'aux', 'up': 9, 'dn': []},\n",
       "    {'tok': 'be', 'tag': 'VB', 'dep': 'xcomp', 'up': 7, 'dn': [8, 10]},\n",
       "    {'tok': 'honest', 'tag': 'JJ', 'dep': 'acomp', 'up': 9, 'dn': []}]},\n",
       "  {'rt': 3,\n",
       "   'toks': [{'tok': 'i', 'tag': 'PRP', 'dep': 'nsubj', 'up': 3, 'dn': []},\n",
       "    {'tok': 'was', 'tag': 'VBD', 'dep': 'aux', 'up': 3, 'dn': []},\n",
       "    {'tok': \"n't\", 'tag': 'RB', 'dep': 'neg', 'up': 3, 'dn': []},\n",
       "    {'tok': 'expecting', 'tag': 'VBG', 'dep': 'ROOT', 'dn': [0, 1, 2, 5, 9]},\n",
       "    {'tok': 'the', 'tag': 'DT', 'dep': 'det', 'up': 5, 'dn': []},\n",
       "    {'tok': 'events', 'tag': 'NNS', 'dep': 'dobj', 'up': 3, 'dn': [4, 6]},\n",
       "    {'tok': 'of', 'tag': 'IN', 'dep': 'prep', 'up': 5, 'dn': [8]},\n",
       "    {'tok': 'last', 'tag': 'JJ', 'dep': 'amod', 'up': 8, 'dn': []},\n",
       "    {'tok': 'night', 'tag': 'NN', 'dep': 'pobj', 'up': 6, 'dn': [7]},\n",
       "    {'tok': '-', 'tag': ':', 'dep': 'punct', 'up': 3, 'dn': []}]},\n",
       "  {'rt': 2,\n",
       "   'toks': [{'tok': 'personally',\n",
       "     'tag': 'RB',\n",
       "     'dep': 'advmod',\n",
       "     'up': 2,\n",
       "     'dn': []},\n",
       "    {'tok': 'i', 'tag': 'PRP', 'dep': 'nsubj', 'up': 2, 'dn': []},\n",
       "    {'tok': 'thought',\n",
       "     'tag': 'VBD',\n",
       "     'dep': 'ROOT',\n",
       "     'dn': [0, 1, 6, 12, 13, 16]},\n",
       "    {'tok': 'the', 'tag': 'DT', 'dep': 'det', 'up': 4, 'dn': []},\n",
       "    {'tok': 'discussion', 'tag': 'NN', 'dep': 'nsubj', 'up': 6, 'dn': [3]},\n",
       "    {'tok': 'was', 'tag': 'VBD', 'dep': 'aux', 'up': 6, 'dn': []},\n",
       "    {'tok': 'going',\n",
       "     'tag': 'VBG',\n",
       "     'dep': 'ccomp',\n",
       "     'up': 2,\n",
       "     'dn': [4, 5, 8, 11]},\n",
       "    {'tok': 'reasonably', 'tag': 'RB', 'dep': 'advmod', 'up': 8, 'dn': []},\n",
       "    {'tok': 'well', 'tag': 'RB', 'dep': 'advmod', 'up': 6, 'dn': [7, 9]},\n",
       "    {'tok': '(', 'tag': '-LRB-', 'dep': 'punct', 'up': 8, 'dn': []},\n",
       "    {'tok': 'not', 'tag': 'RB', 'dep': 'neg', 'up': 11, 'dn': []},\n",
       "    {'tok': 'fabulously', 'tag': 'RB', 'dep': 'advmod', 'up': 6, 'dn': [10]},\n",
       "    {'tok': ',', 'tag': ',', 'dep': 'punct', 'up': 2, 'dn': []},\n",
       "    {'tok': 'but', 'tag': 'CC', 'dep': 'cc', 'up': 2, 'dn': []},\n",
       "    {'tok': 'we', 'tag': 'PRP', 'dep': 'nsubj', 'up': 16, 'dn': []},\n",
       "    {'tok': 'were', 'tag': 'VBD', 'dep': 'aux', 'up': 16, 'dn': []},\n",
       "    {'tok': 'getting',\n",
       "     'tag': 'VBG',\n",
       "     'dep': 'conj',\n",
       "     'up': 2,\n",
       "     'dn': [14, 15, 17, 18, 19, 20, 23]},\n",
       "    {'tok': 'somewhere', 'tag': 'RB', 'dep': 'advmod', 'up': 16, 'dn': []},\n",
       "    {'tok': ')', 'tag': '-RRB-', 'dep': 'punct', 'up': 16, 'dn': []},\n",
       "    {'tok': 'and', 'tag': 'CC', 'dep': 'cc', 'up': 16, 'dn': []},\n",
       "    {'tok': ',', 'tag': ',', 'dep': 'punct', 'up': 16, 'dn': []},\n",
       "    {'tok': 'whilst', 'tag': 'IN', 'dep': 'mark', 'up': 23, 'dn': []},\n",
       "    {'tok': 'i', 'tag': 'PRP', 'dep': 'nsubj', 'up': 23, 'dn': []},\n",
       "    {'tok': 'agree',\n",
       "     'tag': 'VBP',\n",
       "     'dep': 'conj',\n",
       "     'up': 16,\n",
       "     'dn': [21, 22, 31]},\n",
       "    {'tok': 'that', 'tag': 'IN', 'dep': 'mark', 'up': 31, 'dn': []},\n",
       "    {'tok': 'mlm', 'tag': 'NNP', 'dep': 'poss', 'up': 27, 'dn': [26]},\n",
       "    {'tok': \"'s\", 'tag': 'POS', 'dep': 'case', 'up': 25, 'dn': []},\n",
       "    {'tok': 'actions', 'tag': 'NNS', 'dep': 'nsubjpass', 'up': 31, 'dn': [25]},\n",
       "    {'tok': 'were', 'tag': 'VBD', 'dep': 'auxpass', 'up': 31, 'dn': []},\n",
       "    {'tok': \"n't\", 'tag': 'RB', 'dep': 'neg', 'up': 31, 'dn': []},\n",
       "    {'tok': 'exactly', 'tag': 'RB', 'dep': 'advmod', 'up': 31, 'dn': []},\n",
       "    {'tok': 'advised',\n",
       "     'tag': 'VBN',\n",
       "     'dep': 'ccomp',\n",
       "     'up': 23,\n",
       "     'dn': [24, 27, 28, 29, 30]}]},\n",
       "  {'rt': 17,\n",
       "   'toks': [{'tok': ',', 'tag': ',', 'dep': 'punct', 'up': 3, 'dn': []},\n",
       "    {'tok': 'i', 'tag': 'PRP', 'dep': 'nsubj', 'up': 3, 'dn': []},\n",
       "    {'tok': 'must', 'tag': 'MD', 'dep': 'aux', 'up': 3, 'dn': []},\n",
       "    {'tok': 'admit',\n",
       "     'tag': 'VB',\n",
       "     'dep': 'ccomp',\n",
       "     'up': 17,\n",
       "     'dn': [0, 1, 2, 6]},\n",
       "    {'tok': 'it', 'tag': 'PRP', 'dep': 'nsubj', 'up': 6, 'dn': []},\n",
       "    {'tok': 'does', 'tag': 'VBZ', 'dep': 'aux', 'up': 6, 'dn': []},\n",
       "    {'tok': 'seem', 'tag': 'VB', 'dep': 'ccomp', 'up': 3, 'dn': [4, 5, 8]},\n",
       "    {'tok': 'to', 'tag': 'TO', 'dep': 'aux', 'up': 8, 'dn': []},\n",
       "    {'tok': 'be', 'tag': 'VB', 'dep': 'xcomp', 'up': 6, 'dn': [7, 12]},\n",
       "    {'tok': 'a', 'tag': 'DT', 'dep': 'det', 'up': 12, 'dn': []},\n",
       "    {'tok': 'relatively', 'tag': 'RB', 'dep': 'advmod', 'up': 11, 'dn': []},\n",
       "    {'tok': 'minor', 'tag': 'JJ', 'dep': 'amod', 'up': 12, 'dn': [10]},\n",
       "    {'tok': 'thing', 'tag': 'NN', 'dep': 'attr', 'up': 8, 'dn': [9, 11, 14]},\n",
       "    {'tok': 'to', 'tag': 'TO', 'dep': 'aux', 'up': 14, 'dn': []},\n",
       "    {'tok': 'retire', 'tag': 'VB', 'dep': 'relcl', 'up': 12, 'dn': [13, 15]},\n",
       "    {'tok': 'over', 'tag': 'RP', 'dep': 'advmod', 'up': 14, 'dn': []},\n",
       "    {'tok': '-', 'tag': ':', 'dep': 'punct', 'up': 17, 'dn': []},\n",
       "    {'tok': 'was', 'tag': 'VBD', 'dep': 'ROOT', 'dn': [3, 16, 18, 19, 33]},\n",
       "    {'tok': 'there', 'tag': 'EX', 'dep': 'expl', 'up': 17, 'dn': []},\n",
       "    {'tok': 'something',\n",
       "     'tag': 'NN',\n",
       "     'dep': 'attr',\n",
       "     'up': 17,\n",
       "     'dn': [20, 21, 25]},\n",
       "    {'tok': 'else', 'tag': 'RB', 'dep': 'advmod', 'up': 19, 'dn': []},\n",
       "    {'tok': 'going', 'tag': 'VBG', 'dep': 'acl', 'up': 19, 'dn': [22, 23]},\n",
       "    {'tok': 'on', 'tag': 'RP', 'dep': 'prt', 'up': 21, 'dn': []},\n",
       "    {'tok': 'here', 'tag': 'RB', 'dep': 'advmod', 'up': 21, 'dn': []},\n",
       "    {'tok': 'that', 'tag': 'WDT', 'dep': 'nsubj', 'up': 25, 'dn': []},\n",
       "    {'tok': 'made', 'tag': 'VBD', 'dep': 'relcl', 'up': 19, 'dn': [24, 28]},\n",
       "    {'tok': 'it', 'tag': 'PRP', 'dep': 'nsubj', 'up': 28, 'dn': []},\n",
       "    {'tok': 'the', 'tag': 'DT', 'dep': 'det', 'up': 28, 'dn': []},\n",
       "    {'tok': 'straw',\n",
       "     'tag': 'NN',\n",
       "     'dep': 'ccomp',\n",
       "     'up': 25,\n",
       "     'dn': [26, 27, 30]},\n",
       "    {'tok': 'that', 'tag': 'WDT', 'dep': 'nsubj', 'up': 30, 'dn': []},\n",
       "    {'tok': 'broke', 'tag': 'VBD', 'dep': 'relcl', 'up': 28, 'dn': [29, 32]},\n",
       "    {'tok': 'his', 'tag': 'PRP$', 'dep': 'poss', 'up': 32, 'dn': []},\n",
       "    {'tok': 'back', 'tag': 'NN', 'dep': 'dobj', 'up': 30, 'dn': [31]},\n",
       "    {'tok': '?', 'tag': '.', 'dep': 'punct', 'up': 17, 'dn': []}]},\n",
       "  {'rt': 3,\n",
       "   'toks': [{'tok': 'anyhow', 'tag': 'UH', 'dep': 'intj', 'up': 3, 'dn': []},\n",
       "    {'tok': ',', 'tag': ',', 'dep': 'punct', 'up': 3, 'dn': []},\n",
       "    {'tok': 'i', 'tag': 'PRP', 'dep': 'nsubj', 'up': 3, 'dn': []},\n",
       "    {'tok': 'agree', 'tag': 'VBP', 'dep': 'ROOT', 'dn': [0, 1, 2, 4, 11]},\n",
       "    {'tok': 'with', 'tag': 'IN', 'dep': 'prep', 'up': 3, 'dn': [5]},\n",
       "    {'tok': 'you', 'tag': 'PRP', 'dep': 'pobj', 'up': 4, 'dn': []},\n",
       "    {'tok': 'that', 'tag': 'IN', 'dep': 'mark', 'up': 11, 'dn': []},\n",
       "    {'tok': 'he', 'tag': 'PRP', 'dep': 'nsubjpass', 'up': 11, 'dn': []},\n",
       "    {'tok': \"'ll\", 'tag': 'MD', 'dep': 'aux', 'up': 11, 'dn': []},\n",
       "    {'tok': 'be', 'tag': 'VB', 'dep': 'auxpass', 'up': 11, 'dn': []},\n",
       "    {'tok': 'greatly', 'tag': 'RB', 'dep': 'advmod', 'up': 11, 'dn': []},\n",
       "    {'tok': 'missed',\n",
       "     'tag': 'VBN',\n",
       "     'dep': 'ccomp',\n",
       "     'up': 3,\n",
       "     'dn': [6, 7, 8, 9, 10, 12]},\n",
       "    {'tok': '-', 'tag': ':', 'dep': 'punct', 'up': 11, 'dn': []}]},\n",
       "  {'rt': 1,\n",
       "   'toks': [{'tok': 'i', 'tag': 'PRP', 'dep': 'nsubj', 'up': 1, 'dn': []},\n",
       "    {'tok': 'sent', 'tag': 'VBD', 'dep': 'ROOT', 'dn': [0, 2, 4]},\n",
       "    {'tok': 'him', 'tag': 'PRP', 'dep': 'dative', 'up': 1, 'dn': []},\n",
       "    {'tok': 'a', 'tag': 'DT', 'dep': 'det', 'up': 4, 'dn': []},\n",
       "    {'tok': 'message', 'tag': 'NN', 'dep': 'dobj', 'up': 1, 'dn': [3, 5]},\n",
       "    {'tok': 'on', 'tag': 'IN', 'dep': 'prep', 'up': 4, 'dn': [6]},\n",
       "    {'tok': 'nsf', 'tag': 'NNP', 'dep': 'pobj', 'up': 5, 'dn': []}]},\n",
       "  {'rt': 2,\n",
       "   'toks': [{'tok': 'but', 'tag': 'CC', 'dep': 'cc', 'up': 2, 'dn': []},\n",
       "    {'tok': 'i', 'tag': 'PRP', 'dep': 'nsubj', 'up': 2, 'dn': []},\n",
       "    {'tok': 'doubt', 'tag': 'VBP', 'dep': 'ROOT', 'dn': [0, 1, 6]},\n",
       "    {'tok': 'if', 'tag': 'IN', 'dep': 'mark', 'up': 6, 'dn': []},\n",
       "    {'tok': 'i', 'tag': 'PRP', 'dep': 'nsubj', 'up': 6, 'dn': []},\n",
       "    {'tok': \"'ll\", 'tag': 'MD', 'dep': 'aux', 'up': 6, 'dn': []},\n",
       "    {'tok': 'get', 'tag': 'VB', 'dep': 'ccomp', 'up': 2, 'dn': [3, 4, 5, 8]},\n",
       "    {'tok': 'any', 'tag': 'DT', 'dep': 'det', 'up': 8, 'dn': []},\n",
       "    {'tok': 'reply', 'tag': 'NN', 'dep': 'dobj', 'up': 6, 'dn': [7]}]},\n",
       "  {'rt': 2,\n",
       "   'toks': [{'tok': '-', 'tag': ':', 'dep': 'punct', 'up': 2, 'dn': []},\n",
       "    {'tok': 'what', 'tag': 'WP', 'dep': 'attr', 'up': 2, 'dn': []},\n",
       "    {'tok': 'are', 'tag': 'VBP', 'dep': 'ROOT', 'dn': [0, 1, 4, 8]},\n",
       "    {'tok': 'your', 'tag': 'PRP$', 'dep': 'poss', 'up': 4, 'dn': []},\n",
       "    {'tok': 'thoughts', 'tag': 'NNS', 'dep': 'nsubj', 'up': 2, 'dn': [3, 5]},\n",
       "    {'tok': 'on', 'tag': 'IN', 'dep': 'prep', 'up': 4, 'dn': [7]},\n",
       "    {'tok': 'the', 'tag': 'DT', 'dep': 'det', 'up': 7, 'dn': []},\n",
       "    {'tok': 'matter', 'tag': 'NN', 'dep': 'pobj', 'up': 5, 'dn': [6]},\n",
       "    {'tok': '?', 'tag': '.', 'dep': 'punct', 'up': 2, 'dn': []}]}],\n",
       " 'politeness_strategies': {'feature_politeness_==Please==': 0,\n",
       "  'feature_politeness_==Please_start==': 0,\n",
       "  'feature_politeness_==HASHEDGE==': 1,\n",
       "  'feature_politeness_==Indirect_(btw)==': 0,\n",
       "  'feature_politeness_==Hedges==': 1,\n",
       "  'feature_politeness_==Factuality==': 0,\n",
       "  'feature_politeness_==Deference==': 0,\n",
       "  'feature_politeness_==Gratitude==': 0,\n",
       "  'feature_politeness_==Apologizing==': 0,\n",
       "  'feature_politeness_==1st_person_pl.==': 1,\n",
       "  'feature_politeness_==1st_person==': 1,\n",
       "  'feature_politeness_==1st_person_start==': 1,\n",
       "  'feature_politeness_==2nd_person==': 1,\n",
       "  'feature_politeness_==2nd_person_start==': 0,\n",
       "  'feature_politeness_==Indirect_(greeting)==': 1,\n",
       "  'feature_politeness_==Direct_question==': 1,\n",
       "  'feature_politeness_==Direct_start==': 1,\n",
       "  'feature_politeness_==HASPOSITIVE==': 1,\n",
       "  'feature_politeness_==HASNEGATIVE==': 1,\n",
       "  'feature_politeness_==SUBJUNCTIVE==': 0,\n",
       "  'feature_politeness_==INDICATIVE==': 0},\n",
       " 'politeness_markers': {'politeness_markers_==Please==': [],\n",
       "  'politeness_markers_==Please_start==': [],\n",
       "  'politeness_markers_==HASHEDGE==': [[('thought', 2, 2)],\n",
       "   [('relatively', 3, 10)],\n",
       "   [('doubt', 6, 2)]],\n",
       "  'politeness_markers_==Indirect_(btw)==': [],\n",
       "  'politeness_markers_==Hedges==': [[('i', 2, 1), ('thought', 2, 2)],\n",
       "   [('i', 6, 1), ('doubt', 6, 2)]],\n",
       "  'politeness_markers_==Factuality==': [],\n",
       "  'politeness_markers_==Deference==': [],\n",
       "  'politeness_markers_==Gratitude==': [],\n",
       "  'politeness_markers_==Apologizing==': [],\n",
       "  'politeness_markers_==1st_person_pl.==': [[('we', 2, 14)]],\n",
       "  'politeness_markers_==1st_person==': [[('i', 0, 5)],\n",
       "   [('i', 2, 1)],\n",
       "   [('i', 2, 22)],\n",
       "   [('i', 3, 1)],\n",
       "   [('i', 4, 2)],\n",
       "   [('i', 6, 1)],\n",
       "   [('i', 6, 4)]],\n",
       "  'politeness_markers_==1st_person_start==': [[('i', 1, 0)], [('i', 5, 0)]],\n",
       "  'politeness_markers_==2nd_person==': [[('you', 4, 5)], [('your', 7, 3)]],\n",
       "  'politeness_markers_==2nd_person_start==': [],\n",
       "  'politeness_markers_==Indirect_(greeting)==': [[('hey', 0, 0)]],\n",
       "  'politeness_markers_==Direct_question==': [[('what', 7, 1)]],\n",
       "  'politeness_markers_==Direct_start==': [[('but', 6, 0)]],\n",
       "  'politeness_markers_==HASPOSITIVE==': [[('well', 0, 3)],\n",
       "   [('honest', 0, 10)],\n",
       "   [('reasonably', 2, 7)],\n",
       "   [('well', 2, 8)],\n",
       "   [('fabulously', 2, 11)]],\n",
       "  'politeness_markers_==HASNEGATIVE==': [[('broke', 3, 30)],\n",
       "   [('missed', 4, 11)],\n",
       "   [('doubt', 6, 2)]],\n",
       "  'politeness_markers_==SUBJUNCTIVE==': [],\n",
       "  'politeness_markers_==INDICATIVE==': []}}"
      ]
     },
     "execution_count": 12,
     "metadata": {},
     "output_type": "execute_result"
    }
   ],
   "source": [
    "wiki_corpus.get_utterance('434044').meta"
   ]
  },
  {
   "cell_type": "markdown",
   "metadata": {},
   "source": [
    "Here is a clearer view of the politeness_markers:"
   ]
  },
  {
   "cell_type": "code",
   "execution_count": 13,
   "metadata": {},
   "outputs": [
    {
     "name": "stdout",
     "output_type": "stream",
     "text": [
      "RAW TEXT: Hey MBK; well, I've got to be honest I wasn't expecting the events of last night - personally I thought the discussion was going reasonably well (not fabulously, but we were getting somewhere) and, whilst I agree that Mlm's actions weren't exactly advised, I must admit it does seem to be a relatively minor thing to retire over - was there something else going on here that made it the straw that broke his back? Anyhow, I agree with you that he'll be greatly missed - I sent him a message on NSF but I doubt if I'll get any reply - what are your thoughts on the matter?\n",
      "\n",
      "HASHEDGE results:\n",
      "Markers: [[('thought', 2, 2)], [('relatively', 3, 10)], [('doubt', 6, 2)]]\n",
      "\n",
      "Hedges results:\n",
      "Markers: [[('i', 2, 1), ('thought', 2, 2)], [('i', 6, 1), ('doubt', 6, 2)]]\n",
      "\n",
      "1st_person_pl. results:\n",
      "Markers: [[('we', 2, 14)]]\n",
      "\n",
      "1st_person results:\n",
      "Markers: [[('i', 0, 5)], [('i', 2, 1)], [('i', 2, 22)], [('i', 3, 1)], [('i', 4, 2)], [('i', 6, 1)], [('i', 6, 4)]]\n",
      "\n",
      "1st_person_start results:\n",
      "Markers: [[('i', 1, 0)], [('i', 5, 0)]]\n",
      "\n",
      "2nd_person results:\n",
      "Markers: [[('you', 4, 5)], [('your', 7, 3)]]\n",
      "\n",
      "Indirect_(greeting) results:\n",
      "Markers: [[('hey', 0, 0)]]\n",
      "\n",
      "Direct_question results:\n",
      "Markers: [[('what', 7, 1)]]\n",
      "\n",
      "Direct_start results:\n",
      "Markers: [[('but', 6, 0)]]\n",
      "\n",
      "HASPOSITIVE results:\n",
      "Markers: [[('well', 0, 3)], [('honest', 0, 10)], [('reasonably', 2, 7)], [('well', 2, 8)], [('fabulously', 2, 11)]]\n",
      "\n",
      "HASNEGATIVE results:\n",
      "Markers: [[('broke', 3, 30)], [('missed', 4, 11)], [('doubt', 6, 2)]]\n",
      "\n"
     ]
    }
   ],
   "source": [
    "utt = wiki_corpus.get_utterance('434044')\n",
    "print(\"RAW TEXT: \" + utt.text + \"\\n\")\n",
    "for ((k,v),(k1,v2)) in zip(utt.meta[\"politeness_strategies\"].items(),utt.meta[\"politeness_markers\"].items()):\n",
    "    if v != 0:\n",
    "        print(k[21:len(k)-2] + \" results:\")\n",
    "        print(\"Markers: \" + str(v2) + \"\\n\")"
   ]
  },
  {
   "cell_type": "markdown",
   "metadata": {},
   "source": [
    "You may want to save the corpus by doing `wiki_corpus.dump(\"wiki-politeness-annotated\")` for further exploration. Note that if you do not specify a base path, data will be saved to `.convokit/saved-corpora` in your home directory by default. "
   ]
  },
  {
   "cell_type": "markdown",
   "metadata": {},
   "source": [
    "To get a glimpse of the overall use of politeness strategies in this corpus: "
   ]
  },
  {
   "cell_type": "code",
   "execution_count": 14,
   "metadata": {},
   "outputs": [
    {
     "data": {
      "image/png": "[encoded data removed]",
      "text/plain": [
       "<Figure size 1800x1200 with 1 Axes>"
      ]
     },
     "metadata": {
      "needs_background": "light"
     },
     "output_type": "display_data"
    }
   ],
   "source": [
    "data = ps.summarize(wiki_corpus, plot=True)"
   ]
  },
  {
   "cell_type": "markdown",
   "metadata": {},
   "source": [
    "You can also look at particular sections of the dataset, such as only the utterances that use positive words:"
   ]
  },
  {
   "cell_type": "code",
   "execution_count": 15,
   "metadata": {},
   "outputs": [
    {
     "data": {
      "image/png": "[encoded data removed]",
      "text/plain": [
       "<Figure size 1800x1200 with 1 Axes>"
      ]
     },
     "metadata": {
      "needs_background": "light"
     },
     "output_type": "display_data"
    }
   ],
   "source": [
    "query = lambda x : x.meta[\"politeness_strategies\"][\"feature_politeness_==HASPOSITIVE==\"] == 1\n",
    "positive_data = ps.summarize(wiki_corpus, query, plot = True)"
   ]
  },
  {
   "cell_type": "markdown",
   "metadata": {},
   "source": [
    "#### 3. Predict Politeness \n",
    "\n",
    "We will see how a simple classifier considering the use of politeness strategies perform, using `Classifier` (note that this is only for demonstration, and not geared towards achieving best performance)."
   ]
  },
  {
   "cell_type": "code",
   "execution_count": 16,
   "metadata": {},
   "outputs": [],
   "source": [
    "import random\n",
    "from sklearn import svm\n",
    "from scipy.sparse import csr_matrix\n",
    "from sklearn.metrics import classification_report"
   ]
  },
  {
   "cell_type": "code",
   "execution_count": 17,
   "metadata": {},
   "outputs": [],
   "source": [
    "from convokit import Classifier"
   ]
  },
  {
   "cell_type": "markdown",
   "metadata": {},
   "source": [
    "As a prestep, we subset the corpus as we will only consider the polite vs. impolite class for prediction (i.e., those with \"Binary\" field being either +1 or -1). "
   ]
  },
  {
   "cell_type": "code",
   "execution_count": 18,
   "metadata": {},
   "outputs": [],
   "source": [
    "binary_corpus = Corpus(utterances=[utt for utt in wiki_corpus.iter_utterances() if utt.meta[\"Binary\"] != 0])"
   ]
  },
  {
   "cell_type": "markdown",
   "metadata": {},
   "source": [
    "#### 3.1 Direct evaluation\n",
    "\n",
    "If you are interested in how effectiveness are these politeness strategies, `Classifier` provides evaluation with both train/test splits, as well as with cross validaton. "
   ]
  },
  {
   "cell_type": "markdown",
   "metadata": {},
   "source": [
    "- cross validation accuracies"
   ]
  },
  {
   "cell_type": "code",
   "execution_count": 19,
   "metadata": {},
   "outputs": [
    {
     "name": "stdout",
     "output_type": "stream",
     "text": [
      "Initialized default classification model (standard scaled logistic regression).\n",
      "Using corpus objects...\n",
      "Running a cross-validated evaluation...\n",
      "Done.\n"
     ]
    },
    {
     "data": {
      "text/plain": [
       "array([0.75      , 0.76146789, 0.75688073, 0.79310345, 0.74252874])"
      ]
     },
     "execution_count": 19,
     "metadata": {},
     "output_type": "execute_result"
    }
   ],
   "source": [
    "clf_cv = Classifier(obj_type=\"utterance\", \n",
    "                        pred_feats=[\"politeness_strategies\"], \n",
    "                        labeller=lambda utt: utt.meta['Binary'] == 1)\n",
    "\n",
    "clf_cv.evaluate_with_cv(binary_corpus)"
   ]
  },
  {
   "cell_type": "markdown",
   "metadata": {},
   "source": [
    "- train/test split"
   ]
  },
  {
   "cell_type": "code",
   "execution_count": 20,
   "metadata": {},
   "outputs": [
    {
     "name": "stdout",
     "output_type": "stream",
     "text": [
      "Initialized default classification model (standard scaled logistic regression).\n",
      "Using corpus objects...\n",
      "Running a train-test-split evaluation...\n",
      "Done.\n"
     ]
    },
    {
     "data": {
      "text/plain": [
       "(0.7385321100917431,\n",
       " array([[177,  48],\n",
       "        [ 66, 145]]))"
      ]
     },
     "execution_count": 20,
     "metadata": {},
     "output_type": "execute_result"
    }
   ],
   "source": [
    "clf_split = Classifier(obj_type=\"utterance\", \n",
    "                        pred_feats=[\"politeness_strategies\"], \n",
    "                        labeller=lambda utt: utt.meta['Binary'] == 1)\n",
    "\n",
    "clf_split.evaluate_with_train_test_split(binary_corpus)"
   ]
  },
  {
   "cell_type": "markdown",
   "metadata": {},
   "source": [
    "#### 3.2 Training a classifier to predict on other utterances"
   ]
  },
  {
   "cell_type": "code",
   "execution_count": 21,
   "metadata": {},
   "outputs": [
    {
     "name": "stdout",
     "output_type": "stream",
     "text": [
      "train size = 2078, test size = 100\n"
     ]
    }
   ],
   "source": [
    "test_ids = binary_corpus.get_utterance_ids()[-100:]\n",
    "train_corpus = Corpus(utterances=[utt for utt in binary_corpus.iter_utterances() if utt.id not in test_ids])\n",
    "test_corpus = Corpus(utterances=[utt for utt in binary_corpus.iter_utterances() if utt.id in test_ids])\n",
    "print(\"train size = {}, test size = {}\".format(len(train_corpus.get_utterance_ids()),\n",
    "                                               len(test_corpus.get_utterance_ids())))"
   ]
  },
  {
   "cell_type": "markdown",
   "metadata": {},
   "source": [
    "We can also train a classifier with a corpus to predict politeness labels for other Utterances. As an example, we will first train with a training corpus, and check predictions on some test utterances. "
   ]
  },
  {
   "cell_type": "code",
   "execution_count": 22,
   "metadata": {},
   "outputs": [
    {
     "name": "stdout",
     "output_type": "stream",
     "text": [
      "Initialized default classification model (standard scaled logistic regression).\n"
     ]
    },
    {
     "data": {
      "text/plain": [
       "<convokit.classifier.classifier.Classifier at 0x7fa4324179e8>"
      ]
     },
     "execution_count": 22,
     "metadata": {},
     "output_type": "execute_result"
    }
   ],
   "source": [
    "clf = Classifier(obj_type=\"utterance\", \n",
    "                        pred_feats=[\"politeness_strategies\"], \n",
    "                        labeller=lambda utt: utt.meta['Binary'] == 1)\n",
    "clf.fit(train_corpus)"
   ]
  },
  {
   "cell_type": "markdown",
   "metadata": {},
   "source": [
    "- predicing on the test corpus (you can also predict on a list of utterances by using `clf.transform_objs()` instead) "
   ]
  },
  {
   "cell_type": "code",
   "execution_count": 23,
   "metadata": {},
   "outputs": [],
   "source": [
    "test_pred = clf.transform(test_corpus)"
   ]
  },
  {
   "cell_type": "code",
   "execution_count": 24,
   "metadata": {},
   "outputs": [
    {
     "data": {
      "text/html": [
       "<div>\n",
       "<style scoped>\n",
       "    .dataframe tbody tr th:only-of-type {\n",
       "        vertical-align: middle;\n",
       "    }\n",
       "\n",
       "    .dataframe tbody tr th {\n",
       "        vertical-align: top;\n",
       "    }\n",
       "\n",
       "    .dataframe thead th {\n",
       "        text-align: right;\n",
       "    }\n",
       "</style>\n",
       "<table border=\"1\" class=\"dataframe\">\n",
       "  <thead>\n",
       "    <tr style=\"text-align: right;\">\n",
       "      <th></th>\n",
       "      <th>prediction</th>\n",
       "      <th>pred_score</th>\n",
       "    </tr>\n",
       "    <tr>\n",
       "      <th>id</th>\n",
       "      <th></th>\n",
       "      <th></th>\n",
       "    </tr>\n",
       "  </thead>\n",
       "  <tbody>\n",
       "    <tr>\n",
       "      <th>622173</th>\n",
       "      <td>0</td>\n",
       "      <td>0.031245</td>\n",
       "    </tr>\n",
       "    <tr>\n",
       "      <th>452664</th>\n",
       "      <td>0</td>\n",
       "      <td>0.047503</td>\n",
       "    </tr>\n",
       "    <tr>\n",
       "      <th>626728</th>\n",
       "      <td>0</td>\n",
       "      <td>0.052344</td>\n",
       "    </tr>\n",
       "    <tr>\n",
       "      <th>623952</th>\n",
       "      <td>0</td>\n",
       "      <td>0.063058</td>\n",
       "    </tr>\n",
       "    <tr>\n",
       "      <th>621114</th>\n",
       "      <td>0</td>\n",
       "      <td>0.065654</td>\n",
       "    </tr>\n",
       "    <tr>\n",
       "      <th>...</th>\n",
       "      <td>...</td>\n",
       "      <td>...</td>\n",
       "    </tr>\n",
       "    <tr>\n",
       "      <th>628941</th>\n",
       "      <td>1</td>\n",
       "      <td>0.994053</td>\n",
       "    </tr>\n",
       "    <tr>\n",
       "      <th>213945</th>\n",
       "      <td>1</td>\n",
       "      <td>0.995956</td>\n",
       "    </tr>\n",
       "    <tr>\n",
       "      <th>464868</th>\n",
       "      <td>1</td>\n",
       "      <td>0.996582</td>\n",
       "    </tr>\n",
       "    <tr>\n",
       "      <th>358525</th>\n",
       "      <td>1</td>\n",
       "      <td>0.998347</td>\n",
       "    </tr>\n",
       "    <tr>\n",
       "      <th>179380</th>\n",
       "      <td>1</td>\n",
       "      <td>0.998550</td>\n",
       "    </tr>\n",
       "  </tbody>\n",
       "</table>\n",
       "<p>100 rows × 2 columns</p>\n",
       "</div>"
      ],
      "text/plain": [
       "        prediction  pred_score\n",
       "id                            \n",
       "622173           0    0.031245\n",
       "452664           0    0.047503\n",
       "626728           0    0.052344\n",
       "623952           0    0.063058\n",
       "621114           0    0.065654\n",
       "...            ...         ...\n",
       "628941           1    0.994053\n",
       "213945           1    0.995956\n",
       "464868           1    0.996582\n",
       "358525           1    0.998347\n",
       "179380           1    0.998550\n",
       "\n",
       "[100 rows x 2 columns]"
      ]
     },
     "execution_count": 24,
     "metadata": {},
     "output_type": "execute_result"
    }
   ],
   "source": [
    "clf.summarize(test_pred)"
   ]
  },
  {
   "cell_type": "markdown",
   "metadata": {},
   "source": [
    "To look at a few example predictions:"
   ]
  },
  {
   "cell_type": "code",
   "execution_count": 25,
   "metadata": {},
   "outputs": [
    {
     "name": "stdout",
     "output_type": "stream",
     "text": [
      "0\n",
      "test utterance:\n",
      "I understood just fine, but wasn't at my computer. Are you in a hurry?\n",
      "------------------------\n",
      "Result: polite, probability estimates = 0.7302065869636825\n",
      "\n",
      "1\n",
      "test utterance:\n",
      "I've always been intrigued by 'dark-complected man.' What's with the radio, and fist in the air?\n",
      "------------------------\n",
      "Result: impolite, probability estimates = 0.12162159899143433\n",
      "\n",
      "2\n",
      "test utterance:\n",
      "Your early edit's clearly indicate that you were not a newbie. How do explain this?\n",
      "------------------------\n",
      "Result: impolite, probability estimates = 0.27281265920696396\n",
      "\n",
      "3\n",
      "test utterance:\n",
      "Instead of another 3O, why don't you put in a <url>. And no, it's not a threat - it's an observation - why don't you <url>?\n",
      "------------------------\n",
      "Result: impolite, probability estimates = 0.052343771621071566\n",
      "\n",
      "4\n",
      "test utterance:\n",
      "Great Article RaveenS, Do u want me to add this to the template (Sri Lankan Conflict)? I think it should be included in the ''see also'' section what do you suggest?\n",
      "------------------------\n",
      "Result: polite, probability estimates = 0.9259915839967461\n",
      "\n"
     ]
    }
   ],
   "source": [
    "pred2label = {1: \"polite\", 0: \"impolite\"}\n",
    "\n",
    "for i, idx in enumerate(test_ids[0:5]):\n",
    "    print(i)\n",
    "    test_utt = test_corpus.get_utterance(idx)\n",
    "    ypred, yprob = test_utt.meta['prediction'], test_utt.meta['pred_score']\n",
    "    print(\"test utterance:\\n{}\".format(test_utt.text))\n",
    "    print(\"------------------------\")\n",
    "    print(\"Result: {}, probability estimates = {}\\n\".format(pred2label[ypred], yprob))"
   ]
  },
  {
   "cell_type": "markdown",
   "metadata": {},
   "source": [
    "We can also check out the confusion matrix and classification report "
   ]
  },
  {
   "cell_type": "code",
   "execution_count": 26,
   "metadata": {},
   "outputs": [
    {
     "data": {
      "text/plain": [
       "array([[35, 11],\n",
       "       [16, 38]])"
      ]
     },
     "execution_count": 26,
     "metadata": {},
     "output_type": "execute_result"
    }
   ],
   "source": [
    "clf.confusion_matrix(test_corpus)"
   ]
  },
  {
   "cell_type": "code",
   "execution_count": 27,
   "metadata": {},
   "outputs": [
    {
     "name": "stdout",
     "output_type": "stream",
     "text": [
      "              precision    recall  f1-score   support\n",
      "\n",
      "       False       0.69      0.76      0.72        46\n",
      "        True       0.78      0.70      0.74        54\n",
      "\n",
      "    accuracy                           0.73       100\n",
      "   macro avg       0.73      0.73      0.73       100\n",
      "weighted avg       0.73      0.73      0.73       100\n",
      "\n"
     ]
    }
   ],
   "source": [
    "print(clf.classification_report(test_corpus))"
   ]
  },
  {
   "cell_type": "markdown",
   "metadata": {},
   "source": [
    "We note that this is an implementation of a politeness classifier trained on a specific dataset (wikipedia) and on a specific binarization of politeness classes. Depending on your scenario, you might find it preferable to directly use the politeness strategies, as exemplified in the [conversations gone awry example](https://github.com/CornellNLP/Cornell-Conversational-Analysis-Toolkit/blob/master/examples/conversations-gone-awry/Conversations_Gone_Awry_Prediction.ipynb), rather than a politeness label/score."
   ]
  }
 ],
 "metadata": {
  "kernelspec": {
   "display_name": "convokit-exp",
   "language": "python",
   "name": "convokit-exp"
  },
  "language_info": {
   "codemirror_mode": {
    "name": "ipython",
    "version": 3
   },
   "file_extension": ".py",
   "mimetype": "text/x-python",
   "name": "python",
   "nbconvert_exporter": "python",
   "pygments_lexer": "ipython3",
   "version": "3.7.3"
  }
 },
 "nbformat": 4,
 "nbformat_minor": 4
}
