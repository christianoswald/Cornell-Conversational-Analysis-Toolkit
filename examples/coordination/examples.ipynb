{
 "cells": [
  {
   "cell_type": "markdown",
   "metadata": {},
   "source": [
    "## Example 1"
   ]
  },
  {
   "cell_type": "markdown",
   "metadata": {},
   "source": [
    "This example uses the Wikipedia conversations corpus to test the coordination between editors and admins on Wikipedia:\n",
    "\n",
    "- Do speakers on the whole coordinate more to admins or nonadmins?\n",
    "- Do admins coordinate to other people more than nonadmins do?\n",
    "\n",
    "The plots correspond to those in Figure 1 in the [Echoes of Power paper](https://www.cs.cornell.edu/~cristian/Echoes_of_power.html). The code is not the same as the original, so some discrepancies might occur."
   ]
  },
  {
   "cell_type": "code",
   "execution_count": 1,
   "metadata": {
    "collapsed": true
   },
   "outputs": [],
   "source": [
    "from convokit import Utterance, Corpus, Coordination, download\n",
    "\n",
    "import matplotlib.pyplot as plt\n",
    "import matplotlib.patches as mpatches\n",
    "import numpy as np\n",
    "\n",
    "%matplotlib inline"
   ]
  },
  {
   "cell_type": "code",
   "execution_count": 2,
   "metadata": {
    "collapsed": true
   },
   "outputs": [],
   "source": [
    "# OPTION 1: DOWNLOAD CORPUS\n",
    "# UNCOMMENT THESE LINES TO DOWNLOAD CORPUS\n",
    "# DATA_DIR = '<YOUR DIRECTORY>'\n",
    "# ROOT_DIR = convokit.download('wiki-corpus', data_dir=DATA_DIR)\n",
    "\n",
    "# OPTION 2: READ PREVIOUSLY-DOWNLOADED CORPUS FROM DISK\n",
    "# UNCOMMENT THIS LINE AND REPLACE WITH THE DIRECTORY WHERE THE CORPUS IS LOCATED\n",
    "# ROOT_DIR = '<YOUR DIRECTORY>'\n",
    "\n",
    "corpus = Corpus(ROOT_DIR)"
   ]
  },
  {
   "cell_type": "code",
   "execution_count": 3,
   "metadata": {
    "collapsed": true
   },
   "outputs": [],
   "source": [
    "# helper function to plot two coordination scores against each other as a chart,\n",
    "#   on aggregate and by coordination marker\n",
    "# a is a tuple (speakers, targets)\n",
    "# b is a tuple (speakers, targets)\n",
    "def make_chart(a_scores, b_scores, a_description, b_description, a_color=\"b\", b_color=\"g\"):\n",
    "    # get scores by marker and on aggregate\n",
    "    a_score_by_marker = a_scores[\"marker_agg2\"]\n",
    "    a_agg1, a_agg2, a_agg3 = a_scores[\"agg1\"], a_scores[\"agg2\"], a_scores[\"agg3\"]\n",
    "    b_score_by_marker = b_scores[\"marker_agg2\"]\n",
    "    b_agg1, b_agg2, b_agg3 = b_scores[\"agg1\"], b_scores[\"agg2\"], b_scores[\"agg3\"]\n",
    "\n",
    "    # the rest plots this data as a double bar graph\n",
    "    a_data_points = sorted(a_score_by_marker.items())\n",
    "    b_data_points = sorted(b_score_by_marker.items())\n",
    "    a_data_points, b_data_points = zip(*sorted(zip(a_data_points, b_data_points),\n",
    "        key=lambda x: x[0][1], reverse=True))\n",
    "    labels, a_data_points = zip(*a_data_points)\n",
    "    _, b_data_points = zip(*b_data_points)\n",
    "\n",
    "    labels = [\"aggregate 1\", \"aggregate 2\", \"aggregate 3\"] + list(labels)\n",
    "    a_data_points = [a_agg1, a_agg2, a_agg3] + list(a_data_points)\n",
    "    b_data_points = [b_agg1, b_agg2, b_agg3] + list(b_data_points)\n",
    "\n",
    "    fig, ax = plt.subplots()\n",
    "    ax.set_xticks(np.arange(len(a_data_points)) + 0.35)\n",
    "    ax.set_xticklabels(labels, rotation=\"vertical\")\n",
    "\n",
    "    ax.bar(np.arange(len(a_data_points)), a_data_points, 0.35, color=a_color)\n",
    "    ax.bar(np.arange(len(b_data_points)) + 0.35, b_data_points, 0.35, color=b_color)\n",
    "\n",
    "    b_patch = mpatches.Patch(color=\"b\",\n",
    "                             label=a_description + \" (total: \" +\n",
    "                             str(a_scores[\"count_agg1\"]) + \", \" +\n",
    "                             str(a_scores[\"count_agg2\"]) + \")\")\n",
    "    g_patch = mpatches.Patch(color=\"g\",\n",
    "                             label=b_description + \" (total: \"  +\n",
    "                             str(b_scores[\"count_agg1\"]) + \", \" +\n",
    "                             str(b_scores[\"count_agg2\"]) + \")\")\n",
    "    plt.legend(handles=[b_patch, g_patch])\n",
    "\n",
    "    filename = str(a_description) + \" vs \" + str(b_description) + \".png\"\n",
    "    plt.savefig(filename, bbox_inches=\"tight\")\n",
    "    print('Created chart \"' + filename + '\"')"
   ]
  },
  {
   "cell_type": "code",
   "execution_count": null,
   "metadata": {
    "collapsed": true
   },
   "outputs": [],
   "source": [
    "# create coordination object\n",
    "coord = Coordination()\n",
    "coord.fit(corpus)\n",
    "\n",
    "# get all groups of speakers that we want to compare\n",
    "everyone = lambda speaker: True\n",
    "admins = lambda speaker: speaker.meta[\"is-admin\"]\n",
    "nonadmins = lambda speaker: not speaker.meta[\"is-admin\"]\n",
    "split = [\"is-admin\"]\n",
    "\n",
    "# do speakers on the whole coordinate more to admins or nonadmins?\n",
    "make_chart(\n",
    "    coord.summarize(corpus, everyone, admins, focus=\"targets\", summary_report=True,\n",
    "                    target_thresh=7, split_by_attribs=split),\n",
    "    coord.summarize(corpus, everyone, nonadmins, focus=\"targets\", summary_report=True,\n",
    "                    target_thresh=7, split_by_attribs=split),\n",
    "    \"Target-admins\", \"Target-nonadmins\"\n",
    ")\n",
    "# do admins coordinate to other people more than nonadmins do?\n",
    "make_chart(\n",
    "    coord.summarize(corpus, admins, everyone, summary_report=True,\n",
    "                    speaker_thresh=7, target_thresh=7, split_by_attribs=split),\n",
    "    coord.summarize(corpus, nonadmins, everyone, summary_report=True,\n",
    "                    speaker_thresh=7, target_thresh=7, split_by_attribs=split),\n",
    "    \"Speaker-admins\", \"Speaker-nonadmins\"\n",
    ")"
   ]
  },
  {
   "cell_type": "markdown",
   "metadata": {},
   "source": [
    "## Example 2"
   ]
  },
  {
   "cell_type": "markdown",
   "metadata": {},
   "source": [
    "This example uses the [Supreme Court Oral Arguments corpus](https://convokit.cornell.edu/documentation/oyez.html) to compute some simple information:\n",
    "- Which justices coordinate the most to others?\n",
    "- Which justices are coordinated to the most?"
   ]
  },
  {
   "cell_type": "code",
   "execution_count": 1,
   "metadata": {
    "collapsed": true
   },
   "outputs": [],
   "source": [
    "import convokit\n",
    "\n",
    "from convokit import Corpus"
   ]
  },
  {
   "cell_type": "code",
   "execution_count": null,
   "metadata": {
    "collapsed": true,
    "scrolled": true
   },
   "outputs": [],
   "source": [
    "# OPTION 1: DOWNLOAD CORPUS\n",
    "# UNCOMMENT THESE LINES TO DOWNLOAD CORPUS\n",
    "# DATA_DIR = '<YOUR DIRECTORY>'\n",
    "# ROOT_DIR = convokit.download('supreme-corpus', data_dir=DATA_DIR)\n",
    "\n",
    "# OPTION 2: READ PREVIOUSLY-DOWNLOADED CORPUS FROM DISK\n",
    "# UNCOMMENT THIS LINE AND REPLACE WITH THE DIRECTORY WHERE THE CORPUS IS LOCATED\n",
    "# ROOT_DIR = '<YOUR DIRECTORY>'\n",
    "\n",
    "corpus = Corpus(ROOT_DIR)"
   ]
  },
  {
   "cell_type": "code",
   "execution_count": 7,
   "metadata": {
    "scrolled": true
   },
   "outputs": [
    {
     "name": "stdout",
     "output_type": "stream",
     "text": [
      "Justices, ranked by how much they coordinate to others:\n",
      "j__sandra_day_oconnor 0.04285\n",
      "j__david_h_souter 0.04059\n",
      "j__antonin_scalia 0.03841\n",
      "j__potter_stewart 0.03784\n",
      "j__stephen_g_breyer 0.03635\n",
      "j__john_paul_stevens 0.03552\n",
      "j__anthony_m_kennedy 0.03482\n",
      "j__john_m_harlan 0.0342\n",
      "j__samuel_a_alito_jr 0.03338\n",
      "j__thurgood_marshall 0.0327\n",
      "j__byron_r_white 0.0325\n",
      "j__felix_frankfurter 0.03209\n",
      "j__william_j_brennan_jr 0.03155\n",
      "j__william_o_douglas 0.03002\n",
      "j__stanley_reed 0.02947\n",
      "j__john_m_harlan2 0.0283\n",
      "j__hugo_l_black 0.02711\n",
      "j__lewis_f_powell_jr 0.02566\n",
      "j__abe_fortas 0.02558\n",
      "j__harold_burton 0.02521\n",
      "j__ruth_bader_ginsburg 0.02515\n",
      "j__harry_a_blackmun 0.023\n",
      "j__william_h_rehnquist 0.02291\n",
      "j__elena_kagan 0.02244\n",
      "j__tom_c_clark 0.02083\n",
      "j__earl_warren 0.01949\n",
      "j__sonia_sotomayor 0.01784\n",
      "j__warren_e_burger 0.0166\n",
      "j__charles_e_whittaker 0.01272\n",
      "j__neil_gorsuch 0.01266\n",
      "j__john_g_roberts_jr 0.01147\n",
      "j__sherman_minton 0.01097\n",
      "j__brett_m_kavanaugh 0.01032\n",
      "j__arthur_j_goldberg 0.00864\n",
      "j__clarence_thomas -0.00061\n",
      "\n",
      "Justices, ranked by how much others coordinate to them:\n",
      "j__clarence_thomas 0.07485\n",
      "j__brett_m_kavanaugh 0.06252\n",
      "j__sherman_minton 0.05561\n",
      "j__elena_kagan 0.04797\n",
      "j__lewis_f_powell_jr 0.04392\n",
      "j__harold_burton 0.04254\n",
      "j__ruth_bader_ginsburg 0.04119\n",
      "j__neil_gorsuch 0.04088\n",
      "j__harry_a_blackmun 0.0371\n",
      "j__tom_c_clark 0.03594\n",
      "j__stanley_reed 0.0353\n",
      "j__sandra_day_oconnor 0.03171\n",
      "j__hugo_l_black 0.03139\n",
      "j__samuel_a_alito_jr 0.03071\n",
      "j__william_h_rehnquist 0.03068\n",
      "j__william_o_douglas 0.0305\n",
      "j__thurgood_marshall 0.02957\n",
      "j__charles_e_whittaker 0.02951\n",
      "j__david_h_souter 0.02873\n",
      "j__william_j_brennan_jr 0.02806\n",
      "j__john_m_harlan2 0.02744\n",
      "j__abe_fortas 0.02667\n",
      "j__sonia_sotomayor 0.02653\n",
      "j__anthony_m_kennedy 0.02533\n",
      "j__potter_stewart 0.02515\n",
      "j__byron_r_white 0.02458\n",
      "j__antonin_scalia 0.02404\n",
      "j__john_paul_stevens 0.02211\n",
      "j__felix_frankfurter 0.02137\n",
      "j__john_g_roberts_jr 0.02118\n",
      "j__stephen_g_breyer 0.01708\n",
      "j__john_m_harlan 0.01393\n",
      "j__arthur_j_goldberg 0.01166\n",
      "j__warren_e_burger 0.0029\n",
      "j__earl_warren -0.01235\n",
      "\n"
     ]
    }
   ],
   "source": [
    "# compute coordination scores on this corpus\n",
    "coord = convokit.Coordination()\n",
    "coord.fit(corpus)\n",
    "\n",
    "# get coordination scores\n",
    "coord.transform(corpus)\n",
    "\n",
    "# get set of all justices\n",
    "justices = lambda speaker: speaker.meta[\"type\"] == \"J\"\n",
    "# get set of all speakers\n",
    "everyone = lambda speaker: True\n",
    "\n",
    "# compute coordination from each justice to everyone\n",
    "print(\"Justices, ranked by how much they coordinate to others:\")\n",
    "justices_to_everyone = coord.summarize(corpus, justices, everyone)\n",
    "for justice, score in sorted(justices_to_everyone.averages_by_speaker().items(),\n",
    "    key=lambda x: x[1], reverse=True):\n",
    "    print(justice.id, round(score, 5))\n",
    "print()\n",
    "\n",
    "# compute coordination from everyone to each justice\n",
    "print(\"Justices, ranked by how much others coordinate to them:\")\n",
    "everyone_to_justices = coord.summarize(corpus, everyone, justices, focus=\"targets\")\n",
    "for justice, score in sorted(everyone_to_justices.averages_by_speaker().items(), \n",
    "    key=lambda x: x[1], reverse=True):\n",
    "    print(justice.id, round(score, 5))\n",
    "print()"
   ]
  },
  {
   "cell_type": "markdown",
   "metadata": {},
   "source": [
    "## Example 3"
   ]
  },
  {
   "cell_type": "markdown",
   "metadata": {},
   "source": [
    "This example uses the Supreme Court Oral Argument Corpus to answer these questions:\n",
    "- Do lawyers coordinate more to unfavorable (i.e., justices that eventually vote against their case) or favorable justices? \n",
    "- When talking to lawyers, do unfavorable or favorable justices coordinate more?\n",
    "\n",
    "The plots correspond to Figures 4 and 5 in the [Echoes of Power paper](https://www.cs.cornell.edu/~cristian/Echoes_of_power.html). For this example, we use only the oral arguments for the court cases analyzed in the original paper. The code and the data are not identical with the ones originally used in the paper, so some discrepancies might occur."
   ]
  },
  {
   "cell_type": "code",
   "execution_count": 9,
   "metadata": {
    "collapsed": true
   },
   "outputs": [],
   "source": [
    "case_ids = {'03-1164', '04-1332', '04-1140', '04-805', '04-1495', '05-352', '04-1360b', '06-5306', '03-1388', '04-473b', '03-8661', '03-1160', '03-633', '05-1508', '05-746', '05-547', '05-502', '04-759', '03-1116', '05-1240', '03-287', '04-607', '05-1126', '04-1477', '04-8990', '06-480', '04-1152', '05-1429', '03-1488', '04-10566', '04-905', '05-493', '05-1575', '04-848', '05-983', '03-1395', '06-5754', '04-52', '05-9264', '03-725', '05-184', '04-1131', '04-698', '05-381', '06-593', '02-1472', '04-712', '04-1376', '03-184', '06-116', '04-1618', '03-1500', '03-9627', '05-669', '05-85', '05-7058', '06-313', '05-1631', '05-6551', '04-1244', '05-705', '06-84', '03-1693', '04-593', '04-1034', '04-944', '04-1186', '05-1342', '04-277', '04-37', '04-70', '06-219', '04-1329', '05-465', '05-595', '04-631', '03-1230', '06-278', '04-473', '05-130', '03-814', '04-1414', '04-433', '05-83', '04-637', '04-1327', '03-9685', '02-1672', '03-1696', '04-1170b', '03-636', '04-1371', '05-1272', '04-6964', '05-380', '05-996', '03-1407', '05-1256', '05-998', '03-932', '06-5247', '04-1067', '05-1157', '03-923', '05-1541', '05-9222', '05-5992', '03-9168', '05-200', '05-260', '04-368', '04-603', '05-204', '04-480', '04-1528', '04-721', '03-10198', '04-495', '03-878', '03-9877', '04-1527', '05-593', '04-1506', '05-128', '06-5618', '05-1074', '03-9560', '03-892', '04-1084', '04-980', '05-7053', '04-881', '03-1237', '04-1324', '05-416', '04-5928', '05-1629', '04-5293', '03-9046', '04-163', '05-5705', '03-1293', '04-1581', '04-597', '04-169', '03-1423', '03-407', '03-750', '05-1056', '03-388', '05-5224', '03-931', '03-1238', '04-1203', '03-1454', '05-259', '05-11284', '05-8820', '05-608', '04-1739', '06-102', '04-5462', '03-855', '03-1039', '04-514', '04-563', '05-11304', '05-8794', '04-623', '04-885', '04-1170', '05-1589', '04-9728', '06-157', '04-5286', '04-1264', '05-908', '04-1704', '05-848', '04-1350', '05-1120', '03-409', '06-484', '04-1144', '05-785', '03-1601', '04-6432', '04-373', '04-1544', '04-278', '05-409', '05-5966', '04-928', '05-1382', '05-915', '05-1345', '128orig', '04-340', '03-1566', '05-18', '105original', '03-9659', '04-1360', '03-710'}\n",
    "\n",
    "corpus = corpus.filter_utterances_by(lambda u: u.meta[\"case_id\"][5:] in case_ids)"
   ]
  },
  {
   "cell_type": "code",
   "execution_count": 10,
   "metadata": {},
   "outputs": [
    {
     "name": "stdout",
     "output_type": "stream",
     "text": [
      "Created chart \"Target-unfavorable justice vs Target-favorable justice.png\"\n",
      "Created chart \"Speaker-unfavorable justice vs Speaker-favorable justice.png\"\n"
     ]
    },
    {
     "data": {
      "image/png": "[encoded data removed]",
      "text/plain": [
       "<Figure size 432x288 with 1 Axes>"
      ]
     },
     "metadata": {
      "needs_background": "light"
     },
     "output_type": "display_data"
    },
    {
     "data": {
      "image/png": "[encoded data removed]",
      "text/plain": [
       "<Figure size 432x288 with 1 Axes>"
      ]
     },
     "metadata": {
      "needs_background": "light"
     },
     "output_type": "display_data"
    }
   ],
   "source": [
    "# split speakers by case id\n",
    "# this treats the same person across two different cases as two different speakers\n",
    "split = [\"case_id\"]\n",
    "\n",
    "# create coordination object\n",
    "coord = Coordination()\n",
    "coord.fit(corpus)\n",
    "\n",
    "# get all groups of speakers that we want to compare\n",
    "everyone = lambda speaker: True\n",
    "justices = lambda speaker: speaker.meta[\"type\"] == \"J\"\n",
    "lawyers = lambda speaker: speaker.meta[\"type\"] == \"A\"\n",
    "\n",
    "# filter out justice utterances, leaving only justices who voted on the same side as the advocates speaking to them\n",
    "def target_justice_is_favorable(speaker_utt, target_utt):\n",
    "    convo = speaker_utt.get_conversation()\n",
    "    if convo.meta[\"votes_side\"] is None: return False\n",
    "    if speaker_utt.speaker.id not in convo.meta[\"advocates\"]: return False\n",
    "    lawyer_side = convo.meta[\"advocates\"][speaker_utt.speaker.id][\"side\"]\n",
    "    if target_utt.speaker.id not in convo.meta[\"votes_side\"]: return False\n",
    "    justice_side = convo.meta[\"votes_side\"][target_utt.speaker.id]\n",
    "    return justice_side == lawyer_side\n",
    "\n",
    "def target_justice_is_unfavorable(speaker_utt, target_utt):\n",
    "    convo = speaker_utt.get_conversation()\n",
    "    if convo.meta[\"votes_side\"] is None: return False\n",
    "    if speaker_utt.speaker.id not in convo.meta[\"advocates\"]: return False\n",
    "    lawyer_side = convo.meta[\"advocates\"][speaker_utt.speaker.id][\"side\"]\n",
    "    if target_utt.speaker.id not in convo.meta[\"votes_side\"]: return False\n",
    "    justice_side = convo.meta[\"votes_side\"][target_utt.speaker.id]\n",
    "    return justice_side != lawyer_side\n",
    "\n",
    "# filter out justice utterances, leaving only justices who voted on the same side as the advocates they spoke to\n",
    "def speaker_justice_is_favorable(speaker_utt, target_utt):\n",
    "    convo = speaker_utt.get_conversation()\n",
    "    if convo.meta[\"votes_side\"] is None: return False\n",
    "    if target_utt.speaker.id not in convo.meta[\"advocates\"]: return False\n",
    "    lawyer_side = convo.meta[\"advocates\"][target_utt.speaker.id][\"side\"]\n",
    "    if speaker_utt.speaker.id not in convo.meta[\"votes_side\"]: return False\n",
    "    justice_side = convo.meta[\"votes_side\"][speaker_utt.speaker.id]\n",
    "    return justice_side == lawyer_side\n",
    "\n",
    "def speaker_justice_is_unfavorable(speaker_utt, target_utt):\n",
    "    convo = speaker_utt.get_conversation()\n",
    "    if convo.meta[\"votes_side\"] is None: return False\n",
    "    if target_utt.speaker.id not in convo.meta[\"advocates\"]: return False\n",
    "    lawyer_side = convo.meta[\"advocates\"][target_utt.speaker.id][\"side\"]\n",
    "    if speaker_utt.speaker.id not in convo.meta[\"votes_side\"]: return False\n",
    "    justice_side = convo.meta[\"votes_side\"][speaker_utt.speaker.id]\n",
    "    return justice_side != lawyer_side\n",
    "\n",
    "# do lawyers coordinate more to unfavorable or favorable justices?\n",
    "make_chart(\n",
    "    coord.summarize(corpus, lawyers, justices, summary_report=True,\n",
    "                    target_thresh=3, speaker_thresh=3, split_by_attribs=split,\n",
    "                    target_utterance_selector=target_justice_is_unfavorable),\n",
    "    coord.summarize(corpus, lawyers, justices, summary_report=True,\n",
    "                    target_thresh=3, speaker_thresh=3, split_by_attribs=split,\n",
    "                    target_utterance_selector=target_justice_is_favorable),\n",
    "    \"Target-unfavorable justice\", \"Target-favorable justice\"\n",
    ")\n",
    "# do unfavorable justices coordinate to lawyers more than favorable justices, or\n",
    "#   vice versa?\n",
    "make_chart(\n",
    "    coord.summarize(corpus, justices, lawyers, summary_report=True,\n",
    "                    target_thresh=6, split_by_attribs=split,\n",
    "                    speaker_utterance_selector=speaker_justice_is_unfavorable),\n",
    "    coord.summarize(corpus, justices, lawyers, summary_report=True,\n",
    "                    target_thresh=6, split_by_attribs=split,\n",
    "                    speaker_utterance_selector=speaker_justice_is_favorable),\n",
    "    \"Speaker-unfavorable justice\", \"Speaker-favorable justice\"\n",
    ")"
   ]
  },
  {
   "cell_type": "code",
   "execution_count": null,
   "metadata": {
    "collapsed": true
   },
   "outputs": [],
   "source": []
  }
 ],
 "metadata": {
  "kernelspec": {
   "display_name": "Python 3",
   "language": "python",
   "name": "python3"
  },
  "language_info": {
   "codemirror_mode": {
    "name": "ipython",
    "version": 3
   },
   "file_extension": ".py",
   "mimetype": "text/x-python",
   "name": "python",
   "nbconvert_exporter": "python",
   "pygments_lexer": "ipython3",
   "version": "3.6.3"
  }
 },
 "nbformat": 4,
 "nbformat_minor": 2
}
